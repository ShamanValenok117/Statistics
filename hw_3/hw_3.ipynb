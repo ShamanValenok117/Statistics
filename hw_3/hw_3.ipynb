{
 "cells": [
  {
   "cell_type": "code",
   "execution_count": 1,
   "metadata": {},
   "outputs": [],
   "source": [
    "import numpy as np\n",
    "import matplotlib as plt\n",
    "import pandas as pd"
   ]
  },
  {
   "cell_type": "code",
   "execution_count": 2,
   "metadata": {},
   "outputs": [
    {
     "data": {
      "image/png": "[encoded data removed]",
      "text/plain": [
       "<IPython.core.display.Image object>"
      ]
     },
     "execution_count": 2,
     "metadata": {},
     "output_type": "execute_result"
    }
   ],
   "source": [
    "from IPython.display import Image\n",
    "Image(\"hw_pic.png\")"
   ]
  },
  {
   "cell_type": "markdown",
   "metadata": {},
   "source": [
    "# Проверим результат перебором: \n"
   ]
  },
  {
   "cell_type": "markdown",
   "metadata": {},
   "source": [
    "### Служебные функции:"
   ]
  },
  {
   "cell_type": "code",
   "execution_count": 70,
   "metadata": {},
   "outputs": [],
   "source": [
    "prizes = {111:10,\n",
    "         333:15,\n",
    "         555:50,\n",
    "         999:100,\n",
    "         777:200,\n",
    "         0:1,\n",
    "         7:3,\n",
    "         77:5}\n",
    "\n",
    "def c3po(val): \n",
    "    if val in prizes:\n",
    "        return prizes[val]\n",
    "    if len(str(val)) == 1: \n",
    "        return 0\n",
    "    \n",
    "    if ( str(val)[-2:] == '77' ) :\n",
    "        return 5\n",
    "    if ( str(val)[-2:] == '00' ) :\n",
    "        return 2\n",
    "    \n",
    "    if ( str(val)[-1:] == '7' ) :\n",
    "        return 3\n",
    "    if ( str(val)[-1:] == '0' ) :\n",
    "        return 1\n",
    " \n",
    "    return 0\n"
   ]
  },
  {
   "cell_type": "code",
   "execution_count": 69,
   "metadata": {},
   "outputs": [
    {
     "data": {
      "text/plain": [
       "{35: 0, 554: 0, 524: 0, 847: 3, 827: 3, 185: 0, 808: 0, 947: 3, 652: 0, 383: 0}"
      ]
     },
     "execution_count": 69,
     "metadata": {},
     "output_type": "execute_result"
    }
   ],
   "source": [
    "#--- проверим работу\n",
    "{x:c3po(x) for x in np.random.randint(min_,max_,10)}"
   ]
  },
  {
   "cell_type": "code",
   "execution_count": 162,
   "metadata": {},
   "outputs": [
    {
     "name": "stdout",
     "output_type": "stream",
     "text": [
      "Средний проигрыш из 10000000 попыток равен 0.1984272\n",
      "--------------------------------------------------\n",
      "\tИгра для игрока не выгодна \n",
      "\tВ среднем игрок за одну игру проигрывает 0.2 руб.\n"
     ]
    }
   ],
   "source": [
    "selection = 10000000 # объем выборки\n",
    "min_ = 0             # минимальное число\n",
    "max_ = 1000          # макисмальное число\n",
    "win_amount = 0       # общий выигрыш\n",
    "\n",
    "np.random.seed(None)\n",
    "\n",
    "for  i in range(0,selection,1):\n",
    "    value = np.random.randint(min_,max_)\n",
    "    prize = c3po(value) - 1\n",
    "    win_amount += prize\n",
    "\n",
    "print(f\"Средний {'выигрыш' if win_amount > 0 else 'проигрыш'} из {selection} попыток равен {abs(win_amount/selection)}\" + \"\\n\" + '-' * 50)\n",
    "print(\"\\t\" + f\"Игра для игрока {'выгодна' if win_amount > 0 else 'не выгодна'} \")\n",
    "print(\"\\t\" + f\"В среднем игрок за одну игру {'выигрывает' if win_amount > 0 else 'проигрывает'} {abs(round(win_amount/selection,2))} руб.\")\n"
   ]
  },
  {
   "cell_type": "markdown",
   "metadata": {},
   "source": [
    "# Проверим результат теоретически: \n",
    "\n",
    "Посчитаем вероятности выпадения каждого числа:"
   ]
  },
  {
   "cell_type": "code",
   "execution_count": 149,
   "metadata": {},
   "outputs": [
    {
     "data": {
      "text/html": [
       "<style  type=\"text/css\" >\n",
       "#T_a9c9cb36_979d_11eb_8c04_5453ed2e2dc1row0_col0,#T_a9c9cb36_979d_11eb_8c04_5453ed2e2dc1row0_col1,#T_a9c9cb36_979d_11eb_8c04_5453ed2e2dc1row0_col2,#T_a9c9cb36_979d_11eb_8c04_5453ed2e2dc1row1_col0,#T_a9c9cb36_979d_11eb_8c04_5453ed2e2dc1row1_col1,#T_a9c9cb36_979d_11eb_8c04_5453ed2e2dc1row1_col2,#T_a9c9cb36_979d_11eb_8c04_5453ed2e2dc1row2_col0,#T_a9c9cb36_979d_11eb_8c04_5453ed2e2dc1row2_col1,#T_a9c9cb36_979d_11eb_8c04_5453ed2e2dc1row2_col2,#T_a9c9cb36_979d_11eb_8c04_5453ed2e2dc1row3_col0,#T_a9c9cb36_979d_11eb_8c04_5453ed2e2dc1row3_col1,#T_a9c9cb36_979d_11eb_8c04_5453ed2e2dc1row3_col2,#T_a9c9cb36_979d_11eb_8c04_5453ed2e2dc1row4_col0,#T_a9c9cb36_979d_11eb_8c04_5453ed2e2dc1row4_col1,#T_a9c9cb36_979d_11eb_8c04_5453ed2e2dc1row4_col2,#T_a9c9cb36_979d_11eb_8c04_5453ed2e2dc1row5_col0,#T_a9c9cb36_979d_11eb_8c04_5453ed2e2dc1row5_col1,#T_a9c9cb36_979d_11eb_8c04_5453ed2e2dc1row5_col2,#T_a9c9cb36_979d_11eb_8c04_5453ed2e2dc1row6_col0,#T_a9c9cb36_979d_11eb_8c04_5453ed2e2dc1row6_col1,#T_a9c9cb36_979d_11eb_8c04_5453ed2e2dc1row6_col2,#T_a9c9cb36_979d_11eb_8c04_5453ed2e2dc1row7_col0,#T_a9c9cb36_979d_11eb_8c04_5453ed2e2dc1row7_col1,#T_a9c9cb36_979d_11eb_8c04_5453ed2e2dc1row7_col2,#T_a9c9cb36_979d_11eb_8c04_5453ed2e2dc1row8_col0,#T_a9c9cb36_979d_11eb_8c04_5453ed2e2dc1row8_col1,#T_a9c9cb36_979d_11eb_8c04_5453ed2e2dc1row8_col2{\n",
       "            text-align:  center;\n",
       "        }</style><table id=\"T_a9c9cb36_979d_11eb_8c04_5453ed2e2dc1\" ><thead>    <tr>        <th class=\"blank level0\" ></th>        <th class=\"col_heading level0 col0\" >Combination</th>        <th class=\"col_heading level0 col1\" >Probability, %</th>        <th class=\"col_heading level0 col2\" >Prize</th>    </tr></thead><tbody>\n",
       "                <tr>\n",
       "                        <th id=\"T_a9c9cb36_979d_11eb_8c04_5453ed2e2dc1level0_row0\" class=\"row_heading level0 row0\" >0</th>\n",
       "                        <td id=\"T_a9c9cb36_979d_11eb_8c04_5453ed2e2dc1row0_col0\" class=\"data row0 col0\" >**0</td>\n",
       "                        <td id=\"T_a9c9cb36_979d_11eb_8c04_5453ed2e2dc1row0_col1\" class=\"data row0 col1\" >10</td>\n",
       "                        <td id=\"T_a9c9cb36_979d_11eb_8c04_5453ed2e2dc1row0_col2\" class=\"data row0 col2\" >1</td>\n",
       "            </tr>\n",
       "            <tr>\n",
       "                        <th id=\"T_a9c9cb36_979d_11eb_8c04_5453ed2e2dc1level0_row1\" class=\"row_heading level0 row1\" >1</th>\n",
       "                        <td id=\"T_a9c9cb36_979d_11eb_8c04_5453ed2e2dc1row1_col0\" class=\"data row1 col0\" >*00</td>\n",
       "                        <td id=\"T_a9c9cb36_979d_11eb_8c04_5453ed2e2dc1row1_col1\" class=\"data row1 col1\" >1</td>\n",
       "                        <td id=\"T_a9c9cb36_979d_11eb_8c04_5453ed2e2dc1row1_col2\" class=\"data row1 col2\" >2</td>\n",
       "            </tr>\n",
       "            <tr>\n",
       "                        <th id=\"T_a9c9cb36_979d_11eb_8c04_5453ed2e2dc1level0_row2\" class=\"row_heading level0 row2\" >2</th>\n",
       "                        <td id=\"T_a9c9cb36_979d_11eb_8c04_5453ed2e2dc1row2_col0\" class=\"data row2 col0\" >**7</td>\n",
       "                        <td id=\"T_a9c9cb36_979d_11eb_8c04_5453ed2e2dc1row2_col1\" class=\"data row2 col1\" >10</td>\n",
       "                        <td id=\"T_a9c9cb36_979d_11eb_8c04_5453ed2e2dc1row2_col2\" class=\"data row2 col2\" >3</td>\n",
       "            </tr>\n",
       "            <tr>\n",
       "                        <th id=\"T_a9c9cb36_979d_11eb_8c04_5453ed2e2dc1level0_row3\" class=\"row_heading level0 row3\" >3</th>\n",
       "                        <td id=\"T_a9c9cb36_979d_11eb_8c04_5453ed2e2dc1row3_col0\" class=\"data row3 col0\" >*77</td>\n",
       "                        <td id=\"T_a9c9cb36_979d_11eb_8c04_5453ed2e2dc1row3_col1\" class=\"data row3 col1\" >1</td>\n",
       "                        <td id=\"T_a9c9cb36_979d_11eb_8c04_5453ed2e2dc1row3_col2\" class=\"data row3 col2\" >5</td>\n",
       "            </tr>\n",
       "            <tr>\n",
       "                        <th id=\"T_a9c9cb36_979d_11eb_8c04_5453ed2e2dc1level0_row4\" class=\"row_heading level0 row4\" >4</th>\n",
       "                        <td id=\"T_a9c9cb36_979d_11eb_8c04_5453ed2e2dc1row4_col0\" class=\"data row4 col0\" >111</td>\n",
       "                        <td id=\"T_a9c9cb36_979d_11eb_8c04_5453ed2e2dc1row4_col1\" class=\"data row4 col1\" >0.100000</td>\n",
       "                        <td id=\"T_a9c9cb36_979d_11eb_8c04_5453ed2e2dc1row4_col2\" class=\"data row4 col2\" >10</td>\n",
       "            </tr>\n",
       "            <tr>\n",
       "                        <th id=\"T_a9c9cb36_979d_11eb_8c04_5453ed2e2dc1level0_row5\" class=\"row_heading level0 row5\" >5</th>\n",
       "                        <td id=\"T_a9c9cb36_979d_11eb_8c04_5453ed2e2dc1row5_col0\" class=\"data row5 col0\" >333</td>\n",
       "                        <td id=\"T_a9c9cb36_979d_11eb_8c04_5453ed2e2dc1row5_col1\" class=\"data row5 col1\" >0.100000</td>\n",
       "                        <td id=\"T_a9c9cb36_979d_11eb_8c04_5453ed2e2dc1row5_col2\" class=\"data row5 col2\" >15</td>\n",
       "            </tr>\n",
       "            <tr>\n",
       "                        <th id=\"T_a9c9cb36_979d_11eb_8c04_5453ed2e2dc1level0_row6\" class=\"row_heading level0 row6\" >6</th>\n",
       "                        <td id=\"T_a9c9cb36_979d_11eb_8c04_5453ed2e2dc1row6_col0\" class=\"data row6 col0\" >555</td>\n",
       "                        <td id=\"T_a9c9cb36_979d_11eb_8c04_5453ed2e2dc1row6_col1\" class=\"data row6 col1\" >0.100000</td>\n",
       "                        <td id=\"T_a9c9cb36_979d_11eb_8c04_5453ed2e2dc1row6_col2\" class=\"data row6 col2\" >50</td>\n",
       "            </tr>\n",
       "            <tr>\n",
       "                        <th id=\"T_a9c9cb36_979d_11eb_8c04_5453ed2e2dc1level0_row7\" class=\"row_heading level0 row7\" >7</th>\n",
       "                        <td id=\"T_a9c9cb36_979d_11eb_8c04_5453ed2e2dc1row7_col0\" class=\"data row7 col0\" >999</td>\n",
       "                        <td id=\"T_a9c9cb36_979d_11eb_8c04_5453ed2e2dc1row7_col1\" class=\"data row7 col1\" >0.100000</td>\n",
       "                        <td id=\"T_a9c9cb36_979d_11eb_8c04_5453ed2e2dc1row7_col2\" class=\"data row7 col2\" >100</td>\n",
       "            </tr>\n",
       "            <tr>\n",
       "                        <th id=\"T_a9c9cb36_979d_11eb_8c04_5453ed2e2dc1level0_row8\" class=\"row_heading level0 row8\" >8</th>\n",
       "                        <td id=\"T_a9c9cb36_979d_11eb_8c04_5453ed2e2dc1row8_col0\" class=\"data row8 col0\" >777</td>\n",
       "                        <td id=\"T_a9c9cb36_979d_11eb_8c04_5453ed2e2dc1row8_col1\" class=\"data row8 col1\" >0.100000</td>\n",
       "                        <td id=\"T_a9c9cb36_979d_11eb_8c04_5453ed2e2dc1row8_col2\" class=\"data row8 col2\" >200</td>\n",
       "            </tr>\n",
       "    </tbody></table>"
      ],
      "text/plain": [
       "<pandas.io.formats.style.Styler at 0xb06fd60>"
      ]
     },
     "execution_count": 149,
     "metadata": {},
     "output_type": "execute_result"
    }
   ],
   "source": [
    "prob = pd.DataFrame(columns=['Combination', 'Probability, %', 'Prize'])\n",
    "\n",
    "prob = prob.append({'Combination':'**0', 'Probability, %':10, 'Prize':1}, ignore_index=True)\n",
    "prob = prob.append({'Combination':'*00', 'Probability, %':1, 'Prize':2}, ignore_index=True)\n",
    "prob = prob.append({'Combination':'**7', 'Probability, %':10, 'Prize':3}, ignore_index=True)\n",
    "prob = prob.append({'Combination':'*77', 'Probability, %':1, 'Prize':5}, ignore_index=True)\n",
    "prob = prob.append({'Combination':'111', 'Probability, %':0.1, 'Prize':10}, ignore_index=True)\n",
    "prob = prob.append({'Combination':'333', 'Probability, %':0.1, 'Prize':15}, ignore_index=True)\n",
    "prob = prob.append({'Combination':'555', 'Probability, %':0.1, 'Prize':50}, ignore_index=True)\n",
    "prob = prob.append({'Combination':'999', 'Probability, %':0.1, 'Prize':100}, ignore_index=True)\n",
    "prob = prob.append({'Combination':'777', 'Probability, %':0.1 , 'Prize':200}, ignore_index=True)\n",
    "\n",
    "prob.style.set_properties(**{'text-align':'center'})"
   ]
  },
  {
   "cell_type": "markdown",
   "metadata": {},
   "source": [
    "Добавим проигрыш:"
   ]
  },
  {
   "cell_type": "code",
   "execution_count": 150,
   "metadata": {},
   "outputs": [
    {
     "data": {
      "text/html": [
       "<style  type=\"text/css\" >\n",
       "#T_ab1b0375_979d_11eb_9fd5_5453ed2e2dc1row0_col0,#T_ab1b0375_979d_11eb_9fd5_5453ed2e2dc1row0_col1,#T_ab1b0375_979d_11eb_9fd5_5453ed2e2dc1row0_col2,#T_ab1b0375_979d_11eb_9fd5_5453ed2e2dc1row1_col0,#T_ab1b0375_979d_11eb_9fd5_5453ed2e2dc1row1_col1,#T_ab1b0375_979d_11eb_9fd5_5453ed2e2dc1row1_col2,#T_ab1b0375_979d_11eb_9fd5_5453ed2e2dc1row2_col0,#T_ab1b0375_979d_11eb_9fd5_5453ed2e2dc1row2_col1,#T_ab1b0375_979d_11eb_9fd5_5453ed2e2dc1row2_col2,#T_ab1b0375_979d_11eb_9fd5_5453ed2e2dc1row3_col0,#T_ab1b0375_979d_11eb_9fd5_5453ed2e2dc1row3_col1,#T_ab1b0375_979d_11eb_9fd5_5453ed2e2dc1row3_col2,#T_ab1b0375_979d_11eb_9fd5_5453ed2e2dc1row4_col0,#T_ab1b0375_979d_11eb_9fd5_5453ed2e2dc1row4_col1,#T_ab1b0375_979d_11eb_9fd5_5453ed2e2dc1row4_col2,#T_ab1b0375_979d_11eb_9fd5_5453ed2e2dc1row5_col0,#T_ab1b0375_979d_11eb_9fd5_5453ed2e2dc1row5_col1,#T_ab1b0375_979d_11eb_9fd5_5453ed2e2dc1row5_col2,#T_ab1b0375_979d_11eb_9fd5_5453ed2e2dc1row6_col0,#T_ab1b0375_979d_11eb_9fd5_5453ed2e2dc1row6_col1,#T_ab1b0375_979d_11eb_9fd5_5453ed2e2dc1row6_col2,#T_ab1b0375_979d_11eb_9fd5_5453ed2e2dc1row7_col0,#T_ab1b0375_979d_11eb_9fd5_5453ed2e2dc1row7_col1,#T_ab1b0375_979d_11eb_9fd5_5453ed2e2dc1row7_col2,#T_ab1b0375_979d_11eb_9fd5_5453ed2e2dc1row8_col0,#T_ab1b0375_979d_11eb_9fd5_5453ed2e2dc1row8_col1,#T_ab1b0375_979d_11eb_9fd5_5453ed2e2dc1row8_col2,#T_ab1b0375_979d_11eb_9fd5_5453ed2e2dc1row9_col0,#T_ab1b0375_979d_11eb_9fd5_5453ed2e2dc1row9_col1,#T_ab1b0375_979d_11eb_9fd5_5453ed2e2dc1row9_col2{\n",
       "            text-align:  center;\n",
       "        }</style><table id=\"T_ab1b0375_979d_11eb_9fd5_5453ed2e2dc1\" ><thead>    <tr>        <th class=\"blank level0\" ></th>        <th class=\"col_heading level0 col0\" >Combination</th>        <th class=\"col_heading level0 col1\" >Probability, %</th>        <th class=\"col_heading level0 col2\" >Prize</th>    </tr></thead><tbody>\n",
       "                <tr>\n",
       "                        <th id=\"T_ab1b0375_979d_11eb_9fd5_5453ed2e2dc1level0_row0\" class=\"row_heading level0 row0\" >0</th>\n",
       "                        <td id=\"T_ab1b0375_979d_11eb_9fd5_5453ed2e2dc1row0_col0\" class=\"data row0 col0\" >**0</td>\n",
       "                        <td id=\"T_ab1b0375_979d_11eb_9fd5_5453ed2e2dc1row0_col1\" class=\"data row0 col1\" >10</td>\n",
       "                        <td id=\"T_ab1b0375_979d_11eb_9fd5_5453ed2e2dc1row0_col2\" class=\"data row0 col2\" >1</td>\n",
       "            </tr>\n",
       "            <tr>\n",
       "                        <th id=\"T_ab1b0375_979d_11eb_9fd5_5453ed2e2dc1level0_row1\" class=\"row_heading level0 row1\" >1</th>\n",
       "                        <td id=\"T_ab1b0375_979d_11eb_9fd5_5453ed2e2dc1row1_col0\" class=\"data row1 col0\" >*00</td>\n",
       "                        <td id=\"T_ab1b0375_979d_11eb_9fd5_5453ed2e2dc1row1_col1\" class=\"data row1 col1\" >1</td>\n",
       "                        <td id=\"T_ab1b0375_979d_11eb_9fd5_5453ed2e2dc1row1_col2\" class=\"data row1 col2\" >2</td>\n",
       "            </tr>\n",
       "            <tr>\n",
       "                        <th id=\"T_ab1b0375_979d_11eb_9fd5_5453ed2e2dc1level0_row2\" class=\"row_heading level0 row2\" >2</th>\n",
       "                        <td id=\"T_ab1b0375_979d_11eb_9fd5_5453ed2e2dc1row2_col0\" class=\"data row2 col0\" >**7</td>\n",
       "                        <td id=\"T_ab1b0375_979d_11eb_9fd5_5453ed2e2dc1row2_col1\" class=\"data row2 col1\" >10</td>\n",
       "                        <td id=\"T_ab1b0375_979d_11eb_9fd5_5453ed2e2dc1row2_col2\" class=\"data row2 col2\" >3</td>\n",
       "            </tr>\n",
       "            <tr>\n",
       "                        <th id=\"T_ab1b0375_979d_11eb_9fd5_5453ed2e2dc1level0_row3\" class=\"row_heading level0 row3\" >3</th>\n",
       "                        <td id=\"T_ab1b0375_979d_11eb_9fd5_5453ed2e2dc1row3_col0\" class=\"data row3 col0\" >*77</td>\n",
       "                        <td id=\"T_ab1b0375_979d_11eb_9fd5_5453ed2e2dc1row3_col1\" class=\"data row3 col1\" >1</td>\n",
       "                        <td id=\"T_ab1b0375_979d_11eb_9fd5_5453ed2e2dc1row3_col2\" class=\"data row3 col2\" >5</td>\n",
       "            </tr>\n",
       "            <tr>\n",
       "                        <th id=\"T_ab1b0375_979d_11eb_9fd5_5453ed2e2dc1level0_row4\" class=\"row_heading level0 row4\" >4</th>\n",
       "                        <td id=\"T_ab1b0375_979d_11eb_9fd5_5453ed2e2dc1row4_col0\" class=\"data row4 col0\" >111</td>\n",
       "                        <td id=\"T_ab1b0375_979d_11eb_9fd5_5453ed2e2dc1row4_col1\" class=\"data row4 col1\" >0.100000</td>\n",
       "                        <td id=\"T_ab1b0375_979d_11eb_9fd5_5453ed2e2dc1row4_col2\" class=\"data row4 col2\" >10</td>\n",
       "            </tr>\n",
       "            <tr>\n",
       "                        <th id=\"T_ab1b0375_979d_11eb_9fd5_5453ed2e2dc1level0_row5\" class=\"row_heading level0 row5\" >5</th>\n",
       "                        <td id=\"T_ab1b0375_979d_11eb_9fd5_5453ed2e2dc1row5_col0\" class=\"data row5 col0\" >333</td>\n",
       "                        <td id=\"T_ab1b0375_979d_11eb_9fd5_5453ed2e2dc1row5_col1\" class=\"data row5 col1\" >0.100000</td>\n",
       "                        <td id=\"T_ab1b0375_979d_11eb_9fd5_5453ed2e2dc1row5_col2\" class=\"data row5 col2\" >15</td>\n",
       "            </tr>\n",
       "            <tr>\n",
       "                        <th id=\"T_ab1b0375_979d_11eb_9fd5_5453ed2e2dc1level0_row6\" class=\"row_heading level0 row6\" >6</th>\n",
       "                        <td id=\"T_ab1b0375_979d_11eb_9fd5_5453ed2e2dc1row6_col0\" class=\"data row6 col0\" >555</td>\n",
       "                        <td id=\"T_ab1b0375_979d_11eb_9fd5_5453ed2e2dc1row6_col1\" class=\"data row6 col1\" >0.100000</td>\n",
       "                        <td id=\"T_ab1b0375_979d_11eb_9fd5_5453ed2e2dc1row6_col2\" class=\"data row6 col2\" >50</td>\n",
       "            </tr>\n",
       "            <tr>\n",
       "                        <th id=\"T_ab1b0375_979d_11eb_9fd5_5453ed2e2dc1level0_row7\" class=\"row_heading level0 row7\" >7</th>\n",
       "                        <td id=\"T_ab1b0375_979d_11eb_9fd5_5453ed2e2dc1row7_col0\" class=\"data row7 col0\" >999</td>\n",
       "                        <td id=\"T_ab1b0375_979d_11eb_9fd5_5453ed2e2dc1row7_col1\" class=\"data row7 col1\" >0.100000</td>\n",
       "                        <td id=\"T_ab1b0375_979d_11eb_9fd5_5453ed2e2dc1row7_col2\" class=\"data row7 col2\" >100</td>\n",
       "            </tr>\n",
       "            <tr>\n",
       "                        <th id=\"T_ab1b0375_979d_11eb_9fd5_5453ed2e2dc1level0_row8\" class=\"row_heading level0 row8\" >8</th>\n",
       "                        <td id=\"T_ab1b0375_979d_11eb_9fd5_5453ed2e2dc1row8_col0\" class=\"data row8 col0\" >777</td>\n",
       "                        <td id=\"T_ab1b0375_979d_11eb_9fd5_5453ed2e2dc1row8_col1\" class=\"data row8 col1\" >0.100000</td>\n",
       "                        <td id=\"T_ab1b0375_979d_11eb_9fd5_5453ed2e2dc1row8_col2\" class=\"data row8 col2\" >200</td>\n",
       "            </tr>\n",
       "            <tr>\n",
       "                        <th id=\"T_ab1b0375_979d_11eb_9fd5_5453ed2e2dc1level0_row9\" class=\"row_heading level0 row9\" >9</th>\n",
       "                        <td id=\"T_ab1b0375_979d_11eb_9fd5_5453ed2e2dc1row9_col0\" class=\"data row9 col0\" >lose</td>\n",
       "                        <td id=\"T_ab1b0375_979d_11eb_9fd5_5453ed2e2dc1row9_col1\" class=\"data row9 col1\" >77.500000</td>\n",
       "                        <td id=\"T_ab1b0375_979d_11eb_9fd5_5453ed2e2dc1row9_col2\" class=\"data row9 col2\" >0</td>\n",
       "            </tr>\n",
       "    </tbody></table>"
      ],
      "text/plain": [
       "<pandas.io.formats.style.Styler at 0xb065820>"
      ]
     },
     "execution_count": 150,
     "metadata": {},
     "output_type": "execute_result"
    }
   ],
   "source": [
    "prob = prob.append({'Combination':'lose', 'Probability, %':100 - float(round(sum(prob['Probability, %']),2) ), 'Prize':0}, ignore_index=True)\n",
    "prob.style.set_properties(**{'text-align':'center'})"
   ]
  },
  {
   "cell_type": "markdown",
   "metadata": {},
   "source": [
    "Учитываем стоимость игры = 1руб. Тогда реальный приз = **(Prize - 1)** :"
   ]
  },
  {
   "cell_type": "code",
   "execution_count": 151,
   "metadata": {},
   "outputs": [
    {
     "data": {
      "text/html": [
       "<style  type=\"text/css\" >\n",
       "#T_ae37ad0e_979d_11eb_ac37_5453ed2e2dc1row0_col0,#T_ae37ad0e_979d_11eb_ac37_5453ed2e2dc1row0_col1,#T_ae37ad0e_979d_11eb_ac37_5453ed2e2dc1row0_col2,#T_ae37ad0e_979d_11eb_ac37_5453ed2e2dc1row0_col3,#T_ae37ad0e_979d_11eb_ac37_5453ed2e2dc1row1_col0,#T_ae37ad0e_979d_11eb_ac37_5453ed2e2dc1row1_col1,#T_ae37ad0e_979d_11eb_ac37_5453ed2e2dc1row1_col2,#T_ae37ad0e_979d_11eb_ac37_5453ed2e2dc1row1_col3,#T_ae37ad0e_979d_11eb_ac37_5453ed2e2dc1row2_col0,#T_ae37ad0e_979d_11eb_ac37_5453ed2e2dc1row2_col1,#T_ae37ad0e_979d_11eb_ac37_5453ed2e2dc1row2_col2,#T_ae37ad0e_979d_11eb_ac37_5453ed2e2dc1row2_col3,#T_ae37ad0e_979d_11eb_ac37_5453ed2e2dc1row3_col0,#T_ae37ad0e_979d_11eb_ac37_5453ed2e2dc1row3_col1,#T_ae37ad0e_979d_11eb_ac37_5453ed2e2dc1row3_col2,#T_ae37ad0e_979d_11eb_ac37_5453ed2e2dc1row3_col3,#T_ae37ad0e_979d_11eb_ac37_5453ed2e2dc1row4_col0,#T_ae37ad0e_979d_11eb_ac37_5453ed2e2dc1row4_col1,#T_ae37ad0e_979d_11eb_ac37_5453ed2e2dc1row4_col2,#T_ae37ad0e_979d_11eb_ac37_5453ed2e2dc1row4_col3,#T_ae37ad0e_979d_11eb_ac37_5453ed2e2dc1row5_col0,#T_ae37ad0e_979d_11eb_ac37_5453ed2e2dc1row5_col1,#T_ae37ad0e_979d_11eb_ac37_5453ed2e2dc1row5_col2,#T_ae37ad0e_979d_11eb_ac37_5453ed2e2dc1row5_col3,#T_ae37ad0e_979d_11eb_ac37_5453ed2e2dc1row6_col0,#T_ae37ad0e_979d_11eb_ac37_5453ed2e2dc1row6_col1,#T_ae37ad0e_979d_11eb_ac37_5453ed2e2dc1row6_col2,#T_ae37ad0e_979d_11eb_ac37_5453ed2e2dc1row6_col3,#T_ae37ad0e_979d_11eb_ac37_5453ed2e2dc1row7_col0,#T_ae37ad0e_979d_11eb_ac37_5453ed2e2dc1row7_col1,#T_ae37ad0e_979d_11eb_ac37_5453ed2e2dc1row7_col2,#T_ae37ad0e_979d_11eb_ac37_5453ed2e2dc1row7_col3,#T_ae37ad0e_979d_11eb_ac37_5453ed2e2dc1row8_col0,#T_ae37ad0e_979d_11eb_ac37_5453ed2e2dc1row8_col1,#T_ae37ad0e_979d_11eb_ac37_5453ed2e2dc1row8_col2,#T_ae37ad0e_979d_11eb_ac37_5453ed2e2dc1row8_col3,#T_ae37ad0e_979d_11eb_ac37_5453ed2e2dc1row9_col0,#T_ae37ad0e_979d_11eb_ac37_5453ed2e2dc1row9_col1,#T_ae37ad0e_979d_11eb_ac37_5453ed2e2dc1row9_col2,#T_ae37ad0e_979d_11eb_ac37_5453ed2e2dc1row9_col3{\n",
       "            text-align:  center;\n",
       "        }</style><table id=\"T_ae37ad0e_979d_11eb_ac37_5453ed2e2dc1\" ><thead>    <tr>        <th class=\"blank level0\" ></th>        <th class=\"col_heading level0 col0\" >Combination</th>        <th class=\"col_heading level0 col1\" >Probability, %</th>        <th class=\"col_heading level0 col2\" >Prize</th>        <th class=\"col_heading level0 col3\" >Real Prize</th>    </tr></thead><tbody>\n",
       "                <tr>\n",
       "                        <th id=\"T_ae37ad0e_979d_11eb_ac37_5453ed2e2dc1level0_row0\" class=\"row_heading level0 row0\" >0</th>\n",
       "                        <td id=\"T_ae37ad0e_979d_11eb_ac37_5453ed2e2dc1row0_col0\" class=\"data row0 col0\" >**0</td>\n",
       "                        <td id=\"T_ae37ad0e_979d_11eb_ac37_5453ed2e2dc1row0_col1\" class=\"data row0 col1\" >10</td>\n",
       "                        <td id=\"T_ae37ad0e_979d_11eb_ac37_5453ed2e2dc1row0_col2\" class=\"data row0 col2\" >1</td>\n",
       "                        <td id=\"T_ae37ad0e_979d_11eb_ac37_5453ed2e2dc1row0_col3\" class=\"data row0 col3\" >0</td>\n",
       "            </tr>\n",
       "            <tr>\n",
       "                        <th id=\"T_ae37ad0e_979d_11eb_ac37_5453ed2e2dc1level0_row1\" class=\"row_heading level0 row1\" >1</th>\n",
       "                        <td id=\"T_ae37ad0e_979d_11eb_ac37_5453ed2e2dc1row1_col0\" class=\"data row1 col0\" >*00</td>\n",
       "                        <td id=\"T_ae37ad0e_979d_11eb_ac37_5453ed2e2dc1row1_col1\" class=\"data row1 col1\" >1</td>\n",
       "                        <td id=\"T_ae37ad0e_979d_11eb_ac37_5453ed2e2dc1row1_col2\" class=\"data row1 col2\" >2</td>\n",
       "                        <td id=\"T_ae37ad0e_979d_11eb_ac37_5453ed2e2dc1row1_col3\" class=\"data row1 col3\" >1</td>\n",
       "            </tr>\n",
       "            <tr>\n",
       "                        <th id=\"T_ae37ad0e_979d_11eb_ac37_5453ed2e2dc1level0_row2\" class=\"row_heading level0 row2\" >2</th>\n",
       "                        <td id=\"T_ae37ad0e_979d_11eb_ac37_5453ed2e2dc1row2_col0\" class=\"data row2 col0\" >**7</td>\n",
       "                        <td id=\"T_ae37ad0e_979d_11eb_ac37_5453ed2e2dc1row2_col1\" class=\"data row2 col1\" >10</td>\n",
       "                        <td id=\"T_ae37ad0e_979d_11eb_ac37_5453ed2e2dc1row2_col2\" class=\"data row2 col2\" >3</td>\n",
       "                        <td id=\"T_ae37ad0e_979d_11eb_ac37_5453ed2e2dc1row2_col3\" class=\"data row2 col3\" >2</td>\n",
       "            </tr>\n",
       "            <tr>\n",
       "                        <th id=\"T_ae37ad0e_979d_11eb_ac37_5453ed2e2dc1level0_row3\" class=\"row_heading level0 row3\" >3</th>\n",
       "                        <td id=\"T_ae37ad0e_979d_11eb_ac37_5453ed2e2dc1row3_col0\" class=\"data row3 col0\" >*77</td>\n",
       "                        <td id=\"T_ae37ad0e_979d_11eb_ac37_5453ed2e2dc1row3_col1\" class=\"data row3 col1\" >1</td>\n",
       "                        <td id=\"T_ae37ad0e_979d_11eb_ac37_5453ed2e2dc1row3_col2\" class=\"data row3 col2\" >5</td>\n",
       "                        <td id=\"T_ae37ad0e_979d_11eb_ac37_5453ed2e2dc1row3_col3\" class=\"data row3 col3\" >4</td>\n",
       "            </tr>\n",
       "            <tr>\n",
       "                        <th id=\"T_ae37ad0e_979d_11eb_ac37_5453ed2e2dc1level0_row4\" class=\"row_heading level0 row4\" >4</th>\n",
       "                        <td id=\"T_ae37ad0e_979d_11eb_ac37_5453ed2e2dc1row4_col0\" class=\"data row4 col0\" >111</td>\n",
       "                        <td id=\"T_ae37ad0e_979d_11eb_ac37_5453ed2e2dc1row4_col1\" class=\"data row4 col1\" >0.100000</td>\n",
       "                        <td id=\"T_ae37ad0e_979d_11eb_ac37_5453ed2e2dc1row4_col2\" class=\"data row4 col2\" >10</td>\n",
       "                        <td id=\"T_ae37ad0e_979d_11eb_ac37_5453ed2e2dc1row4_col3\" class=\"data row4 col3\" >9</td>\n",
       "            </tr>\n",
       "            <tr>\n",
       "                        <th id=\"T_ae37ad0e_979d_11eb_ac37_5453ed2e2dc1level0_row5\" class=\"row_heading level0 row5\" >5</th>\n",
       "                        <td id=\"T_ae37ad0e_979d_11eb_ac37_5453ed2e2dc1row5_col0\" class=\"data row5 col0\" >333</td>\n",
       "                        <td id=\"T_ae37ad0e_979d_11eb_ac37_5453ed2e2dc1row5_col1\" class=\"data row5 col1\" >0.100000</td>\n",
       "                        <td id=\"T_ae37ad0e_979d_11eb_ac37_5453ed2e2dc1row5_col2\" class=\"data row5 col2\" >15</td>\n",
       "                        <td id=\"T_ae37ad0e_979d_11eb_ac37_5453ed2e2dc1row5_col3\" class=\"data row5 col3\" >14</td>\n",
       "            </tr>\n",
       "            <tr>\n",
       "                        <th id=\"T_ae37ad0e_979d_11eb_ac37_5453ed2e2dc1level0_row6\" class=\"row_heading level0 row6\" >6</th>\n",
       "                        <td id=\"T_ae37ad0e_979d_11eb_ac37_5453ed2e2dc1row6_col0\" class=\"data row6 col0\" >555</td>\n",
       "                        <td id=\"T_ae37ad0e_979d_11eb_ac37_5453ed2e2dc1row6_col1\" class=\"data row6 col1\" >0.100000</td>\n",
       "                        <td id=\"T_ae37ad0e_979d_11eb_ac37_5453ed2e2dc1row6_col2\" class=\"data row6 col2\" >50</td>\n",
       "                        <td id=\"T_ae37ad0e_979d_11eb_ac37_5453ed2e2dc1row6_col3\" class=\"data row6 col3\" >49</td>\n",
       "            </tr>\n",
       "            <tr>\n",
       "                        <th id=\"T_ae37ad0e_979d_11eb_ac37_5453ed2e2dc1level0_row7\" class=\"row_heading level0 row7\" >7</th>\n",
       "                        <td id=\"T_ae37ad0e_979d_11eb_ac37_5453ed2e2dc1row7_col0\" class=\"data row7 col0\" >999</td>\n",
       "                        <td id=\"T_ae37ad0e_979d_11eb_ac37_5453ed2e2dc1row7_col1\" class=\"data row7 col1\" >0.100000</td>\n",
       "                        <td id=\"T_ae37ad0e_979d_11eb_ac37_5453ed2e2dc1row7_col2\" class=\"data row7 col2\" >100</td>\n",
       "                        <td id=\"T_ae37ad0e_979d_11eb_ac37_5453ed2e2dc1row7_col3\" class=\"data row7 col3\" >99</td>\n",
       "            </tr>\n",
       "            <tr>\n",
       "                        <th id=\"T_ae37ad0e_979d_11eb_ac37_5453ed2e2dc1level0_row8\" class=\"row_heading level0 row8\" >8</th>\n",
       "                        <td id=\"T_ae37ad0e_979d_11eb_ac37_5453ed2e2dc1row8_col0\" class=\"data row8 col0\" >777</td>\n",
       "                        <td id=\"T_ae37ad0e_979d_11eb_ac37_5453ed2e2dc1row8_col1\" class=\"data row8 col1\" >0.100000</td>\n",
       "                        <td id=\"T_ae37ad0e_979d_11eb_ac37_5453ed2e2dc1row8_col2\" class=\"data row8 col2\" >200</td>\n",
       "                        <td id=\"T_ae37ad0e_979d_11eb_ac37_5453ed2e2dc1row8_col3\" class=\"data row8 col3\" >199</td>\n",
       "            </tr>\n",
       "            <tr>\n",
       "                        <th id=\"T_ae37ad0e_979d_11eb_ac37_5453ed2e2dc1level0_row9\" class=\"row_heading level0 row9\" >9</th>\n",
       "                        <td id=\"T_ae37ad0e_979d_11eb_ac37_5453ed2e2dc1row9_col0\" class=\"data row9 col0\" >lose</td>\n",
       "                        <td id=\"T_ae37ad0e_979d_11eb_ac37_5453ed2e2dc1row9_col1\" class=\"data row9 col1\" >77.500000</td>\n",
       "                        <td id=\"T_ae37ad0e_979d_11eb_ac37_5453ed2e2dc1row9_col2\" class=\"data row9 col2\" >0</td>\n",
       "                        <td id=\"T_ae37ad0e_979d_11eb_ac37_5453ed2e2dc1row9_col3\" class=\"data row9 col3\" >-1</td>\n",
       "            </tr>\n",
       "    </tbody></table>"
      ],
      "text/plain": [
       "<pandas.io.formats.style.Styler at 0xb065c10>"
      ]
     },
     "execution_count": 151,
     "metadata": {},
     "output_type": "execute_result"
    }
   ],
   "source": [
    "prob['Real Prize'] = prob['Prize'].apply(lambda x: x-1)\n",
    "prob.style.set_properties(**{'text-align':'center'})"
   ]
  },
  {
   "cell_type": "markdown",
   "metadata": {},
   "source": [
    "Используем формулу полной вероятности:\n",
    "\n",
    "\\begin{equation}\n",
    "P(A) =\\sum_{i=0}^\\infty P({A}/{Hi} ) \\times P(Hi) \n",
    "\\end{equation}\n",
    "\n",
    "\\begin{equation}\n",
    "\\sum_{i=0}^\\infty P(Hi) = 1 \n",
    "\\end{equation}"
   ]
  },
  {
   "cell_type": "code",
   "execution_count": 155,
   "metadata": {},
   "outputs": [
    {
     "data": {
      "text/html": [
       "<style  type=\"text/css\" >\n",
       "#T_3917372d_979e_11eb_83cd_5453ed2e2dc1row0_col0,#T_3917372d_979e_11eb_83cd_5453ed2e2dc1row0_col1,#T_3917372d_979e_11eb_83cd_5453ed2e2dc1row0_col2,#T_3917372d_979e_11eb_83cd_5453ed2e2dc1row0_col3,#T_3917372d_979e_11eb_83cd_5453ed2e2dc1row0_col4,#T_3917372d_979e_11eb_83cd_5453ed2e2dc1row0_col5,#T_3917372d_979e_11eb_83cd_5453ed2e2dc1row1_col0,#T_3917372d_979e_11eb_83cd_5453ed2e2dc1row1_col1,#T_3917372d_979e_11eb_83cd_5453ed2e2dc1row1_col2,#T_3917372d_979e_11eb_83cd_5453ed2e2dc1row1_col3,#T_3917372d_979e_11eb_83cd_5453ed2e2dc1row1_col4,#T_3917372d_979e_11eb_83cd_5453ed2e2dc1row1_col5,#T_3917372d_979e_11eb_83cd_5453ed2e2dc1row2_col0,#T_3917372d_979e_11eb_83cd_5453ed2e2dc1row2_col1,#T_3917372d_979e_11eb_83cd_5453ed2e2dc1row2_col2,#T_3917372d_979e_11eb_83cd_5453ed2e2dc1row2_col3,#T_3917372d_979e_11eb_83cd_5453ed2e2dc1row2_col4,#T_3917372d_979e_11eb_83cd_5453ed2e2dc1row2_col5,#T_3917372d_979e_11eb_83cd_5453ed2e2dc1row3_col0,#T_3917372d_979e_11eb_83cd_5453ed2e2dc1row3_col1,#T_3917372d_979e_11eb_83cd_5453ed2e2dc1row3_col2,#T_3917372d_979e_11eb_83cd_5453ed2e2dc1row3_col3,#T_3917372d_979e_11eb_83cd_5453ed2e2dc1row3_col4,#T_3917372d_979e_11eb_83cd_5453ed2e2dc1row3_col5,#T_3917372d_979e_11eb_83cd_5453ed2e2dc1row4_col0,#T_3917372d_979e_11eb_83cd_5453ed2e2dc1row4_col1,#T_3917372d_979e_11eb_83cd_5453ed2e2dc1row4_col2,#T_3917372d_979e_11eb_83cd_5453ed2e2dc1row4_col3,#T_3917372d_979e_11eb_83cd_5453ed2e2dc1row4_col4,#T_3917372d_979e_11eb_83cd_5453ed2e2dc1row4_col5,#T_3917372d_979e_11eb_83cd_5453ed2e2dc1row5_col0,#T_3917372d_979e_11eb_83cd_5453ed2e2dc1row5_col1,#T_3917372d_979e_11eb_83cd_5453ed2e2dc1row5_col2,#T_3917372d_979e_11eb_83cd_5453ed2e2dc1row5_col3,#T_3917372d_979e_11eb_83cd_5453ed2e2dc1row5_col4,#T_3917372d_979e_11eb_83cd_5453ed2e2dc1row5_col5,#T_3917372d_979e_11eb_83cd_5453ed2e2dc1row6_col0,#T_3917372d_979e_11eb_83cd_5453ed2e2dc1row6_col1,#T_3917372d_979e_11eb_83cd_5453ed2e2dc1row6_col2,#T_3917372d_979e_11eb_83cd_5453ed2e2dc1row6_col3,#T_3917372d_979e_11eb_83cd_5453ed2e2dc1row6_col4,#T_3917372d_979e_11eb_83cd_5453ed2e2dc1row6_col5,#T_3917372d_979e_11eb_83cd_5453ed2e2dc1row7_col0,#T_3917372d_979e_11eb_83cd_5453ed2e2dc1row7_col1,#T_3917372d_979e_11eb_83cd_5453ed2e2dc1row7_col2,#T_3917372d_979e_11eb_83cd_5453ed2e2dc1row7_col3,#T_3917372d_979e_11eb_83cd_5453ed2e2dc1row7_col4,#T_3917372d_979e_11eb_83cd_5453ed2e2dc1row7_col5,#T_3917372d_979e_11eb_83cd_5453ed2e2dc1row8_col0,#T_3917372d_979e_11eb_83cd_5453ed2e2dc1row8_col1,#T_3917372d_979e_11eb_83cd_5453ed2e2dc1row8_col2,#T_3917372d_979e_11eb_83cd_5453ed2e2dc1row8_col3,#T_3917372d_979e_11eb_83cd_5453ed2e2dc1row8_col4,#T_3917372d_979e_11eb_83cd_5453ed2e2dc1row8_col5,#T_3917372d_979e_11eb_83cd_5453ed2e2dc1row9_col0,#T_3917372d_979e_11eb_83cd_5453ed2e2dc1row9_col1,#T_3917372d_979e_11eb_83cd_5453ed2e2dc1row9_col2,#T_3917372d_979e_11eb_83cd_5453ed2e2dc1row9_col3,#T_3917372d_979e_11eb_83cd_5453ed2e2dc1row9_col4,#T_3917372d_979e_11eb_83cd_5453ed2e2dc1row9_col5{\n",
       "            text-align:  center;\n",
       "        }</style><table id=\"T_3917372d_979e_11eb_83cd_5453ed2e2dc1\" ><thead>    <tr>        <th class=\"blank level0\" ></th>        <th class=\"col_heading level0 col0\" >Combination</th>        <th class=\"col_heading level0 col1\" >Probability, %</th>        <th class=\"col_heading level0 col2\" >Prize</th>        <th class=\"col_heading level0 col3\" >Real Prize</th>        <th class=\"col_heading level0 col4\" >Probability of real prize</th>        <th class=\"col_heading level0 col5\" >P(A/H)*P(H)</th>    </tr></thead><tbody>\n",
       "                <tr>\n",
       "                        <th id=\"T_3917372d_979e_11eb_83cd_5453ed2e2dc1level0_row0\" class=\"row_heading level0 row0\" >0</th>\n",
       "                        <td id=\"T_3917372d_979e_11eb_83cd_5453ed2e2dc1row0_col0\" class=\"data row0 col0\" >**0</td>\n",
       "                        <td id=\"T_3917372d_979e_11eb_83cd_5453ed2e2dc1row0_col1\" class=\"data row0 col1\" >10</td>\n",
       "                        <td id=\"T_3917372d_979e_11eb_83cd_5453ed2e2dc1row0_col2\" class=\"data row0 col2\" >1</td>\n",
       "                        <td id=\"T_3917372d_979e_11eb_83cd_5453ed2e2dc1row0_col3\" class=\"data row0 col3\" >0</td>\n",
       "                        <td id=\"T_3917372d_979e_11eb_83cd_5453ed2e2dc1row0_col4\" class=\"data row0 col4\" >0.000000</td>\n",
       "                        <td id=\"T_3917372d_979e_11eb_83cd_5453ed2e2dc1row0_col5\" class=\"data row0 col5\" >0.000000</td>\n",
       "            </tr>\n",
       "            <tr>\n",
       "                        <th id=\"T_3917372d_979e_11eb_83cd_5453ed2e2dc1level0_row1\" class=\"row_heading level0 row1\" >1</th>\n",
       "                        <td id=\"T_3917372d_979e_11eb_83cd_5453ed2e2dc1row1_col0\" class=\"data row1 col0\" >*00</td>\n",
       "                        <td id=\"T_3917372d_979e_11eb_83cd_5453ed2e2dc1row1_col1\" class=\"data row1 col1\" >1</td>\n",
       "                        <td id=\"T_3917372d_979e_11eb_83cd_5453ed2e2dc1row1_col2\" class=\"data row1 col2\" >2</td>\n",
       "                        <td id=\"T_3917372d_979e_11eb_83cd_5453ed2e2dc1row1_col3\" class=\"data row1 col3\" >1</td>\n",
       "                        <td id=\"T_3917372d_979e_11eb_83cd_5453ed2e2dc1row1_col4\" class=\"data row1 col4\" >0.010000</td>\n",
       "                        <td id=\"T_3917372d_979e_11eb_83cd_5453ed2e2dc1row1_col5\" class=\"data row1 col5\" >0.010000</td>\n",
       "            </tr>\n",
       "            <tr>\n",
       "                        <th id=\"T_3917372d_979e_11eb_83cd_5453ed2e2dc1level0_row2\" class=\"row_heading level0 row2\" >2</th>\n",
       "                        <td id=\"T_3917372d_979e_11eb_83cd_5453ed2e2dc1row2_col0\" class=\"data row2 col0\" >**7</td>\n",
       "                        <td id=\"T_3917372d_979e_11eb_83cd_5453ed2e2dc1row2_col1\" class=\"data row2 col1\" >10</td>\n",
       "                        <td id=\"T_3917372d_979e_11eb_83cd_5453ed2e2dc1row2_col2\" class=\"data row2 col2\" >3</td>\n",
       "                        <td id=\"T_3917372d_979e_11eb_83cd_5453ed2e2dc1row2_col3\" class=\"data row2 col3\" >2</td>\n",
       "                        <td id=\"T_3917372d_979e_11eb_83cd_5453ed2e2dc1row2_col4\" class=\"data row2 col4\" >0.200000</td>\n",
       "                        <td id=\"T_3917372d_979e_11eb_83cd_5453ed2e2dc1row2_col5\" class=\"data row2 col5\" >0.200000</td>\n",
       "            </tr>\n",
       "            <tr>\n",
       "                        <th id=\"T_3917372d_979e_11eb_83cd_5453ed2e2dc1level0_row3\" class=\"row_heading level0 row3\" >3</th>\n",
       "                        <td id=\"T_3917372d_979e_11eb_83cd_5453ed2e2dc1row3_col0\" class=\"data row3 col0\" >*77</td>\n",
       "                        <td id=\"T_3917372d_979e_11eb_83cd_5453ed2e2dc1row3_col1\" class=\"data row3 col1\" >1</td>\n",
       "                        <td id=\"T_3917372d_979e_11eb_83cd_5453ed2e2dc1row3_col2\" class=\"data row3 col2\" >5</td>\n",
       "                        <td id=\"T_3917372d_979e_11eb_83cd_5453ed2e2dc1row3_col3\" class=\"data row3 col3\" >4</td>\n",
       "                        <td id=\"T_3917372d_979e_11eb_83cd_5453ed2e2dc1row3_col4\" class=\"data row3 col4\" >0.040000</td>\n",
       "                        <td id=\"T_3917372d_979e_11eb_83cd_5453ed2e2dc1row3_col5\" class=\"data row3 col5\" >0.040000</td>\n",
       "            </tr>\n",
       "            <tr>\n",
       "                        <th id=\"T_3917372d_979e_11eb_83cd_5453ed2e2dc1level0_row4\" class=\"row_heading level0 row4\" >4</th>\n",
       "                        <td id=\"T_3917372d_979e_11eb_83cd_5453ed2e2dc1row4_col0\" class=\"data row4 col0\" >111</td>\n",
       "                        <td id=\"T_3917372d_979e_11eb_83cd_5453ed2e2dc1row4_col1\" class=\"data row4 col1\" >0.100000</td>\n",
       "                        <td id=\"T_3917372d_979e_11eb_83cd_5453ed2e2dc1row4_col2\" class=\"data row4 col2\" >10</td>\n",
       "                        <td id=\"T_3917372d_979e_11eb_83cd_5453ed2e2dc1row4_col3\" class=\"data row4 col3\" >9</td>\n",
       "                        <td id=\"T_3917372d_979e_11eb_83cd_5453ed2e2dc1row4_col4\" class=\"data row4 col4\" >0.009000</td>\n",
       "                        <td id=\"T_3917372d_979e_11eb_83cd_5453ed2e2dc1row4_col5\" class=\"data row4 col5\" >0.009000</td>\n",
       "            </tr>\n",
       "            <tr>\n",
       "                        <th id=\"T_3917372d_979e_11eb_83cd_5453ed2e2dc1level0_row5\" class=\"row_heading level0 row5\" >5</th>\n",
       "                        <td id=\"T_3917372d_979e_11eb_83cd_5453ed2e2dc1row5_col0\" class=\"data row5 col0\" >333</td>\n",
       "                        <td id=\"T_3917372d_979e_11eb_83cd_5453ed2e2dc1row5_col1\" class=\"data row5 col1\" >0.100000</td>\n",
       "                        <td id=\"T_3917372d_979e_11eb_83cd_5453ed2e2dc1row5_col2\" class=\"data row5 col2\" >15</td>\n",
       "                        <td id=\"T_3917372d_979e_11eb_83cd_5453ed2e2dc1row5_col3\" class=\"data row5 col3\" >14</td>\n",
       "                        <td id=\"T_3917372d_979e_11eb_83cd_5453ed2e2dc1row5_col4\" class=\"data row5 col4\" >0.014000</td>\n",
       "                        <td id=\"T_3917372d_979e_11eb_83cd_5453ed2e2dc1row5_col5\" class=\"data row5 col5\" >0.014000</td>\n",
       "            </tr>\n",
       "            <tr>\n",
       "                        <th id=\"T_3917372d_979e_11eb_83cd_5453ed2e2dc1level0_row6\" class=\"row_heading level0 row6\" >6</th>\n",
       "                        <td id=\"T_3917372d_979e_11eb_83cd_5453ed2e2dc1row6_col0\" class=\"data row6 col0\" >555</td>\n",
       "                        <td id=\"T_3917372d_979e_11eb_83cd_5453ed2e2dc1row6_col1\" class=\"data row6 col1\" >0.100000</td>\n",
       "                        <td id=\"T_3917372d_979e_11eb_83cd_5453ed2e2dc1row6_col2\" class=\"data row6 col2\" >50</td>\n",
       "                        <td id=\"T_3917372d_979e_11eb_83cd_5453ed2e2dc1row6_col3\" class=\"data row6 col3\" >49</td>\n",
       "                        <td id=\"T_3917372d_979e_11eb_83cd_5453ed2e2dc1row6_col4\" class=\"data row6 col4\" >0.049000</td>\n",
       "                        <td id=\"T_3917372d_979e_11eb_83cd_5453ed2e2dc1row6_col5\" class=\"data row6 col5\" >0.049000</td>\n",
       "            </tr>\n",
       "            <tr>\n",
       "                        <th id=\"T_3917372d_979e_11eb_83cd_5453ed2e2dc1level0_row7\" class=\"row_heading level0 row7\" >7</th>\n",
       "                        <td id=\"T_3917372d_979e_11eb_83cd_5453ed2e2dc1row7_col0\" class=\"data row7 col0\" >999</td>\n",
       "                        <td id=\"T_3917372d_979e_11eb_83cd_5453ed2e2dc1row7_col1\" class=\"data row7 col1\" >0.100000</td>\n",
       "                        <td id=\"T_3917372d_979e_11eb_83cd_5453ed2e2dc1row7_col2\" class=\"data row7 col2\" >100</td>\n",
       "                        <td id=\"T_3917372d_979e_11eb_83cd_5453ed2e2dc1row7_col3\" class=\"data row7 col3\" >99</td>\n",
       "                        <td id=\"T_3917372d_979e_11eb_83cd_5453ed2e2dc1row7_col4\" class=\"data row7 col4\" >0.099000</td>\n",
       "                        <td id=\"T_3917372d_979e_11eb_83cd_5453ed2e2dc1row7_col5\" class=\"data row7 col5\" >0.099000</td>\n",
       "            </tr>\n",
       "            <tr>\n",
       "                        <th id=\"T_3917372d_979e_11eb_83cd_5453ed2e2dc1level0_row8\" class=\"row_heading level0 row8\" >8</th>\n",
       "                        <td id=\"T_3917372d_979e_11eb_83cd_5453ed2e2dc1row8_col0\" class=\"data row8 col0\" >777</td>\n",
       "                        <td id=\"T_3917372d_979e_11eb_83cd_5453ed2e2dc1row8_col1\" class=\"data row8 col1\" >0.100000</td>\n",
       "                        <td id=\"T_3917372d_979e_11eb_83cd_5453ed2e2dc1row8_col2\" class=\"data row8 col2\" >200</td>\n",
       "                        <td id=\"T_3917372d_979e_11eb_83cd_5453ed2e2dc1row8_col3\" class=\"data row8 col3\" >199</td>\n",
       "                        <td id=\"T_3917372d_979e_11eb_83cd_5453ed2e2dc1row8_col4\" class=\"data row8 col4\" >0.199000</td>\n",
       "                        <td id=\"T_3917372d_979e_11eb_83cd_5453ed2e2dc1row8_col5\" class=\"data row8 col5\" >0.199000</td>\n",
       "            </tr>\n",
       "            <tr>\n",
       "                        <th id=\"T_3917372d_979e_11eb_83cd_5453ed2e2dc1level0_row9\" class=\"row_heading level0 row9\" >9</th>\n",
       "                        <td id=\"T_3917372d_979e_11eb_83cd_5453ed2e2dc1row9_col0\" class=\"data row9 col0\" >lose</td>\n",
       "                        <td id=\"T_3917372d_979e_11eb_83cd_5453ed2e2dc1row9_col1\" class=\"data row9 col1\" >77.500000</td>\n",
       "                        <td id=\"T_3917372d_979e_11eb_83cd_5453ed2e2dc1row9_col2\" class=\"data row9 col2\" >0</td>\n",
       "                        <td id=\"T_3917372d_979e_11eb_83cd_5453ed2e2dc1row9_col3\" class=\"data row9 col3\" >-1</td>\n",
       "                        <td id=\"T_3917372d_979e_11eb_83cd_5453ed2e2dc1row9_col4\" class=\"data row9 col4\" >-0.775000</td>\n",
       "                        <td id=\"T_3917372d_979e_11eb_83cd_5453ed2e2dc1row9_col5\" class=\"data row9 col5\" >-0.775000</td>\n",
       "            </tr>\n",
       "    </tbody></table>"
      ],
      "text/plain": [
       "<pandas.io.formats.style.Styler at 0xb065370>"
      ]
     },
     "execution_count": 155,
     "metadata": {},
     "output_type": "execute_result"
    }
   ],
   "source": [
    "prob['P(A/H)*P(H)'] = prob.apply(lambda x: x['Probability, %']/100 * x['Real Prize'] ,axis = 1)\n",
    "prob.style.set_properties(**{'text-align':'center'})"
   ]
  },
  {
   "cell_type": "code",
   "execution_count": 165,
   "metadata": {},
   "outputs": [
    {
     "name": "stdout",
     "output_type": "stream",
     "text": [
      " Средний выигрыш -0.15 руб. \n",
      "--------------------------------------------------\n",
      "\tИгра для игрока не выгодна \n",
      "\tВ среднем игрок за одну игру проигрывает 0.15 руб.\n"
     ]
    }
   ],
   "source": [
    "P_A = round(sum(prob['P(A/H)*P(H)']),2)\n",
    "            \n",
    "print(f\" Средний выигрыш { P_A } руб. \" + \"\\n\" + '-' * 50) \n",
    "#print(f\"Средний {'выигрыш' if P_A > 0 else 'проигрыш'} из {selection} попыток равен {abs(win_amount/selection)}\" + \"\\n\" + '-' * 50)\n",
    "print(\"\\t\" + f\"Игра для игрока {'выгодна' if P_A > 0 else 'не выгодна'} \")\n",
    "print(\"\\t\" + f\"В среднем игрок за одну игру {'выигрывает' if P_A > 0 else 'проигрывает'} { abs( P_A ) } руб.\")\n"
   ]
  },
  {
   "cell_type": "markdown",
   "metadata": {},
   "source": [
    "# Результаты:\n",
    "\n",
    "Результат перебора : \" В среднем игрок за одну игру проигрывает 0.2 руб. \"   \n",
    "Результат теоретический : \"В среднем игрок за одну игру проигрывает 0.15 руб.\""
   ]
  }
 ],
 "metadata": {
  "kernelspec": {
   "display_name": "Python 3",
   "language": "python",
   "name": "python3"
  },
  "language_info": {
   "codemirror_mode": {
    "name": "ipython",
    "version": 3
   },
   "file_extension": ".py",
   "mimetype": "text/x-python",
   "name": "python",
   "nbconvert_exporter": "python",
   "pygments_lexer": "ipython3",
   "version": "3.8.5"
  }
 },
 "nbformat": 4,
 "nbformat_minor": 4
}
