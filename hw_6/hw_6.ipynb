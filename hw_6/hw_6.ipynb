{
 "cells": [
  {
   "cell_type": "code",
   "execution_count": 1,
   "metadata": {},
   "outputs": [],
   "source": [
    "import matplotlib.pyplot as plt\n",
    "import numpy as np\n",
    "import pandas as pd\n",
    "import seaborn as sns\n",
    "import scipy as sps\n",
    "\n",
    "%matplotlib inline"
   ]
  },
  {
   "cell_type": "code",
   "execution_count": 2,
   "metadata": {},
   "outputs": [],
   "source": [
    "from pylab import rcParams\n",
    "rcParams['figure.figsize'] = 16,8"
   ]
  },
  {
   "cell_type": "markdown",
   "metadata": {},
   "source": [
    "<div class=\"alert alert-info\">\n",
    "<b>Задание № 0</b>\n",
    "\n",
    "Найдите минимально необходимый объем выборки для построения интервальной оценки среднего.\n",
    "\n",
    "- желаемая точность $\\Delta$ = 3;\n",
    "- дисперсия $\\sigma^2$  = 225;\n",
    "- уровень доверия $\\beta$ = 0.95.\n",
    "    \n",
    "Ответ округлите до целого\n",
    "</div>"
   ]
  },
  {
   "cell_type": "code",
   "execution_count": 3,
   "metadata": {},
   "outputs": [
    {
     "data": {
      "text/plain": [
       "96"
      ]
     },
     "execution_count": 3,
     "metadata": {},
     "output_type": "execute_result"
    }
   ],
   "source": [
    "### Ваши код/вычесления...\n",
    "\n",
    "#n = ....  #Запишите в эту переменную ваш высчитанный ответ!\n",
    "\n",
    "confidence = 0.95\n",
    "sigma = 225**0.5\n",
    "Z = sps.stats.norm.ppf( (1+confidence)/2 , loc = 0, scale = 1) # Если это нормальное распределение!!\n",
    "Delta = 3\n",
    "n = round( ( ( sigma * Z ) / Delta )**2 )\n",
    "n"
   ]
  },
  {
   "cell_type": "code",
   "execution_count": 4,
   "metadata": {},
   "outputs": [],
   "source": [
    "#t-распр\n",
    "def t_distrib_n(step, sigma, n=2, alpha=0.05, debug = False):\n",
    "    se = sigma / n**0.5\n",
    "    df = n - 1\n",
    "    t_a_n = sps.stats.t.ppf(1 - alpha/2, df) # коэф стьюдента, кот зависит от альфа(порога) и количества значений в выборке (n)\n",
    "    if debug: print(t_a_n, t_a_n * se,  (step - t_a_n * se)/step )\n",
    "    \n",
    "    while True:\n",
    "        if abs( (step - t_a_n * se)/step ) > 0.01:\n",
    "            n +=1\n",
    "            se = sigma / n**0.5\n",
    "            df = n - 1\n",
    "            t_a_n = sps.stats.t.ppf(1 - alpha/2, df)\n",
    "            if debug: print(t_a_n, t_a_n * se,  (step - t_a_n * se)/step )\n",
    "        else: return n\n",
    "  "
   ]
  },
  {
   "cell_type": "code",
   "execution_count": 5,
   "metadata": {},
   "outputs": [
    {
     "data": {
      "text/plain": [
       "97"
      ]
     },
     "execution_count": 5,
     "metadata": {},
     "output_type": "execute_result"
    }
   ],
   "source": [
    "n = t_distrib_n(3,15,debug = False)\n",
    "n"
   ]
  },
  {
   "cell_type": "code",
   "execution_count": 6,
   "metadata": {},
   "outputs": [
    {
     "name": "stdout",
     "output_type": "stream",
     "text": [
      "Нет, Неверно!\n"
     ]
    }
   ],
   "source": [
    "#Не меняйте этот код, он нужен для проверки вашего ответа ответа!\n",
    "if n%1!=0: print('Вы забыли округлить ответ!!!!')\n",
    "elif hash(str(n)) == -6483854632660926687: print(\"Ошибка, вероятно выбран квартиль для уровня доверия 0.95, а не 0.975. Смотри формулу!\")\n",
    "elif hash(str(n)) != 8942973788178395504: print(\"Нет, Неверно!\")\n",
    "else: print('Верно!!!! Двигайтесь дальше!')\n",
    "#Если у вас долго не получается запустить эту ячейку без ошибок, но оставьте свой ответ и идите дальше. "
   ]
  },
  {
   "cell_type": "code",
   "execution_count": 7,
   "metadata": {},
   "outputs": [
    {
     "name": "stdout",
     "output_type": "stream",
     "text": [
      "...................We have checked everithing Sir, nothing"
     ]
    }
   ],
   "source": [
    "# Хеш не корректен \n",
    "## hash(str(n)) != 8942973788178395504 : print(\"Нет, Неверно!\") \n",
    "\n",
    "h = 8942973788178395504\n",
    "n = 1\n",
    "while True:\n",
    "    if hash(str(n) ) == h:\n",
    "        print(n)\n",
    "        break\n",
    "    else: \n",
    "        if n==1000: \n",
    "            print('We have checked everithing Sir, nothing', end = '')\n",
    "            break\n",
    "        elif n%50==0: print('.', end = '')\n",
    "        n += 1"
   ]
  },
  {
   "cell_type": "markdown",
   "metadata": {},
   "source": [
    "<div class=\"alert alert-info\">\n",
    "<b>Задание № 1</b>\n",
    "\n",
    "Постройте `98% доверительный интервал` для среднего значения, если известно, что\n",
    "\n",
    "- объем выборки n = 25;\n",
    "- среднее значение по выборке $\\overline x$ = 130;\n",
    "- Из достоверных источников известно стандартное отклонение $\\sigma = 15$.\n",
    "    \n",
    "В ответ укажите длину полученного доверительного интервала (разницу между правым и левым концом), окруленную до целого\n",
    "</div>"
   ]
  },
  {
   "cell_type": "code",
   "execution_count": 10,
   "metadata": {},
   "outputs": [],
   "source": [
    "### Ваши код/вычесления...\n",
    "\n",
    "#L = ....  #Запишите в эту переменную ваш высчитанный ответ!\n"
   ]
  },
  {
   "cell_type": "code",
   "execution_count": 11,
   "metadata": {},
   "outputs": [
    {
     "name": "stdout",
     "output_type": "stream",
     "text": [
      "se = 3.0, t = 2.4921594731575762, delta =7.476478419472729, L = 15\n"
     ]
    }
   ],
   "source": [
    "confidence = 0.98\n",
    "sigma = 15\n",
    "n = 25\n",
    "\n",
    "\n",
    "se = sigma / n**0.5\n",
    "t = sps.stats.t.ppf( (1+confidence)/2 , n-1)\n",
    "delta = t * se\n",
    "L = round(2 * delta)\n",
    "\n",
    "print(f'se = {se}, t = {t}, delta ={delta}, L = {L}')"
   ]
  },
  {
   "cell_type": "code",
   "execution_count": 12,
   "metadata": {},
   "outputs": [
    {
     "name": "stdout",
     "output_type": "stream",
     "text": [
      "Среднее ГС:  133.615\n",
      "Среднее из задачи:  130\n",
      "\t шаг при пороге 1% или 98% уровне доверия = 7.48\n",
      "Из диаграммы видно, что 98% доверительный интервал (между зелеными линиями) таки включает среднее значение выборки\n"
     ]
    },
    {
     "data": {
      "image/png": "[encoded data removed]",
      "text/plain": [
       "<Figure size 576x360 with 1 Axes>"
      ]
     },
     "metadata": {
      "needs_background": "light"
     },
     "output_type": "display_data"
    }
   ],
   "source": [
    "# построим распределение ГС, мы знаем что среднее ГС будет иметь стандартное отклонение среднего se = sigma / n**0.5\n",
    "plt.figure(figsize=(8,5))\n",
    "m = 130\n",
    "\n",
    "A = sps.stats.norm.rvs(loc = m + se , scale = sigma, size = 2000 ) \n",
    "plt.hist(A, bins = 110)\n",
    "\n",
    "m_dist = round(np.mean(A),3)\n",
    "print('Среднее ГС: ',m_dist)\n",
    "plt.plot([m_dist , m_dist], [70,0],':m', c= 'red')\n",
    "plt.text(m_dist, 72, 'Среднее ГС', c= 'red', rotation = 'vertical', ha = 'center')\n",
    "\n",
    "print('Среднее из задачи: ',m)\n",
    "plt.plot([m , m], [65,0], c= 'orange')\n",
    "plt.text(m, 67, 'Среднее из задачи', c= 'orange', rotation = 'vertical', ha = 'center')\n",
    "\n",
    "plt.plot([m-delta , m-delta], [65,0], c= 'green')\n",
    "plt.text(m-delta, 67, 'Доверительный интервал -', c= 'green', rotation = 'vertical', ha = 'center')\n",
    "plt.plot([m+delta , m+delta], [65,0], c= 'green')\n",
    "plt.text(m+delta, 67, 'Доверительный интервал +', c= 'green', rotation = 'vertical', ha = 'center')\n",
    "print(f'\\t шаг при пороге {round((1-confidence)/2*100)}% или {round(confidence*100)}% уровне доверия = {round(delta,2)}')\n",
    "print('Из диаграммы видно, что 98% доверительный интервал (между зелеными линиями) таки включает среднее значение выборки')"
   ]
  },
  {
   "cell_type": "code",
   "execution_count": 13,
   "metadata": {},
   "outputs": [
    {
     "name": "stdout",
     "output_type": "stream",
     "text": [
      "Нет, Неверно!\n"
     ]
    }
   ],
   "source": [
    "#Не меняйте этот код, он нужен для проверки ответа!\n",
    "if L%1!=0: print('Вы забыли округлить ответ!!!!')\n",
    "elif hash(str(L)) == 8859716730303628099: print(\"Ошибка, вероятно выбран квартиль для уровня доверия 0.98, а не 0.99. Смотри формулу!\")\n",
    "elif hash(str(L)) != 6091462292841498317: print(\"Нет, Неверно!\")\n",
    "else: print('Верно!!!! Двигайтесь дальше!')\n",
    "#Если у вас долго не получается запустить эту ячейку без ошибок, но оставьте свой ответ и идите дальше. "
   ]
  },
  {
   "cell_type": "code",
   "execution_count": 14,
   "metadata": {},
   "outputs": [
    {
     "name": "stdout",
     "output_type": "stream",
     "text": [
      "...................We have checked everithing Sir, nothing"
     ]
    }
   ],
   "source": [
    "#hash(str(n)) != 6091462292841498317 : print(\"Нет, Неверно!\") ->> Хеш не корректен\n",
    "h = 6091462292841498317\n",
    "n = 1\n",
    "while True:\n",
    "    if hash(str(n) ) == h:\n",
    "        print(n)\n",
    "        break\n",
    "    else: \n",
    "        if n==1000: \n",
    "            print('We have checked everithing Sir, nothing', end = '')\n",
    "            break\n",
    "        elif n%50==0: print('.', end = '')\n",
    "        n += 1"
   ]
  },
  {
   "cell_type": "markdown",
   "metadata": {},
   "source": [
    "### 2. Вам даны две выборки роста мужчин и женщин. Докажите, используя t-Тест Стьдента, что различия между выборками незначительно, если уровень значимости равен 0.001"
   ]
  },
  {
   "cell_type": "markdown",
   "metadata": {},
   "source": [
    "<div class=\"alert alert-info\">\n",
    "<b>Задание № 2</b>\n",
    "\n",
    "Даны две выборки роста мужчин и женщин. \n",
    "- Докажите, используя `t-Тест Стьдента`, что различие между выборками незначительно, если уровень значимости равен $\\alpha$ `= 0.001`.\n",
    "- Покажите различия визуально\n",
    "</div>"
   ]
  },
  {
   "cell_type": "code",
   "execution_count": 15,
   "metadata": {},
   "outputs": [
    {
     "name": "stdout",
     "output_type": "stream",
     "text": [
      "Критерий Стьюдента с модулем = 1.6896656903039952e-08\n",
      "Zero hypothesis is dissmissed. Difference between samples is significant.\n",
      "Критерий Стьюдента без модуля = 1.6896656903039952e-08\n",
      "Zero hypothesis is confirmed. Difference between samples is negligeable.\n"
     ]
    },
    {
     "data": {
      "image/png": "[encoded data removed]",
      "text/plain": [
       "<Figure size 504x360 with 1 Axes>"
      ]
     },
     "metadata": {
      "needs_background": "light"
     },
     "output_type": "display_data"
    },
    {
     "data": {
      "text/plain": [
       "(array([2.164e+03, 2.109e+03, 1.708e+03, 1.514e+03, 1.267e+03, 9.890e+02,\n",
       "        7.700e+02, 4.960e+02, 3.690e+02, 2.650e+02, 1.520e+02, 1.020e+02,\n",
       "        5.100e+01, 1.600e+01, 1.400e+01, 6.000e+00, 4.000e+00, 2.000e+00,\n",
       "        0.000e+00, 2.000e+00]),\n",
       " array([8.72683841e-03, 3.66094966e+01, 7.32102663e+01, 1.09811036e+02,\n",
       "        1.46411806e+02, 1.83012576e+02, 2.19613345e+02, 2.56214115e+02,\n",
       "        2.92814885e+02, 3.29415655e+02, 3.66016424e+02, 4.02617194e+02,\n",
       "        4.39217964e+02, 4.75818734e+02, 5.12419503e+02, 5.49020273e+02,\n",
       "        5.85621043e+02, 6.22221813e+02, 6.58822582e+02, 6.95423352e+02,\n",
       "        7.32024122e+02]),\n",
       " <BarContainer object of 20 artists>)"
      ]
     },
     "execution_count": 15,
     "metadata": {},
     "output_type": "execute_result"
    },
    {
     "data": {
      "image/png": "[encoded data removed]",
      "text/plain": [
       "<Figure size 504x360 with 1 Axes>"
      ]
     },
     "metadata": {
      "needs_background": "light"
     },
     "output_type": "display_data"
    }
   ],
   "source": [
    "import scipy.stats as stats\n",
    "\n",
    "population_men  = stats.norm.rvs(loc=19, scale=171, size=11000000)  # Выборка мужчин со средним ростом 171\n",
    "population_women = stats.norm.rvs(loc=16, scale=165, size=12000)  # Выборка женщин со средним ростом 165\n",
    "\n",
    "### \n",
    "# судя по выборке, то это скорее популяция мужчин с ростом 171. А если так : stats.norm.rvs(loc=171, scale=19, size=11000000), то это выборка мужчин со средним ростом 171 \n",
    "confidence = 10**-3\n",
    "# судя по размерам выборки - size1= 11 000 000  и size2= 12 000 то нужно применять ttest 1 sample:\n",
    "\n",
    "# популяция не может быть отрицательной поэтому берем значения выборки по модулю\n",
    "student_criteria_1sample = stats.ttest_1samp( a = abs(population_women), popmean = np.array(abs(population_men)).mean())\n",
    "print(f'Критерий Стьюдента с модулем = { student_criteria_1sample[1] }')\n",
    "\n",
    "if student_criteria_1sample[1] < confidence: print('Zero hypothesis is dissmissed. Difference between samples is significant.')\n",
    "else: print('Zero hypothesis is confirmed. Difference between samples is negligeable.')\n",
    "\n",
    "# Если бы не брали значения по модулю :\n",
    "student_criteria_1sample_ = stats.ttest_1samp( a = population_women, popmean = np.array(population_men).mean())\n",
    "print(f'Критерий Стьюдента без модуля = { student_criteria_1sample[1] }')\n",
    "\n",
    "if student_criteria_1sample_[1] < confidence: print('Zero hypothesis may be dissmissed. Difference between samples is significant.')\n",
    "else: print('Zero hypothesis is confirmed. Difference between samples is negligeable.')\n",
    "\n",
    "    \n",
    "#boxplot\n",
    "rcParams['figure.figsize'] = 7,5\n",
    "data = [abs(population_men),abs(population_women) ]\n",
    "fig, ax = plt.subplots()\n",
    "ax.boxplot(data,0,'', labels = ['population_men','population_women'],vert = True)\n",
    "plt.show()\n",
    "\n",
    "#hist plot\n",
    "plt.hist(abs(population_men), bins =300)\n",
    "plt.hist(abs(population_women), bins =20)\n",
    "plt.show()"
   ]
  },
  {
   "cell_type": "code",
   "execution_count": 16,
   "metadata": {},
   "outputs": [
    {
     "name": "stdout",
     "output_type": "stream",
     "text": [
      "Критерий Стьюдента = 0.0\n",
      "Zero hypothesis may be dissmissed. Difference between samples is significant.\n"
     ]
    },
    {
     "data": {
      "image/png": "[encoded data removed]",
      "text/plain": [
       "<Figure size 504x360 with 1 Axes>"
      ]
     },
     "metadata": {
      "needs_background": "light"
     },
     "output_type": "display_data"
    },
    {
     "name": "stdout",
     "output_type": "stream",
     "text": [
      "\n"
     ]
    },
    {
     "data": {
      "image/png": "[encoded data removed]",
      "text/plain": [
       "<Figure size 504x360 with 1 Axes>"
      ]
     },
     "metadata": {
      "needs_background": "light"
     },
     "output_type": "display_data"
    }
   ],
   "source": [
    "#Выборка со средним ростом 171 и 165\n",
    "population_men  = stats.norm.rvs(loc=171, scale=19, size=11000000)  # Выборка мужчин со средним ростом 171\n",
    "population_women = stats.norm.rvs(loc=165, scale=16, size=12000)  # Выборка женщин со средним ростом 165\n",
    "\n",
    "### \n",
    "confidence = 10**-3\n",
    "\n",
    "student_criteria_1sample = stats.ttest_1samp( a = population_women, popmean = np.array(population_men).mean())\n",
    "print(f'Критерий Стьюдента = { student_criteria_1sample[1] }')\n",
    "\n",
    "if student_criteria_1sample[1] < confidence: print('Zero hypothesis may be dissmissed. Difference between samples is significant.')\n",
    "else: print('Zero hypothesis is confirmed. Difference between samples is negligeable.')\n",
    "    \n",
    "#boxplot\n",
    "data = [population_men,population_women ]\n",
    "fig, ax = plt.subplots()\n",
    "ax.boxplot(data,0,'', labels = ['population_men','population_women'],vert = True)\n",
    "plt.show()\n",
    "\n",
    "#hist plot\n",
    "plt.hist(population_men, bins =300)\n",
    "plt.hist(population_women, bins =20)\n",
    "print()"
   ]
  },
  {
   "cell_type": "markdown",
   "metadata": {},
   "source": [
    "### 3. Определите объем необходимой выборки для исследования среднего чека за кофе в случайном городе, если известно, что в этом городе стандартное отклонение = 150, уровень доверия = 95%. Погрешность 50 рублей. "
   ]
  },
  {
   "cell_type": "markdown",
   "metadata": {},
   "source": [
    "<div class=\"alert alert-info\">\n",
    "<b>Задание № 3</b>\n",
    "\n",
    "Определите объем необходимой выборки для исследования среднего чека за кофе в случайном городе если известно, что в этом городе:\n",
    "\n",
    "- стандартное отклонение $\\sigma = 150$;\n",
    "- уровень доверия $\\beta$  = 95%;\n",
    "- Погрешность $\\Delta = 50$ рублей.\n",
    "</div>"
   ]
  },
  {
   "cell_type": "code",
   "execution_count": 17,
   "metadata": {},
   "outputs": [
    {
     "name": "stdout",
     "output_type": "stream",
     "text": [
      "Z = 1.96, n = 35\n",
      "необходимо 35 раз заказать кофе в городе-n\n"
     ]
    }
   ],
   "source": [
    "confidence = 0.95\n",
    "sigma = 150\n",
    "delta = 50\n",
    "\n",
    "Z = sps.stats.norm.ppf( (1+confidence)/2 , loc = 0, scale = 1) # Допускаем что это нормальное распределение\n",
    "n = round( ( ( sigma * Z ) / delta )**2 )\n",
    "\n",
    "print(f'Z = {round(Z,3)}, n = {n}')\n",
    "print(f'необходимо {n} раз заказать кофе в городе-n')"
   ]
  },
  {
   "cell_type": "markdown",
   "metadata": {},
   "source": [
    "<div class=\"alert alert-info\">\n",
    "<b>Задание № 4</b>\n",
    "\n",
    "Представьте, что вы хотите разоблачить \"волшебника\" который считает, что умеет предсказывать погоду на завтра, отвечая просто: дождь или солнце. Вы пронаблюдали за ответами \"волшебника\" в течении какого-то периода времени и получили некие результаты (см.ниже).\n",
    "\n",
    "Можно ли сказать, что маг действительно умеет предсказывать погоду? Уровень значимости принять за `0.05` ($\\alpha=0.05$).\n",
    "</div>"
   ]
  },
  {
   "cell_type": "code",
   "execution_count": 18,
   "metadata": {},
   "outputs": [
    {
     "data": {
      "text/html": [
       "<div>\n",
       "<style scoped>\n",
       "    .dataframe tbody tr th:only-of-type {\n",
       "        vertical-align: middle;\n",
       "    }\n",
       "\n",
       "    .dataframe tbody tr th {\n",
       "        vertical-align: top;\n",
       "    }\n",
       "\n",
       "    .dataframe thead th {\n",
       "        text-align: right;\n",
       "    }\n",
       "</style>\n",
       "<table border=\"1\" class=\"dataframe\">\n",
       "  <thead>\n",
       "    <tr style=\"text-align: right;\">\n",
       "      <th></th>\n",
       "      <th>Ответ волшебника</th>\n",
       "      <th>Реальность</th>\n",
       "    </tr>\n",
       "  </thead>\n",
       "  <tbody>\n",
       "    <tr>\n",
       "      <th>Дождь</th>\n",
       "      <td>10</td>\n",
       "      <td>15</td>\n",
       "    </tr>\n",
       "    <tr>\n",
       "      <th>Солнце</th>\n",
       "      <td>39</td>\n",
       "      <td>34</td>\n",
       "    </tr>\n",
       "  </tbody>\n",
       "</table>\n",
       "</div>"
      ],
      "text/plain": [
       "        Ответ волшебника  Реальность\n",
       "Дождь                 10          15\n",
       "Солнце                39          34"
      ]
     },
     "execution_count": 18,
     "metadata": {},
     "output_type": "execute_result"
    }
   ],
   "source": [
    "observations = pd.DataFrame([[10,15],[39,34]],\n",
    "                            index=['Дождь','Солнце'],\n",
    "                            columns=['Ответ волшебника','Реальность'])\n",
    "observations"
   ]
  },
  {
   "cell_type": "code",
   "execution_count": 19,
   "metadata": {},
   "outputs": [
    {
     "data": {
      "text/html": [
       "<div>\n",
       "<style scoped>\n",
       "    .dataframe tbody tr th:only-of-type {\n",
       "        vertical-align: middle;\n",
       "    }\n",
       "\n",
       "    .dataframe tbody tr th {\n",
       "        vertical-align: top;\n",
       "    }\n",
       "\n",
       "    .dataframe thead th {\n",
       "        text-align: right;\n",
       "    }\n",
       "</style>\n",
       "<table border=\"1\" class=\"dataframe\">\n",
       "  <thead>\n",
       "    <tr style=\"text-align: right;\">\n",
       "      <th></th>\n",
       "      <th>real_sun</th>\n",
       "      <th>real_rain</th>\n",
       "    </tr>\n",
       "  </thead>\n",
       "  <tbody>\n",
       "    <tr>\n",
       "      <th>wizard_guess_sun</th>\n",
       "      <td>34</td>\n",
       "      <td>5</td>\n",
       "    </tr>\n",
       "    <tr>\n",
       "      <th>wizard_guess_rain</th>\n",
       "      <td>0</td>\n",
       "      <td>10</td>\n",
       "    </tr>\n",
       "  </tbody>\n",
       "</table>\n",
       "</div>"
      ],
      "text/plain": [
       "                   real_sun  real_rain\n",
       "wizard_guess_sun         34          5\n",
       "wizard_guess_rain         0         10"
      ]
     },
     "execution_count": 19,
     "metadata": {},
     "output_type": "execute_result"
    }
   ],
   "source": [
    "wizard_sun = [34 , 5]\n",
    "wizard_rain = [0 , 10]\n",
    "fisher_table = pd.DataFrame( [wizard_sun] + [wizard_rain], \n",
    "                            index = [ 'wizard_guess_sun', 'wizard_guess_rain'], \n",
    "                            columns = ['real_sun', 'real_rain'] )\n",
    "fisher_table"
   ]
  },
  {
   "cell_type": "code",
   "execution_count": 20,
   "metadata": {},
   "outputs": [
    {
     "name": "stdout",
     "output_type": "stream",
     "text": [
      "3.654252676843151e-07\n",
      "Zero hypothesis is confirmed. Predictions do not correspond to real weather. Wizard is cheating.\n"
     ]
    }
   ],
   "source": [
    "import scipy.stats as stats\n",
    "# Учтите, что у тестов, в том чилсле и точного теста Фишера под нелевой гипотезой подразумевается случайность/отсутсвие эффекта\n",
    "\n",
    "fisher_confidence = 0.05\n",
    "fisher_criteria = stats.fisher_exact(fisher_table) \n",
    "\n",
    "print(fisher_criteria[1])\n",
    "if fisher_criteria[1] > confidence: print('Zero hypothesis is dissmissed. Predictions correspond to real weather. Wizard uses forse!')\n",
    "else: print('Zero hypothesis is confirmed. Predictions do not correspond to real weather. Wizard is cheating.')\n",
    "    "
   ]
  },
  {
   "cell_type": "markdown",
   "metadata": {},
   "source": [
    "<div class=\"alert alert-info\">\n",
    "<b>Задание № 5</b> \n",
    "\n",
    "Используя функцию mean_confidence_interval(data, confidence), постройте доверительный интервал с уровнем доверия $\\beta = 90\\%$ для выборки:\n",
    "\n",
    "</div>"
   ]
  },
  {
   "cell_type": "code",
   "execution_count": 21,
   "metadata": {},
   "outputs": [
    {
     "data": {
      "text/plain": [
       "4.71"
      ]
     },
     "execution_count": 21,
     "metadata": {},
     "output_type": "execute_result"
    }
   ],
   "source": [
    "data = [4,5,8,9,6,7,5,6,7,8,5,6,7,0,9,8,4,6,\n",
    "        7,9,8,6,5,7,8,9,6,7,5,8,6,7,9,5,10]\n",
    "\n",
    "n = len(data)\n",
    "confidence = 0.90\n",
    "m = np.array(data).mean()\n",
    "sigma = stats.sem(data, ddof = 1)\n",
    "\n",
    "Z = stats.norm.ppf( (1+confidence)/2 , loc = m, scale = sigma)\n",
    "mean_confidence_interval = round( 2 * Z * sigma, 2)\n",
    "mean_confidence_interval"
   ]
  },
  {
   "cell_type": "code",
   "execution_count": 22,
   "metadata": {},
   "outputs": [
    {
     "name": "stdout",
     "output_type": "stream",
     "text": [
      "Среднее из задачи:  6.63 ,\n",
      "\t Дельта = 2.35 , \n",
      " \t 90% доверительный интервал = 4.7 .\n"
     ]
    },
    {
     "data": {
      "image/png": "[encoded data removed]",
      "text/plain": [
       "<Figure size 504x360 with 1 Axes>"
      ]
     },
     "metadata": {
      "needs_background": "light"
     },
     "output_type": "display_data"
    }
   ],
   "source": [
    "plt.hist(data,bins=30)\n",
    "m = np.array(data).mean()\n",
    "\n",
    "print('Среднее из задачи: % .2f ,' %m)\n",
    "plt.plot([m , m], [8,0], c= 'orange')\n",
    "plt.text(m, 9, 'Среднее из задачи', c= 'orange', rotation = 'vertical', ha = 'center')\n",
    "\n",
    "delta = Z * sigma\n",
    "plt.plot([m-delta , m-delta], [8,0], c= 'green')\n",
    "plt.text(m-delta, 9, 'Доверительный интервал -', c= 'green', rotation = 'vertical', ha = 'center')\n",
    "\n",
    "plt.plot([m+delta , m+delta], [8,0], c= 'green')\n",
    "plt.text(m+delta, 9, 'Доверительный интервал +', c= 'green', rotation = 'vertical', ha = 'center')\n",
    "print(f'\\t Дельта = {delta:.2f} , \\n \\t {confidence *100:.0f}% доверительный интервал = {mean_confidence_interval:.1f} .')"
   ]
  },
  {
   "cell_type": "markdown",
   "metadata": {},
   "source": [
    "<div class=\"alert alert-info\">\n",
    "<b>Задание № 6</b>\n",
    "\n",
    "Принадлежат ли выборки data_1 и data_2 одному множеству? \n",
    "    \n",
    "- Оцените это с помощью известных вам тестов для проверок статистических гипотез;\n",
    "- Покажите различия визуально.\n",
    "</div>"
   ]
  },
  {
   "cell_type": "code",
   "execution_count": 23,
   "metadata": {},
   "outputs": [],
   "source": [
    "data_1 = [4,5,8,9,6,7,5,6,7,8,5,6,7,0,9,8,4,\n",
    "          6,7,9,8,6,5,7,8,9,6,7,5,8,6,7,9,5,10]\n",
    "\n",
    "data_2 = [8,5,6,7,0,1,8,4,6,7,0,2,6,5,7,5,3,5,3,\n",
    "          5,3,5,5,8,7,6,4,5,3,5,4,6,4,5,3,2,6,4,\n",
    "          2,6,1,0,4,3,5,4,3,4,5,4,3,4,5,4,3,4,5,\n",
    "          3,4,4,1,2,4,3,1,2,4,3,2,1,5,3,4,6,4,5,\n",
    "          3,2,4,5,6,4,3,1,3,5,3,4,4,4,2,5,3]\n",
    "\n",
    "#Ваш код:"
   ]
  },
  {
   "cell_type": "code",
   "execution_count": 24,
   "metadata": {},
   "outputs": [
    {
     "name": "stdout",
     "output_type": "stream",
     "text": [
      "n1= 35, n2= 93, sigma1= 0.33, sigma2= 0.18\n",
      "p1 =  0.014, p2 =  0.015\n",
      "критерий Шапиро-Уилка: Распределения НЕ нормальны\n"
     ]
    }
   ],
   "source": [
    "n1 = len(data_1)\n",
    "n2 = len(data_2)\n",
    "sigma1 = stats.sem(data_1, ddof = 1)\n",
    "sigma2 = stats.sem(data_2, ddof = 1)\n",
    "print(f'n1= {n1}, n2= {n2}, sigma1= {sigma1:.2f}, sigma2= {sigma2:.2f}')\n",
    "\n",
    "# проверим являются ли распределения нормальными. используем критерий Шапиро-Уилка:\n",
    "st1, p1 = stats.shapiro(data_1)  # критерий Шапиро-Уилка\n",
    "st2, p2 = stats.shapiro(data_2)  # критерий Шапиро-Уилка\n",
    "print(f'p1 =  {p1:.3f}, p2 =  {p2:.3f}')\n",
    "\n",
    "confidence = 0.05 # примем порог 5%\n",
    "if (p1 > confidence) and (p2 > confidence): print('Распределения нормальны')\n",
    "else: print('критерий Шапиро-Уилка: Распределения НЕ нормальны')"
   ]
  },
  {
   "cell_type": "code",
   "execution_count": 25,
   "metadata": {},
   "outputs": [
    {
     "name": "stdout",
     "output_type": "stream",
     "text": [
      "p1 =  0.004, p2 =  0.981\n",
      "Критерий согласия Пирсона: Распределения НЕ нормальны\n"
     ]
    }
   ],
   "source": [
    "# Проверим на нормальность тестом по критериею согласия Пирсона:\n",
    "st1, p1 = stats.normaltest(data_1) # Критерий согласия Пирсона\n",
    "st2, p2 = stats.normaltest(data_2) # Критерий согласия Пирсона\n",
    "print(f'p1 =  {p1:.3f}, p2 =  {p2:.3f}')\n",
    "\n",
    "confidence = 0.05 # примем порог 5%\n",
    "if (p1 > confidence) and (p2 > confidence): print('Распределения нормальны')\n",
    "else: print('Критерий согласия Пирсона: Распределения НЕ нормальны')"
   ]
  },
  {
   "cell_type": "code",
   "execution_count": 26,
   "metadata": {},
   "outputs": [
    {
     "name": "stdout",
     "output_type": "stream",
     "text": [
      "p1 =  0.014\n",
      "критерий Шапиро-Уилка: Распределение НЕ нормально\n"
     ]
    },
    {
     "data": {
      "image/png": "[encoded data removed]",
      "text/plain": [
       "<Figure size 216x216 with 1 Axes>"
      ]
     },
     "metadata": {
      "needs_background": "light"
     },
     "output_type": "display_data"
    }
   ],
   "source": [
    "# Нормализируем\n",
    "rcParams['figure.figsize'] = 3,3\n",
    "from sklearn.preprocessing import StandardScaler \n",
    "data_1_transformed = StandardScaler().fit_transform(np.array(data_1).reshape(-1,1) )\n",
    "plt.hist(data_1_transformed,bins = 10)\n",
    "\n",
    "# критерий Шапиро-Уилка\n",
    "st1, p1 = stats.shapiro(data_1_transformed)  \n",
    "print(f'p1 =  {p1:.3f}')\n",
    "\n",
    "if (p1 > confidence): print('Распределение нормально')\n",
    "else: print('критерий Шапиро-Уилка: Распределение НЕ нормально')"
   ]
  },
  {
   "cell_type": "code",
   "execution_count": 27,
   "metadata": {},
   "outputs": [
    {
     "name": "stdout",
     "output_type": "stream",
     "text": [
      "p1 =  0.014\n",
      "критерий Шапиро-Уилка: Распределение НЕ нормально\n"
     ]
    },
    {
     "data": {
      "image/png": "[encoded data removed]",
      "text/plain": [
       "<Figure size 216x216 with 1 Axes>"
      ]
     },
     "metadata": {
      "needs_background": "light"
     },
     "output_type": "display_data"
    }
   ],
   "source": [
    "# MinMaxScaling\n",
    "from sklearn.preprocessing import MinMaxScaler \n",
    "data_1_transformed = MinMaxScaler().fit_transform(np.array(data_1).reshape(-1,1))\n",
    "plt.hist(data_1_transformed ,bins = 10)\n",
    "\n",
    "# критерий Шапиро-Уилка\n",
    "st1, p1 = stats.shapiro(data_1_transformed)  \n",
    "print(f'p1 =  {p1:.3f}')\n",
    "\n",
    "if (p1 > confidence): print('Распределение нормально')\n",
    "else: print('критерий Шапиро-Уилка: Распределение НЕ нормально')"
   ]
  },
  {
   "cell_type": "code",
   "execution_count": 28,
   "metadata": {},
   "outputs": [
    {
     "name": "stdout",
     "output_type": "stream",
     "text": [
      "p1 =  0.272\n",
      "критерий Шапиро-Уилка: Распределение нормально\n"
     ]
    },
    {
     "data": {
      "image/png": "[encoded data removed]",
      "text/plain": [
       "<Figure size 216x216 with 1 Axes>"
      ]
     },
     "metadata": {
      "needs_background": "light"
     },
     "output_type": "display_data"
    }
   ],
   "source": [
    "#BoxCox\n",
    "data_1_transformed = stats.boxcox([x+1 for x in data_1])[0]\n",
    "plt.hist(data_1_transformed,bins=8)\n",
    "\n",
    "# критерий Шапиро-Уилка\n",
    "st1, p1 = stats.shapiro(data_1_transformed)  \n",
    "print(f'p1 =  {p1:.3f}')\n",
    "\n",
    "if (p1 > confidence): print('критерий Шапиро-Уилка: Распределение нормально')\n",
    "else: print('критерий Шапиро-Уилка: Распределение НЕ нормально')"
   ]
  },
  {
   "cell_type": "code",
   "execution_count": 29,
   "metadata": {},
   "outputs": [
    {
     "name": "stdout",
     "output_type": "stream",
     "text": [
      "\n"
     ]
    },
    {
     "data": {
      "image/png": "[encoded data removed]",
      "text/plain": [
       "<Figure size 216x216 with 1 Axes>"
      ]
     },
     "metadata": {
      "needs_background": "light"
     },
     "output_type": "display_data"
    }
   ],
   "source": [
    "#log2\n",
    "plt.hist(np.log2( [x+1 for x in data_1] ), bins=15)\n",
    "print()"
   ]
  },
  {
   "cell_type": "code",
   "execution_count": 30,
   "metadata": {},
   "outputs": [
    {
     "name": "stdout",
     "output_type": "stream",
     "text": [
      "p1 =  0.272\n",
      "критерий Шапиро-Уилка: Распределение нормально\n"
     ]
    },
    {
     "data": {
      "image/png": "[encoded data removed]",
      "text/plain": [
       "<Figure size 216x216 with 1 Axes>"
      ]
     },
     "metadata": {
      "needs_background": "light"
     },
     "output_type": "display_data"
    }
   ],
   "source": [
    "#yeojohnson\n",
    "data_1_transformed = stats.yeojohnson(data_1)[0]\n",
    "plt.hist(data_1_transformed,bins = 10)\n",
    "\n",
    "# критерий Шапиро-Уилка\n",
    "st1, p1 = stats.shapiro(data_1_transformed)  \n",
    "print(f'p1 =  {p1:.3f}')\n",
    "\n",
    "if (p1 > confidence): print('критерий Шапиро-Уилка: Распределение нормально')\n",
    "else: print('критерий Шапиро-Уилка: Распределение НЕ нормально')"
   ]
  },
  {
   "cell_type": "code",
   "execution_count": 31,
   "metadata": {},
   "outputs": [
    {
     "name": "stdout",
     "output_type": "stream",
     "text": [
      "n1= 35, n2= 93, sigma1= 1.23, sigma2= 0.18\n",
      "criteria_F = 6.77, f = 1.0792640781076557e-08\n",
      "критерий Фишера: H0 = True: отлонения (дисперсии) равны\n"
     ]
    }
   ],
   "source": [
    "# Поскольку в выборках все значения положительны, то используем метод BoxCox   \n",
    "# проверим как отличаются отклонения, для этого используем критерий Фишера. Если он меньше  порога 0.05 то принимаем нулевую гипотезу, что отлонения (дисперсии) не отличаются.\n",
    "confidence = 0.05\n",
    "\n",
    "data_1_transformed = stats.boxcox([x+1 for x in data_1])[0]\n",
    "data_2_transformed = stats.boxcox([x+1 for x in data_2])[0]\n",
    "sigma1 = stats.sem(data_1_transformed)\n",
    "sigma2 = stats.sem(data_2_transformed)\n",
    "print(f'n1= {n1}, n2= {n2}, sigma1= {sigma1:.2f}, sigma2= {sigma2:.2f}')\n",
    "\n",
    "criteria_F = sigma1 / sigma2\n",
    "f = 1 - stats.f.cdf(criteria_F, n2-1, n1-1)\n",
    "print( f'criteria_F = {criteria_F:.2f}, f = {f}')\n",
    "if (f < confidence): print('критерий Фишера: H0 = True: отлонения (дисперсии) равны')\n",
    "else: print('критерий Фишера: H0 != True: отлонения (дисперсии) отличаются')"
   ]
  },
  {
   "cell_type": "code",
   "execution_count": 32,
   "metadata": {},
   "outputs": [
    {
     "name": "stdout",
     "output_type": "stream",
     "text": [
      "Критерий Стьюдента = 6.808825581679214e-37\n",
      "\t критерий Стьюдента: H0 != True: Распределения различаются\n",
      "\t Zero hypothesis is dissmissed. Difference between samples is significant.\n"
     ]
    }
   ],
   "source": [
    "#т.к критерий Фишера с большой веротяностью указывает, что отклонения не сильно отличаются друг от друга (нулевая гипотеза), то можно применять критерий стьюдента и указывать equal_var = True\n",
    "student_criteria = stats.ttest_ind(data_1_transformed,data_2_transformed, equal_var = True)\n",
    "print(f'Критерий Стьюдента = {student_criteria[1]}')\n",
    "if student_criteria[1] < confidence: \n",
    "    print('\\t критерий Стьюдента: H0 != True: Распределения различаются') \n",
    "    print('\\t Zero hypothesis is dissmissed. Difference between samples is significant.')\n",
    "else: \n",
    "    print('\\t критерий Стьюдента: H0 = True: Распределения НЕ различаются')\n",
    "    print('\\t Zero hypothesis is confirmed. Difference between samples is negligeable.') "
   ]
  },
  {
   "cell_type": "markdown",
   "metadata": {},
   "source": [
    "### H0 != True. Распределения не принадлежат одной ГС"
   ]
  },
  {
   "cell_type": "code",
   "execution_count": 33,
   "metadata": {},
   "outputs": [
    {
     "data": {
      "text/plain": [
       "Text(3.930019865909306, 27, 'Среднее data_2_BoxCox')"
      ]
     },
     "execution_count": 33,
     "metadata": {},
     "output_type": "execute_result"
    },
    {
     "data": {
      "image/png": "[encoded data removed]",
      "text/plain": [
       "<Figure size 1152x576 with 2 Axes>"
      ]
     },
     "metadata": {
      "needs_background": "light"
     },
     "output_type": "display_data"
    }
   ],
   "source": [
    "#hist\n",
    "rcParams['figure.figsize'] = 16,8\n",
    "fig = plt.figure()\n",
    "fig.add_subplot(211)\n",
    "\n",
    "plt.hist(data_1,bins = 10)\n",
    "plt.hist(data_2,bins = 10,alpha = 0.5)\n",
    "plt.xticks(range(11))\n",
    "\n",
    "m_1 = np.array(data_1).mean()\n",
    "plt.plot([m_1 , m_1], [25,0],':m', c= 'blue')\n",
    "plt.text(m_1, 27, 'Среднее data_1', c= 'blue', rotation = 'horizontal', ha = 'center')\n",
    "\n",
    "m_2 = np.array(data_2).mean()\n",
    "plt.plot([m_2 , m_2], [25,0], c= 'orange')\n",
    "plt.text(m_2, 27, 'Среднее data_2', c= 'orange', rotation = 'horizontal', ha = 'center')\n",
    "\n",
    "fig.add_subplot(212)\n",
    "plt.hist(data_1_transformed,bins = 10)\n",
    "plt.hist(data_2_transformed,bins = 10,alpha = 0.5)\n",
    "plt.xticks(range(35))\n",
    "\n",
    "m_1 = np.array(data_1_transformed).mean()\n",
    "plt.plot([m_1 , m_1], [25,0],':m', c= 'blue')\n",
    "plt.text(m_1, 27, 'Среднее data_1_BoxCox', c= 'blue', rotation = 'horizontal', ha = 'center')\n",
    "\n",
    "m_2 = np.array(data_2_transformed).mean()\n",
    "plt.plot([m_2 , m_2], [25,0], c= 'orange')\n",
    "plt.text(m_2, 27, 'Среднее data_2_BoxCox', c= 'orange', rotation = 'horizontal', ha = 'center')"
   ]
  },
  {
   "cell_type": "markdown",
   "metadata": {},
   "source": [
    "### По Гистограмме видно, что распределения отличаются как по форме, амплитуде, так и по средним значениям"
   ]
  },
  {
   "cell_type": "code",
   "execution_count": 34,
   "metadata": {},
   "outputs": [
    {
     "data": {
      "image/png": "[encoded data removed]",
      "text/plain": [
       "<Figure size 1152x576 with 2 Axes>"
      ]
     },
     "metadata": {
      "needs_background": "light"
     },
     "output_type": "display_data"
    }
   ],
   "source": [
    "#boxplot\n",
    "\n",
    "fig = plt.figure()\n",
    "ax = fig.add_subplot(121)\n",
    "data = [data_1,data_2 ]\n",
    "plt.boxplot(data, labels = ['data_1','data_2'],vert = True)\n",
    "plt.yticks(range(11))\n",
    "\n",
    "ax = fig.add_subplot(122)\n",
    "data_transformed = [data_1_transformed,data_2_transformed ]\n",
    "plt.boxplot(data_transformed, labels = ['data_1_BoxCox','data_2_BoxCox'],vert = True)\n",
    "plt.yticks(range(35))\n",
    "plt.show()"
   ]
  },
  {
   "cell_type": "markdown",
   "metadata": {},
   "source": [
    "### По боксплоту можно сделать вывод, \n",
    "- медианы отличаются,\n",
    "- до и после трансформации ( BoxCox) ящики выборок не совпадают, совпадают только усами. "
   ]
  },
  {
   "cell_type": "markdown",
   "metadata": {},
   "source": [
    "<div class=\"alert alert-info\">\n",
    "<b>Задание № 7 (задание без подвоха)</b>\n",
    "\n",
    "На примере датасета про жилье в New York City, мы сталкивались с примером, когда переменная имеет не совсем нормальное распределение. \n",
    "\n",
    "- Предположим, Вы сформировали две гипотезы:\n",
    "    - нулевая гипотеза - распределение нормальное;\n",
    "    - альтернативная гипотеза - распределение ненормальное.\n",
    "- допустим, вы применили какой-то тест (сейчас неважно какой), который показал уровень значимости  `p-value = 0.03`. Каковы будут ваши выводы? Будем считать что у нас нормальное распределение или все-таки нет?)\n",
    "    \n",
    "</div>"
   ]
  },
  {
   "cell_type": "markdown",
   "metadata": {},
   "source": [
    "### Ваши выводы: \n",
    "Все зависит от порога: \n",
    "- Если порог 0.01 ( 1% ) или ниже, то нет основании отказаться от Нулевой Гипотезы( **Н0 - распределение нормальное** )\n",
    "- Если порог 0.05 ( 5% ) или выше , то есть основания отказаться от Нулевой Гипотезы и принять Альтернативную Гипотезу (**H1 - распределение ненормальное**)"
   ]
  },
  {
   "cell_type": "markdown",
   "metadata": {},
   "source": [
    "<div class=\"alert alert-info\">\n",
    "<b>Задание № 8</b>\n",
    "    \n",
    "Первая выборка — это пациенты, которых лечили препаратом `А`.  Вторая выборка — пациенты, которых лечили препаратом `B`.\n",
    "\n",
    "Значения в выборках — это некоторая характеристика эффективности лечения (уровень метаболита в крови, температура через три дня после начала лечения, срок выздоровления, число койко-дней, и т.д.) \n",
    "\n",
    "- Требуется выяснить, имеется ли значимое различие эффективности препаратов `А` и `B`, или различия являются чисто случайными и объясняются «естественной» дисперсией выбранной характеристики?  (`уровень значимости принять за 0.05 (5%)`)\n",
    "\n",
    "- При каком минимальном p-value различия были бы уже значимы? \n",
    "    \n",
    "- Если выборки незначительно отличаются, то продемонстрируйте это визуально\n",
    "</div>"
   ]
  },
  {
   "cell_type": "code",
   "execution_count": 35,
   "metadata": {},
   "outputs": [
    {
     "data": {
      "image/png": "[encoded data removed]",
      "text/plain": [
       "<Figure size 720x360 with 1 Axes>"
      ]
     },
     "metadata": {
      "needs_background": "light"
     },
     "output_type": "display_data"
    },
    {
     "data": {
      "image/png": "[encoded data removed]",
      "text/plain": [
       "<Figure size 720x360 with 2 Axes>"
      ]
     },
     "metadata": {
      "needs_background": "light"
     },
     "output_type": "display_data"
    },
    {
     "data": {
      "image/png": "[encoded data removed]",
      "text/plain": [
       "<Figure size 720x360 with 1 Axes>"
      ]
     },
     "metadata": {
      "needs_background": "light"
     },
     "output_type": "display_data"
    }
   ],
   "source": [
    "np.random.seed(11)\n",
    "A = stats.norm.rvs(scale=50,loc=10,size=300)\n",
    "B = A + stats.norm.rvs(scale=10,loc=-7.5,size=300)\n",
    "\n",
    "### Ваш код:\n",
    "# Подсказка, обратите внимание на Two-sample T-test\n",
    "\n",
    "#посмотрим на выборки\n",
    "rcParams['figure.figsize'] = 10,5\n",
    "plt.hist(A,bins =50)\n",
    "plt.hist(B,bins =50, alpha = 0.5)\n",
    "m_1 = np.array(A).mean()\n",
    "plt.plot([m_1 , m_1], [19,0],':m', c= 'blue')\n",
    "plt.text(m_1, 20, 'Среднее A', c= 'blue', rotation = 'vertical', ha = 'center')\n",
    "\n",
    "m_2 = np.array(B).mean()\n",
    "plt.plot([m_2 , m_2], [19,0], c= 'orange')\n",
    "plt.text(m_2, 20, 'Среднее B', c= 'orange', rotation = 'vertical', ha = 'center')\n",
    "\n",
    "\n",
    "plt.show()\n",
    "\n",
    "fig = plt.figure()\n",
    "fig.add_subplot(121)\n",
    "plt.boxplot(A)\n",
    "fig.add_subplot(122)\n",
    "plt.boxplot(B)\n",
    "plt.show()\n",
    "\n",
    "plt.boxplot(A)\n",
    "plt.boxplot(B)\n",
    "plt.show()"
   ]
  },
  {
   "cell_type": "code",
   "execution_count": 36,
   "metadata": {},
   "outputs": [
    {
     "name": "stdout",
     "output_type": "stream",
     "text": [
      "p2 =  0.156\n",
      "критерий Шапиро-Уилка: Распределение нормально\n"
     ]
    }
   ],
   "source": [
    "# А - Распределение нормально, это видно по условию задания. Проверим распределение В:\n",
    "\n",
    "st2, p2 = stats.shapiro(B)  # критерий Шапиро-Уилка\n",
    "print(f'p2 =  {p2:.3f}')\n",
    "\n",
    "confidence = 0.05 # примем порог 5%\n",
    "if (p2 > confidence): print('критерий Шапиро-Уилка: Распределение нормально')\n",
    "else: print('критерий Шапиро-Уилка: Распределение НЕ нормально')"
   ]
  },
  {
   "cell_type": "code",
   "execution_count": 37,
   "metadata": {},
   "outputs": [
    {
     "name": "stdout",
     "output_type": "stream",
     "text": [
      "sigma1= 2.79, sigma2= 2.90\n",
      "criteria_F = 0.96, f = 0.625\n",
      "критерий Фишера: H0 != True: отлонения (дисперсии) отличаются\n"
     ]
    }
   ],
   "source": [
    "# проверим как отличаются отклонения, для этого используем критерий Фишера. \n",
    "#   Если он меньше  порога 0.05 то принимаем нулевую гипотезу, что отлонения (дисперсии) не отличаются.\n",
    "confidence = 0.05\n",
    "\n",
    "sigma1 = stats.sem(A)\n",
    "sigma2 = stats.sem(B)\n",
    "n1 = n2 = 300\n",
    "print(f'sigma1= {sigma1:.2f}, sigma2= {sigma2:.2f}')\n",
    "\n",
    "criteria_F = sigma1 / sigma2\n",
    "f = 1 - stats.f.cdf(criteria_F, n2-1, n1-1)\n",
    "print( f'criteria_F = {criteria_F:.2f}, f = {f:.3f}')\n",
    "if (f < confidence): print('критерий Фишера: H0 = True: отлонения (дисперсии) равны')\n",
    "else: print('критерий Фишера: H0 != True: отлонения (дисперсии) отличаются')"
   ]
  },
  {
   "cell_type": "code",
   "execution_count": 38,
   "metadata": {},
   "outputs": [
    {
     "name": "stdout",
     "output_type": "stream",
     "text": [
      "Критерий Стьюдента = 4.646900674640473e-31\n",
      "критерий Стьюдента < 0.05 --> H0 != True: Средние распределений различаются, распределения НЕ принадлежат одной ГС с 95 % уверенностью\n"
     ]
    }
   ],
   "source": [
    "# проверим критерий Стьюдента для 2х связанных выборок:\n",
    "\n",
    "confidence = 0.05\n",
    "student_criteria_2smpl = stats.ttest_rel(A,B)\n",
    "print(f'Критерий Стьюдента = {student_criteria_2smpl[1]}')\n",
    "if student_criteria_2smpl[1] < confidence: \n",
    "    print(f'критерий Стьюдента < {confidence} --> H0 != True: Средние распределений различаются, распределения НЕ принадлежат одной ГС с {(1-confidence) *100:.0f} % уверенностью') \n",
    "else: \n",
    "    print(f'критерий Стьюдента > {confidence} --> H0 = True: Распределения НЕ различаются с {(1-confidence) *100:.0f} % уверенностью')"
   ]
  },
  {
   "cell_type": "markdown",
   "metadata": {},
   "source": [
    "### Распределения не принадлежат одной ГС. Стало быть, препарат имеет какое то влияние.\n",
    "Если бы порог был меньше 4.646900674640473e-31 , то тогда можно было бы сказать что выборки принадлежат одной ГС."
   ]
  }
 ],
 "metadata": {
  "kernelspec": {
   "display_name": "Python 3",
   "language": "python",
   "name": "python3"
  },
  "language_info": {
   "codemirror_mode": {
    "name": "ipython",
    "version": 3
   },
   "file_extension": ".py",
   "mimetype": "text/x-python",
   "name": "python",
   "nbconvert_exporter": "python",
   "pygments_lexer": "ipython3",
   "version": "3.8.5"
  }
 },
 "nbformat": 4,
 "nbformat_minor": 4
}
