{
 "cells": [
  {
   "cell_type": "code",
   "execution_count": 2,
   "metadata": {},
   "outputs": [],
   "source": [
    "import matplotlib.pyplot as plt\n",
    "import pandas as pd\n",
    "import numpy as np\n",
    "import seaborn as sns\n",
    "import scipy.stats as stats\n",
    "\n",
    "%matplotlib inline\n",
    "\n",
    "from pylab import rcParams\n",
    "rcParams['figure.figsize'] = 16,8"
   ]
  },
  {
   "cell_type": "code",
   "execution_count": null,
   "metadata": {},
   "outputs": [],
   "source": [
    "df = pd.read_csv('HR.csv')"
   ]
  },
  {
   "cell_type": "code",
   "execution_count": 58,
   "metadata": {},
   "outputs": [
    {
     "data": {
      "text/html": [
       "<div>\n",
       "<style scoped>\n",
       "    .dataframe tbody tr th:only-of-type {\n",
       "        vertical-align: middle;\n",
       "    }\n",
       "\n",
       "    .dataframe tbody tr th {\n",
       "        vertical-align: top;\n",
       "    }\n",
       "\n",
       "    .dataframe thead th {\n",
       "        text-align: right;\n",
       "    }\n",
       "</style>\n",
       "<table border=\"1\" class=\"dataframe\">\n",
       "  <thead>\n",
       "    <tr style=\"text-align: right;\">\n",
       "      <th></th>\n",
       "      <th>satisfaction_level</th>\n",
       "      <th>last_evaluation</th>\n",
       "      <th>number_project</th>\n",
       "      <th>average_montly_hours</th>\n",
       "      <th>time_spend_company</th>\n",
       "      <th>Work_accident</th>\n",
       "      <th>left</th>\n",
       "      <th>promotion_last_5years</th>\n",
       "      <th>department</th>\n",
       "      <th>salary</th>\n",
       "    </tr>\n",
       "  </thead>\n",
       "  <tbody>\n",
       "    <tr>\n",
       "      <th>0</th>\n",
       "      <td>0.38</td>\n",
       "      <td>0.53</td>\n",
       "      <td>2</td>\n",
       "      <td>157</td>\n",
       "      <td>3</td>\n",
       "      <td>0</td>\n",
       "      <td>1</td>\n",
       "      <td>0</td>\n",
       "      <td>sales</td>\n",
       "      <td>low</td>\n",
       "    </tr>\n",
       "    <tr>\n",
       "      <th>1</th>\n",
       "      <td>0.80</td>\n",
       "      <td>0.86</td>\n",
       "      <td>5</td>\n",
       "      <td>262</td>\n",
       "      <td>6</td>\n",
       "      <td>0</td>\n",
       "      <td>1</td>\n",
       "      <td>0</td>\n",
       "      <td>sales</td>\n",
       "      <td>medium</td>\n",
       "    </tr>\n",
       "    <tr>\n",
       "      <th>2</th>\n",
       "      <td>0.11</td>\n",
       "      <td>0.88</td>\n",
       "      <td>7</td>\n",
       "      <td>272</td>\n",
       "      <td>4</td>\n",
       "      <td>0</td>\n",
       "      <td>1</td>\n",
       "      <td>0</td>\n",
       "      <td>sales</td>\n",
       "      <td>medium</td>\n",
       "    </tr>\n",
       "    <tr>\n",
       "      <th>3</th>\n",
       "      <td>0.72</td>\n",
       "      <td>0.87</td>\n",
       "      <td>5</td>\n",
       "      <td>223</td>\n",
       "      <td>5</td>\n",
       "      <td>0</td>\n",
       "      <td>1</td>\n",
       "      <td>0</td>\n",
       "      <td>sales</td>\n",
       "      <td>low</td>\n",
       "    </tr>\n",
       "    <tr>\n",
       "      <th>4</th>\n",
       "      <td>0.37</td>\n",
       "      <td>0.52</td>\n",
       "      <td>2</td>\n",
       "      <td>159</td>\n",
       "      <td>3</td>\n",
       "      <td>0</td>\n",
       "      <td>1</td>\n",
       "      <td>0</td>\n",
       "      <td>sales</td>\n",
       "      <td>low</td>\n",
       "    </tr>\n",
       "  </tbody>\n",
       "</table>\n",
       "</div>"
      ],
      "text/plain": [
       "   satisfaction_level  last_evaluation  number_project  average_montly_hours  \\\n",
       "0                0.38             0.53               2                   157   \n",
       "1                0.80             0.86               5                   262   \n",
       "2                0.11             0.88               7                   272   \n",
       "3                0.72             0.87               5                   223   \n",
       "4                0.37             0.52               2                   159   \n",
       "\n",
       "   time_spend_company  Work_accident  left  promotion_last_5years department  \\\n",
       "0                   3              0     1                      0      sales   \n",
       "1                   6              0     1                      0      sales   \n",
       "2                   4              0     1                      0      sales   \n",
       "3                   5              0     1                      0      sales   \n",
       "4                   3              0     1                      0      sales   \n",
       "\n",
       "   salary  \n",
       "0     low  \n",
       "1  medium  \n",
       "2  medium  \n",
       "3     low  \n",
       "4     low  "
      ]
     },
     "execution_count": 58,
     "metadata": {},
     "output_type": "execute_result"
    }
   ],
   "source": [
    "# pd.set_option('max_colwidth', 50)\n",
    "# pd.set_option('display.width', 80)\n",
    "df.head(5)"
   ]
  },
  {
   "cell_type": "code",
   "execution_count": 8,
   "metadata": {
    "collapsed": true
   },
   "outputs": [
    {
     "data": {
      "text/html": [
       "<div>\n",
       "<style scoped>\n",
       "    .dataframe tbody tr th:only-of-type {\n",
       "        vertical-align: middle;\n",
       "    }\n",
       "\n",
       "    .dataframe tbody tr th {\n",
       "        vertical-align: top;\n",
       "    }\n",
       "\n",
       "    .dataframe thead th {\n",
       "        text-align: right;\n",
       "    }\n",
       "</style>\n",
       "<table border=\"1\" class=\"dataframe\">\n",
       "  <thead>\n",
       "    <tr style=\"text-align: right;\">\n",
       "      <th></th>\n",
       "      <th>satisfaction_level</th>\n",
       "      <th>last_evaluation</th>\n",
       "      <th>number_project</th>\n",
       "      <th>average_montly_hours</th>\n",
       "      <th>time_spend_company</th>\n",
       "      <th>Work_accident</th>\n",
       "      <th>left</th>\n",
       "      <th>promotion_last_5years</th>\n",
       "      <th>department</th>\n",
       "      <th>salary</th>\n",
       "    </tr>\n",
       "  </thead>\n",
       "  <tbody>\n",
       "    <tr>\n",
       "      <th>7499</th>\n",
       "      <td>0.93</td>\n",
       "      <td>0.58</td>\n",
       "      <td>5</td>\n",
       "      <td>238</td>\n",
       "      <td>2</td>\n",
       "      <td>0</td>\n",
       "      <td>0</td>\n",
       "      <td>0</td>\n",
       "      <td>sales</td>\n",
       "      <td>medium</td>\n",
       "    </tr>\n",
       "    <tr>\n",
       "      <th>3841</th>\n",
       "      <td>0.76</td>\n",
       "      <td>0.61</td>\n",
       "      <td>3</td>\n",
       "      <td>141</td>\n",
       "      <td>2</td>\n",
       "      <td>0</td>\n",
       "      <td>0</td>\n",
       "      <td>0</td>\n",
       "      <td>sales</td>\n",
       "      <td>medium</td>\n",
       "    </tr>\n",
       "    <tr>\n",
       "      <th>5714</th>\n",
       "      <td>0.54</td>\n",
       "      <td>0.82</td>\n",
       "      <td>4</td>\n",
       "      <td>266</td>\n",
       "      <td>2</td>\n",
       "      <td>0</td>\n",
       "      <td>0</td>\n",
       "      <td>0</td>\n",
       "      <td>IT</td>\n",
       "      <td>medium</td>\n",
       "    </tr>\n",
       "    <tr>\n",
       "      <th>11360</th>\n",
       "      <td>0.62</td>\n",
       "      <td>0.75</td>\n",
       "      <td>5</td>\n",
       "      <td>165</td>\n",
       "      <td>4</td>\n",
       "      <td>0</td>\n",
       "      <td>0</td>\n",
       "      <td>0</td>\n",
       "      <td>sales</td>\n",
       "      <td>medium</td>\n",
       "    </tr>\n",
       "    <tr>\n",
       "      <th>11361</th>\n",
       "      <td>0.87</td>\n",
       "      <td>0.48</td>\n",
       "      <td>5</td>\n",
       "      <td>242</td>\n",
       "      <td>3</td>\n",
       "      <td>0</td>\n",
       "      <td>0</td>\n",
       "      <td>0</td>\n",
       "      <td>sales</td>\n",
       "      <td>medium</td>\n",
       "    </tr>\n",
       "    <tr>\n",
       "      <th>...</th>\n",
       "      <td>...</td>\n",
       "      <td>...</td>\n",
       "      <td>...</td>\n",
       "      <td>...</td>\n",
       "      <td>...</td>\n",
       "      <td>...</td>\n",
       "      <td>...</td>\n",
       "      <td>...</td>\n",
       "      <td>...</td>\n",
       "      <td>...</td>\n",
       "    </tr>\n",
       "    <tr>\n",
       "      <th>5865</th>\n",
       "      <td>0.17</td>\n",
       "      <td>0.91</td>\n",
       "      <td>6</td>\n",
       "      <td>246</td>\n",
       "      <td>5</td>\n",
       "      <td>0</td>\n",
       "      <td>0</td>\n",
       "      <td>0</td>\n",
       "      <td>IT</td>\n",
       "      <td>high</td>\n",
       "    </tr>\n",
       "    <tr>\n",
       "      <th>12618</th>\n",
       "      <td>0.45</td>\n",
       "      <td>0.57</td>\n",
       "      <td>2</td>\n",
       "      <td>148</td>\n",
       "      <td>3</td>\n",
       "      <td>0</td>\n",
       "      <td>1</td>\n",
       "      <td>0</td>\n",
       "      <td>marketing</td>\n",
       "      <td>high</td>\n",
       "    </tr>\n",
       "    <tr>\n",
       "      <th>7572</th>\n",
       "      <td>0.62</td>\n",
       "      <td>0.76</td>\n",
       "      <td>4</td>\n",
       "      <td>163</td>\n",
       "      <td>3</td>\n",
       "      <td>0</td>\n",
       "      <td>0</td>\n",
       "      <td>0</td>\n",
       "      <td>sales</td>\n",
       "      <td>high</td>\n",
       "    </tr>\n",
       "    <tr>\n",
       "      <th>10245</th>\n",
       "      <td>0.79</td>\n",
       "      <td>0.56</td>\n",
       "      <td>4</td>\n",
       "      <td>177</td>\n",
       "      <td>3</td>\n",
       "      <td>0</td>\n",
       "      <td>0</td>\n",
       "      <td>0</td>\n",
       "      <td>sales</td>\n",
       "      <td>high</td>\n",
       "    </tr>\n",
       "    <tr>\n",
       "      <th>6955</th>\n",
       "      <td>0.99</td>\n",
       "      <td>0.95</td>\n",
       "      <td>3</td>\n",
       "      <td>153</td>\n",
       "      <td>4</td>\n",
       "      <td>0</td>\n",
       "      <td>0</td>\n",
       "      <td>0</td>\n",
       "      <td>marketing</td>\n",
       "      <td>high</td>\n",
       "    </tr>\n",
       "  </tbody>\n",
       "</table>\n",
       "<p>14999 rows × 10 columns</p>\n",
       "</div>"
      ],
      "text/plain": [
       "       satisfaction_level  last_evaluation  number_project  \\\n",
       "7499                 0.93             0.58               5   \n",
       "3841                 0.76             0.61               3   \n",
       "5714                 0.54             0.82               4   \n",
       "11360                0.62             0.75               5   \n",
       "11361                0.87             0.48               5   \n",
       "...                   ...              ...             ...   \n",
       "5865                 0.17             0.91               6   \n",
       "12618                0.45             0.57               2   \n",
       "7572                 0.62             0.76               4   \n",
       "10245                0.79             0.56               4   \n",
       "6955                 0.99             0.95               3   \n",
       "\n",
       "       average_montly_hours  time_spend_company  Work_accident  left  \\\n",
       "7499                    238                   2              0     0   \n",
       "3841                    141                   2              0     0   \n",
       "5714                    266                   2              0     0   \n",
       "11360                   165                   4              0     0   \n",
       "11361                   242                   3              0     0   \n",
       "...                     ...                 ...            ...   ...   \n",
       "5865                    246                   5              0     0   \n",
       "12618                   148                   3              0     1   \n",
       "7572                    163                   3              0     0   \n",
       "10245                   177                   3              0     0   \n",
       "6955                    153                   4              0     0   \n",
       "\n",
       "       promotion_last_5years department  salary  \n",
       "7499                       0      sales  medium  \n",
       "3841                       0      sales  medium  \n",
       "5714                       0         IT  medium  \n",
       "11360                      0      sales  medium  \n",
       "11361                      0      sales  medium  \n",
       "...                      ...        ...     ...  \n",
       "5865                       0         IT    high  \n",
       "12618                      0  marketing    high  \n",
       "7572                       0      sales    high  \n",
       "10245                      0      sales    high  \n",
       "6955                       0  marketing    high  \n",
       "\n",
       "[14999 rows x 10 columns]"
      ]
     },
     "execution_count": 8,
     "metadata": {},
     "output_type": "execute_result"
    }
   ],
   "source": [
    "df.sort_values('salary', ascending=False)"
   ]
  },
  {
   "cell_type": "markdown",
   "metadata": {},
   "source": [
    "### Задание 2. `Рассчитайте основные статистики для переменных(среднее,медиана,мода,мин/макс,сред.отклонение).`"
   ]
  },
  {
   "cell_type": "code",
   "execution_count": 89,
   "metadata": {},
   "outputs": [
    {
     "name": "stdout",
     "output_type": "stream",
     "text": [
      "satisfaction_level\n",
      "-------------------------------------------------------\n",
      " \tсредняя = 0.61, медиана (2ая квантиль) = 0.64, 1ая мода = [0.1],\n",
      "        минимум = 0.09, максимум = 1.00, стандартное отклонение (сигма) = 0.25,\n",
      "        0.25_кванитиль = 0.44, 0.75_кванитиль = 0.82, межквантильный размах (IQR) = 0.57\n",
      "\n",
      "last_evaluation\n",
      "-------------------------------------------------------\n",
      " \tсредняя = 0.72, медиана (2ая квантиль) = 0.72, 1ая мода = [0.55],\n",
      "        минимум = 0.36, максимум = 1.00, стандартное отклонение (сигма) = 0.17,\n",
      "        0.25_кванитиль = 0.56, 0.75_кванитиль = 0.87, межквантильный размах (IQR) = 0.46\n",
      "\n",
      "number_project\n",
      "-------------------------------------------------------\n",
      " \tсредняя = 3.80, медиана (2ая квантиль) = 4.00, 1ая мода = [4],\n",
      "        минимум = 2.00, максимум = 7.00, стандартное отклонение (сигма) = 1.23,\n",
      "        0.25_кванитиль = 3.00, 0.75_кванитиль = 5.00, межквантильный размах (IQR) = 3.00\n",
      "\n",
      "average_montly_hours\n",
      "-------------------------------------------------------\n",
      " \tсредняя = 201.05, медиана (2ая квантиль) = 200.00, 1ая мода = [135],\n",
      "        минимум = 96.00, максимум = 310.00, стандартное отклонение (сигма) = 49.94,\n",
      "        0.25_кванитиль = 156.00, 0.75_кванитиль = 245.00, межквантильный размах (IQR) = 133.50\n",
      "\n",
      "time_spend_company\n",
      "-------------------------------------------------------\n",
      " \tсредняя = 3.50, медиана (2ая квантиль) = 3.00, 1ая мода = [3],\n",
      "        минимум = 2.00, максимум = 10.00, стандартное отклонение (сигма) = 1.46,\n",
      "        0.25_кванитиль = 3.00, 0.75_кванитиль = 4.00, межквантильный размах (IQR) = 1.50\n",
      "\n",
      "Work_accident\n",
      "-------------------------------------------------------\n",
      " \tсредняя = 0.14, медиана (2ая квантиль) = 0.00, 1ая мода = [0],\n",
      "        минимум = 0.00, максимум = 1.00, стандартное отклонение (сигма) = 0.35,\n",
      "        0.25_кванитиль = 0.00, 0.75_кванитиль = 0.00, межквантильный размах (IQR) = 0.00\n",
      "\n",
      "left\n",
      "-------------------------------------------------------\n",
      " \tсредняя = 0.24, медиана (2ая квантиль) = 0.00, 1ая мода = [0],\n",
      "        минимум = 0.00, максимум = 1.00, стандартное отклонение (сигма) = 0.43,\n",
      "        0.25_кванитиль = 0.00, 0.75_кванитиль = 0.00, межквантильный размах (IQR) = 0.00\n",
      "\n",
      "promotion_last_5years\n",
      "-------------------------------------------------------\n",
      " \tсредняя = 0.02, медиана (2ая квантиль) = 0.00, 1ая мода = [0],\n",
      "        минимум = 0.00, максимум = 1.00, стандартное отклонение (сигма) = 0.14,\n",
      "        0.25_кванитиль = 0.00, 0.75_кванитиль = 0.00, межквантильный размах (IQR) = 0.00\n",
      "\n"
     ]
    }
   ],
   "source": [
    "for column in df.columns:\n",
    "    if ( str( type(df.loc[:,column][0]) ).find('numpy') == -1 ) :continue\n",
    "    print(column)\n",
    "    print('-'*55 )\n",
    "    arr = np.array(df.loc[:,column])\n",
    "    mean_ = arr.mean()\n",
    "    median_ = np.median(arr)\n",
    "    mode_ = stats.mode(arr )[0] \n",
    "    min_ = np.min( arr )\n",
    "    max_ = np.max( arr )\n",
    "    std_ = np.std( arr, ddof = 1 )\n",
    "    q1 = np.quantile( arr, 0.25)\n",
    "    q3 = np.quantile( arr, 0.75)\n",
    "    iqr = 1.5*(q3-q1)\n",
    "    \n",
    "    print(f''' \\tсредняя = {mean_:.2f}, медиана (2ая квантиль) = {median_:.2f}, 1ая мода = {mode_},\n",
    "        минимум = {min_:.2f}, максимум = {max_:.2f}, стандартное отклонение (сигма) = {std_:.2f},\n",
    "        0.25_кванитиль = {q1:.2f}, 0.75_кванитиль = {q3:.2f}, межквантильный размах (IQR) = {iqr:.2f}\\n''' )\n",
    "del arr, mean_ ,median_ , mode_ , min_ , max_ , std_ , q1, q3 , iqr # Бережем память #RAM-friendly\n",
    "    #break"
   ]
  },
  {
   "cell_type": "markdown",
   "metadata": {},
   "source": [
    "Выводы:\n",
    "- За последние 5 лет повышали в среднем 2% сотрудников, не удивительно, почему так много ушедших - 24% и среди 68% всех сотрудников ушли из компании от 0% до 67% (0.24 +- 1 сигма)\n",
    "- в среднем 68% сотрудников проводят в копании от 2 до 5 лет, а больше 5.5 лет считается выбросом (то есть если ты в компании более 5.5лет это уникально)\n",
    "- В среднем из 68% сотрудников шанс несчастного случая 0 - 50% с средним 14%( средняя 0.14 +- 1сигма 0.35), что довольно много\n",
    "- в среднем 68% сотрудников проводят от 150 до 250 часов за рабочим местом, при том что первая мода - 135 - что говорит что кто то ходит на работу как надо, а сильно выраженная группа серьезно халтурит (с дисциплиной там не все в порядке).\n",
    "- в среднем 68% сотрудников выполнили от 2 до 5 проектов\n",
    "- последняя проверка у 68% сотрудников была 7- 9 месяцев назад (от 0.6 до 0.8 года)\n",
    "- уровень удовлетворенности работой  у 68% сотрудников от 35% до 85% с медианой 10%, то есть есть сильное расслоение кому работа не нравится и кому нравится.\n",
    "\n",
    "PS. на данный момент допустили, что все распределения нормальные.. (хотя по модам не попадающим в доверительный интервал уже подозрительно)"
   ]
  },
  {
   "cell_type": "markdown",
   "metadata": {},
   "source": [
    "### Задание 3. `Рассчитайте и визуализировать корреляционную матрицу для количественных переменных.Определите две самые скоррелированные и две наименее скоррелированные переменные.`"
   ]
  },
  {
   "cell_type": "code",
   "execution_count": 105,
   "metadata": {},
   "outputs": [
    {
     "name": "stdout",
     "output_type": "stream",
     "text": [
      "Максимальная обратная корреляция:\n",
      "---------------------------------------------------------------------------\n",
      "\t Между переменными \"satisfaction_level\" и \"left\" \n",
      "\n",
      "Вообще нет корреляции:\n",
      "---------------------------------------------------------------------------\n",
      "\t Между переменными \"time_spend_company\" и \"Work_accident\" \n",
      "\n",
      "Максимальная корреляция:\n",
      "---------------------------------------------------------------------------\n",
      "\t Между переменными \"number_project\" и \"average_montly_hours\"\n"
     ]
    }
   ],
   "source": [
    "correlation_array = np.array( df.corr() )\n",
    "columns_array = list(df.columns)\n",
    "\n",
    "#min\n",
    "min_ = np.min(correlation_array)\n",
    "index_min = np.argwhere(correlation_array==min_)[0]\n",
    "print('Максимальная обратная корреляция:')\n",
    "print('-'*75)\n",
    "print(f'\\t Между переменными \"{columns_array[index_min[0]]}\" и \"{columns_array[index_min[1]]}\" \\n')\n",
    "\n",
    "#no correlation \n",
    "## для этого возведем все значения в квадрат(чтобы убрать минусы) и найдем минимум, то есть значение максимально близкое к 0\n",
    "min_ = np.min(correlation_array**2)\n",
    "index_min = np.argwhere(correlation_array**2==min_)[0]\n",
    "print('Вообще нет корреляции:')\n",
    "print('-'*75)\n",
    "print(f'\\t Между переменными \"{columns_array[index_min[0]]}\" и \"{columns_array[index_min[1]]}\" \\n')\n",
    "\n",
    "\n",
    "#max\n",
    "np.place(correlation_array, correlation_array == 1, 0) # для нахождения максимума уберем все 1 (корреляция самой с собой)\n",
    "max_ = np.max(correlation_array)\n",
    "index_max = np.argwhere(correlation_array==max_)[0]\n",
    "\n",
    "print('Максимальная корреляция:')\n",
    "print('-'*75)\n",
    "print(f'\\t Между переменными \"{columns_array[index_max[0]]}\" и \"{columns_array[index_max[1]]}\"')\n",
    "\n",
    "del correlation_array, index_max, index_min, columns_array, min_, max_ #be RAM-friendly"
   ]
  },
  {
   "cell_type": "markdown",
   "metadata": {},
   "source": [
    "Выводы логичны:\n",
    "- если у сотрудника \"Уровень удовлетворенности работой низкий\", то он уволиться хочет \n",
    "- если сотрудник выполнил много проектов, то скорее всего он проводит много времени на работе"
   ]
  },
  {
   "cell_type": "code",
   "execution_count": 69,
   "metadata": {},
   "outputs": [
    {
     "data": {
      "text/plain": [
       "<AxesSubplot:>"
      ]
     },
     "execution_count": 69,
     "metadata": {},
     "output_type": "execute_result"
    },
    {
     "data": {
      "image/png": "[encoded data removed]",
      "text/plain": [
       "<Figure size 360x360 with 2 Axes>"
      ]
     },
     "metadata": {
      "needs_background": "light"
     },
     "output_type": "display_data"
    }
   ],
   "source": [
    "# Визуализируем\n",
    "fig =plt.figure(figsize=(5,5))\n",
    "sns.heatmap(df.corr())"
   ]
  },
  {
   "cell_type": "markdown",
   "metadata": {},
   "source": [
    "Есть еще два логичных претендента на обратную корреляцию это:  `satisfaction_level` и `number_project` | `left` и `Work_accident`"
   ]
  },
  {
   "cell_type": "markdown",
   "metadata": {},
   "source": [
    "### Задание 4. `Рассчитайте сколько сотрудников работает в каждом департаменте.`"
   ]
  },
  {
   "cell_type": "code",
   "execution_count": 127,
   "metadata": {},
   "outputs": [
    {
     "data": {
      "text/html": [
       "<div>\n",
       "<style scoped>\n",
       "    .dataframe tbody tr th:only-of-type {\n",
       "        vertical-align: middle;\n",
       "    }\n",
       "\n",
       "    .dataframe tbody tr th {\n",
       "        vertical-align: top;\n",
       "    }\n",
       "\n",
       "    .dataframe thead th {\n",
       "        text-align: right;\n",
       "    }\n",
       "</style>\n",
       "<table border=\"1\" class=\"dataframe\">\n",
       "  <thead>\n",
       "    <tr style=\"text-align: right;\">\n",
       "      <th></th>\n",
       "      <th>department</th>\n",
       "      <th>Employee_number</th>\n",
       "    </tr>\n",
       "  </thead>\n",
       "  <tbody>\n",
       "    <tr>\n",
       "      <th>7</th>\n",
       "      <td>sales</td>\n",
       "      <td>4140</td>\n",
       "    </tr>\n",
       "    <tr>\n",
       "      <th>9</th>\n",
       "      <td>technical</td>\n",
       "      <td>2720</td>\n",
       "    </tr>\n",
       "    <tr>\n",
       "      <th>8</th>\n",
       "      <td>support</td>\n",
       "      <td>2229</td>\n",
       "    </tr>\n",
       "    <tr>\n",
       "      <th>0</th>\n",
       "      <td>IT</td>\n",
       "      <td>1227</td>\n",
       "    </tr>\n",
       "    <tr>\n",
       "      <th>6</th>\n",
       "      <td>product_mng</td>\n",
       "      <td>902</td>\n",
       "    </tr>\n",
       "    <tr>\n",
       "      <th>5</th>\n",
       "      <td>marketing</td>\n",
       "      <td>858</td>\n",
       "    </tr>\n",
       "    <tr>\n",
       "      <th>1</th>\n",
       "      <td>RandD</td>\n",
       "      <td>787</td>\n",
       "    </tr>\n",
       "    <tr>\n",
       "      <th>2</th>\n",
       "      <td>accounting</td>\n",
       "      <td>767</td>\n",
       "    </tr>\n",
       "    <tr>\n",
       "      <th>3</th>\n",
       "      <td>hr</td>\n",
       "      <td>739</td>\n",
       "    </tr>\n",
       "    <tr>\n",
       "      <th>4</th>\n",
       "      <td>management</td>\n",
       "      <td>630</td>\n",
       "    </tr>\n",
       "  </tbody>\n",
       "</table>\n",
       "</div>"
      ],
      "text/plain": [
       "    department  Employee_number\n",
       "7        sales             4140\n",
       "9    technical             2720\n",
       "8      support             2229\n",
       "0           IT             1227\n",
       "6  product_mng              902\n",
       "5    marketing              858\n",
       "1        RandD              787\n",
       "2   accounting              767\n",
       "3           hr              739\n",
       "4   management              630"
      ]
     },
     "execution_count": 127,
     "metadata": {},
     "output_type": "execute_result"
    }
   ],
   "source": [
    "employee_count = df.groupby('department').satisfaction_level.count().reset_index()\n",
    "employee_count.columns = ['department', 'Employee_number']\n",
    "employee_count.sort_values('Employee_number', ascending = False)"
   ]
  },
  {
   "cell_type": "code",
   "execution_count": 128,
   "metadata": {},
   "outputs": [],
   "source": [
    "del employee_count #менее RAM-friendly (DataFrame из памяти не удаляется)"
   ]
  },
  {
   "cell_type": "markdown",
   "metadata": {},
   "source": [
    "### Задание 5. `Показать распределение сотрудников по зарплатам`"
   ]
  },
  {
   "cell_type": "code",
   "execution_count": 124,
   "metadata": {},
   "outputs": [
    {
     "data": {
      "text/plain": [
       "Index(['satisfaction_level', 'last_evaluation', 'number_project',\n",
       "       'average_montly_hours', 'time_spend_company', 'Work_accident', 'left',\n",
       "       'promotion_last_5years', 'department', 'salary'],\n",
       "      dtype='object')"
      ]
     },
     "execution_count": 124,
     "metadata": {},
     "output_type": "execute_result"
    }
   ],
   "source": [
    "df.columns"
   ]
  },
  {
   "cell_type": "code",
   "execution_count": 131,
   "metadata": {
    "scrolled": true
   },
   "outputs": [
    {
     "data": {
      "text/html": [
       "<div>\n",
       "<style scoped>\n",
       "    .dataframe tbody tr th:only-of-type {\n",
       "        vertical-align: middle;\n",
       "    }\n",
       "\n",
       "    .dataframe tbody tr th {\n",
       "        vertical-align: top;\n",
       "    }\n",
       "\n",
       "    .dataframe thead th {\n",
       "        text-align: right;\n",
       "    }\n",
       "</style>\n",
       "<table border=\"1\" class=\"dataframe\">\n",
       "  <thead>\n",
       "    <tr style=\"text-align: right;\">\n",
       "      <th></th>\n",
       "      <th>salary</th>\n",
       "      <th>Employee_number</th>\n",
       "    </tr>\n",
       "  </thead>\n",
       "  <tbody>\n",
       "    <tr>\n",
       "      <th>0</th>\n",
       "      <td>high</td>\n",
       "      <td>1237</td>\n",
       "    </tr>\n",
       "    <tr>\n",
       "      <th>2</th>\n",
       "      <td>medium</td>\n",
       "      <td>6446</td>\n",
       "    </tr>\n",
       "    <tr>\n",
       "      <th>1</th>\n",
       "      <td>low</td>\n",
       "      <td>7316</td>\n",
       "    </tr>\n",
       "  </tbody>\n",
       "</table>\n",
       "</div>"
      ],
      "text/plain": [
       "   salary  Employee_number\n",
       "0    high             1237\n",
       "2  medium             6446\n",
       "1     low             7316"
      ]
     },
     "execution_count": 131,
     "metadata": {},
     "output_type": "execute_result"
    }
   ],
   "source": [
    "employee_salary_count = df.groupby('salary').satisfaction_level.count().reset_index()\n",
    "employee_salary_count.columns = ['salary', 'Employee_number']\n",
    "employee_salary_count.sort_values('Employee_number', ascending = True)"
   ]
  },
  {
   "cell_type": "code",
   "execution_count": 132,
   "metadata": {},
   "outputs": [],
   "source": [
    "del employee_salary_count #менее RAM-friendly (DataFrame из памяти не удаляется)"
   ]
  },
  {
   "cell_type": "markdown",
   "metadata": {},
   "source": [
    "### Задание 6. `Показать распределение сотрудников по зарплатам в каждом департаменте по отдельности`"
   ]
  },
  {
   "cell_type": "code",
   "execution_count": 141,
   "metadata": {
    "collapsed": true
   },
   "outputs": [
    {
     "data": {
      "text/html": [
       "<style  type=\"text/css\" >\n",
       "#T_0c1091d1_be00_11eb_8ae6_5453ed2e2dc1row0_col2,#T_0c1091d1_be00_11eb_8ae6_5453ed2e2dc1row15_col2{\n",
       "            background-color:  #f4f9fe;\n",
       "            color:  #000000;\n",
       "        }#T_0c1091d1_be00_11eb_8ae6_5453ed2e2dc1row1_col2{\n",
       "            background-color:  #bed8ec;\n",
       "            color:  #000000;\n",
       "        }#T_0c1091d1_be00_11eb_8ae6_5453ed2e2dc1row2_col2{\n",
       "            background-color:  #c8dcf0;\n",
       "            color:  #000000;\n",
       "        }#T_0c1091d1_be00_11eb_8ae6_5453ed2e2dc1row3_col2,#T_0c1091d1_be00_11eb_8ae6_5453ed2e2dc1row9_col2{\n",
       "            background-color:  #f7fbff;\n",
       "            color:  #000000;\n",
       "        }#T_0c1091d1_be00_11eb_8ae6_5453ed2e2dc1row4_col2,#T_0c1091d1_be00_11eb_8ae6_5453ed2e2dc1row7_col2,#T_0c1091d1_be00_11eb_8ae6_5453ed2e2dc1row11_col2{\n",
       "            background-color:  #d9e7f5;\n",
       "            color:  #000000;\n",
       "        }#T_0c1091d1_be00_11eb_8ae6_5453ed2e2dc1row5_col2{\n",
       "            background-color:  #d8e7f5;\n",
       "            color:  #000000;\n",
       "        }#T_0c1091d1_be00_11eb_8ae6_5453ed2e2dc1row6_col2{\n",
       "            background-color:  #f5f9fe;\n",
       "            color:  #000000;\n",
       "        }#T_0c1091d1_be00_11eb_8ae6_5453ed2e2dc1row8_col2,#T_0c1091d1_be00_11eb_8ae6_5453ed2e2dc1row10_col2{\n",
       "            background-color:  #dbe9f6;\n",
       "            color:  #000000;\n",
       "        }#T_0c1091d1_be00_11eb_8ae6_5453ed2e2dc1row12_col2,#T_0c1091d1_be00_11eb_8ae6_5453ed2e2dc1row14_col2{\n",
       "            background-color:  #e6f0f9;\n",
       "            color:  #000000;\n",
       "        }#T_0c1091d1_be00_11eb_8ae6_5453ed2e2dc1row13_col2{\n",
       "            background-color:  #eaf3fb;\n",
       "            color:  #000000;\n",
       "        }#T_0c1091d1_be00_11eb_8ae6_5453ed2e2dc1row16_col2{\n",
       "            background-color:  #d5e5f4;\n",
       "            color:  #000000;\n",
       "        }#T_0c1091d1_be00_11eb_8ae6_5453ed2e2dc1row17_col2{\n",
       "            background-color:  #d7e6f5;\n",
       "            color:  #000000;\n",
       "        }#T_0c1091d1_be00_11eb_8ae6_5453ed2e2dc1row18_col2{\n",
       "            background-color:  #f5fafe;\n",
       "            color:  #000000;\n",
       "        }#T_0c1091d1_be00_11eb_8ae6_5453ed2e2dc1row19_col2{\n",
       "            background-color:  #d0e2f2;\n",
       "            color:  #000000;\n",
       "        }#T_0c1091d1_be00_11eb_8ae6_5453ed2e2dc1row20_col2{\n",
       "            background-color:  #d6e6f4;\n",
       "            color:  #000000;\n",
       "        }#T_0c1091d1_be00_11eb_8ae6_5453ed2e2dc1row21_col2{\n",
       "            background-color:  #e2edf8;\n",
       "            color:  #000000;\n",
       "        }#T_0c1091d1_be00_11eb_8ae6_5453ed2e2dc1row22_col2{\n",
       "            background-color:  #08306b;\n",
       "            color:  #f1f1f1;\n",
       "        }#T_0c1091d1_be00_11eb_8ae6_5453ed2e2dc1row23_col2{\n",
       "            background-color:  #0e59a2;\n",
       "            color:  #f1f1f1;\n",
       "        }#T_0c1091d1_be00_11eb_8ae6_5453ed2e2dc1row24_col2{\n",
       "            background-color:  #eef5fc;\n",
       "            color:  #000000;\n",
       "        }#T_0c1091d1_be00_11eb_8ae6_5453ed2e2dc1row25_col2,#T_0c1091d1_be00_11eb_8ae6_5453ed2e2dc1row29_col2{\n",
       "            background-color:  #5fa6d1;\n",
       "            color:  #000000;\n",
       "        }#T_0c1091d1_be00_11eb_8ae6_5453ed2e2dc1row26_col2{\n",
       "            background-color:  #85bcdc;\n",
       "            color:  #000000;\n",
       "        }#T_0c1091d1_be00_11eb_8ae6_5453ed2e2dc1row27_col2{\n",
       "            background-color:  #e8f1fa;\n",
       "            color:  #000000;\n",
       "        }#T_0c1091d1_be00_11eb_8ae6_5453ed2e2dc1row28_col2{\n",
       "            background-color:  #3c8cc3;\n",
       "            color:  #000000;\n",
       "        }</style><table id=\"T_0c1091d1_be00_11eb_8ae6_5453ed2e2dc1\" ><thead>    <tr>        <th class=\"blank level0\" ></th>        <th class=\"col_heading level0 col0\" >department</th>        <th class=\"col_heading level0 col1\" >salary</th>        <th class=\"col_heading level0 col2\" >Employee_number</th>    </tr></thead><tbody>\n",
       "                <tr>\n",
       "                        <th id=\"T_0c1091d1_be00_11eb_8ae6_5453ed2e2dc1level0_row0\" class=\"row_heading level0 row0\" >0</th>\n",
       "                        <td id=\"T_0c1091d1_be00_11eb_8ae6_5453ed2e2dc1row0_col0\" class=\"data row0 col0\" >IT</td>\n",
       "                        <td id=\"T_0c1091d1_be00_11eb_8ae6_5453ed2e2dc1row0_col1\" class=\"data row0 col1\" >high</td>\n",
       "                        <td id=\"T_0c1091d1_be00_11eb_8ae6_5453ed2e2dc1row0_col2\" class=\"data row0 col2\" >83</td>\n",
       "            </tr>\n",
       "            <tr>\n",
       "                        <th id=\"T_0c1091d1_be00_11eb_8ae6_5453ed2e2dc1level0_row1\" class=\"row_heading level0 row1\" >1</th>\n",
       "                        <td id=\"T_0c1091d1_be00_11eb_8ae6_5453ed2e2dc1row1_col0\" class=\"data row1 col0\" >IT</td>\n",
       "                        <td id=\"T_0c1091d1_be00_11eb_8ae6_5453ed2e2dc1row1_col1\" class=\"data row1 col1\" >low</td>\n",
       "                        <td id=\"T_0c1091d1_be00_11eb_8ae6_5453ed2e2dc1row1_col2\" class=\"data row1 col2\" >609</td>\n",
       "            </tr>\n",
       "            <tr>\n",
       "                        <th id=\"T_0c1091d1_be00_11eb_8ae6_5453ed2e2dc1level0_row2\" class=\"row_heading level0 row2\" >2</th>\n",
       "                        <td id=\"T_0c1091d1_be00_11eb_8ae6_5453ed2e2dc1row2_col0\" class=\"data row2 col0\" >IT</td>\n",
       "                        <td id=\"T_0c1091d1_be00_11eb_8ae6_5453ed2e2dc1row2_col1\" class=\"data row2 col1\" >medium</td>\n",
       "                        <td id=\"T_0c1091d1_be00_11eb_8ae6_5453ed2e2dc1row2_col2\" class=\"data row2 col2\" >535</td>\n",
       "            </tr>\n",
       "            <tr>\n",
       "                        <th id=\"T_0c1091d1_be00_11eb_8ae6_5453ed2e2dc1level0_row3\" class=\"row_heading level0 row3\" >3</th>\n",
       "                        <td id=\"T_0c1091d1_be00_11eb_8ae6_5453ed2e2dc1row3_col0\" class=\"data row3 col0\" >RandD</td>\n",
       "                        <td id=\"T_0c1091d1_be00_11eb_8ae6_5453ed2e2dc1row3_col1\" class=\"data row3 col1\" >high</td>\n",
       "                        <td id=\"T_0c1091d1_be00_11eb_8ae6_5453ed2e2dc1row3_col2\" class=\"data row3 col2\" >51</td>\n",
       "            </tr>\n",
       "            <tr>\n",
       "                        <th id=\"T_0c1091d1_be00_11eb_8ae6_5453ed2e2dc1level0_row4\" class=\"row_heading level0 row4\" >4</th>\n",
       "                        <td id=\"T_0c1091d1_be00_11eb_8ae6_5453ed2e2dc1row4_col0\" class=\"data row4 col0\" >RandD</td>\n",
       "                        <td id=\"T_0c1091d1_be00_11eb_8ae6_5453ed2e2dc1row4_col1\" class=\"data row4 col1\" >low</td>\n",
       "                        <td id=\"T_0c1091d1_be00_11eb_8ae6_5453ed2e2dc1row4_col2\" class=\"data row4 col2\" >364</td>\n",
       "            </tr>\n",
       "            <tr>\n",
       "                        <th id=\"T_0c1091d1_be00_11eb_8ae6_5453ed2e2dc1level0_row5\" class=\"row_heading level0 row5\" >5</th>\n",
       "                        <td id=\"T_0c1091d1_be00_11eb_8ae6_5453ed2e2dc1row5_col0\" class=\"data row5 col0\" >RandD</td>\n",
       "                        <td id=\"T_0c1091d1_be00_11eb_8ae6_5453ed2e2dc1row5_col1\" class=\"data row5 col1\" >medium</td>\n",
       "                        <td id=\"T_0c1091d1_be00_11eb_8ae6_5453ed2e2dc1row5_col2\" class=\"data row5 col2\" >372</td>\n",
       "            </tr>\n",
       "            <tr>\n",
       "                        <th id=\"T_0c1091d1_be00_11eb_8ae6_5453ed2e2dc1level0_row6\" class=\"row_heading level0 row6\" >6</th>\n",
       "                        <td id=\"T_0c1091d1_be00_11eb_8ae6_5453ed2e2dc1row6_col0\" class=\"data row6 col0\" >accounting</td>\n",
       "                        <td id=\"T_0c1091d1_be00_11eb_8ae6_5453ed2e2dc1row6_col1\" class=\"data row6 col1\" >high</td>\n",
       "                        <td id=\"T_0c1091d1_be00_11eb_8ae6_5453ed2e2dc1row6_col2\" class=\"data row6 col2\" >74</td>\n",
       "            </tr>\n",
       "            <tr>\n",
       "                        <th id=\"T_0c1091d1_be00_11eb_8ae6_5453ed2e2dc1level0_row7\" class=\"row_heading level0 row7\" >7</th>\n",
       "                        <td id=\"T_0c1091d1_be00_11eb_8ae6_5453ed2e2dc1row7_col0\" class=\"data row7 col0\" >accounting</td>\n",
       "                        <td id=\"T_0c1091d1_be00_11eb_8ae6_5453ed2e2dc1row7_col1\" class=\"data row7 col1\" >low</td>\n",
       "                        <td id=\"T_0c1091d1_be00_11eb_8ae6_5453ed2e2dc1row7_col2\" class=\"data row7 col2\" >358</td>\n",
       "            </tr>\n",
       "            <tr>\n",
       "                        <th id=\"T_0c1091d1_be00_11eb_8ae6_5453ed2e2dc1level0_row8\" class=\"row_heading level0 row8\" >8</th>\n",
       "                        <td id=\"T_0c1091d1_be00_11eb_8ae6_5453ed2e2dc1row8_col0\" class=\"data row8 col0\" >accounting</td>\n",
       "                        <td id=\"T_0c1091d1_be00_11eb_8ae6_5453ed2e2dc1row8_col1\" class=\"data row8 col1\" >medium</td>\n",
       "                        <td id=\"T_0c1091d1_be00_11eb_8ae6_5453ed2e2dc1row8_col2\" class=\"data row8 col2\" >335</td>\n",
       "            </tr>\n",
       "            <tr>\n",
       "                        <th id=\"T_0c1091d1_be00_11eb_8ae6_5453ed2e2dc1level0_row9\" class=\"row_heading level0 row9\" >9</th>\n",
       "                        <td id=\"T_0c1091d1_be00_11eb_8ae6_5453ed2e2dc1row9_col0\" class=\"data row9 col0\" >hr</td>\n",
       "                        <td id=\"T_0c1091d1_be00_11eb_8ae6_5453ed2e2dc1row9_col1\" class=\"data row9 col1\" >high</td>\n",
       "                        <td id=\"T_0c1091d1_be00_11eb_8ae6_5453ed2e2dc1row9_col2\" class=\"data row9 col2\" >45</td>\n",
       "            </tr>\n",
       "            <tr>\n",
       "                        <th id=\"T_0c1091d1_be00_11eb_8ae6_5453ed2e2dc1level0_row10\" class=\"row_heading level0 row10\" >10</th>\n",
       "                        <td id=\"T_0c1091d1_be00_11eb_8ae6_5453ed2e2dc1row10_col0\" class=\"data row10 col0\" >hr</td>\n",
       "                        <td id=\"T_0c1091d1_be00_11eb_8ae6_5453ed2e2dc1row10_col1\" class=\"data row10 col1\" >low</td>\n",
       "                        <td id=\"T_0c1091d1_be00_11eb_8ae6_5453ed2e2dc1row10_col2\" class=\"data row10 col2\" >335</td>\n",
       "            </tr>\n",
       "            <tr>\n",
       "                        <th id=\"T_0c1091d1_be00_11eb_8ae6_5453ed2e2dc1level0_row11\" class=\"row_heading level0 row11\" >11</th>\n",
       "                        <td id=\"T_0c1091d1_be00_11eb_8ae6_5453ed2e2dc1row11_col0\" class=\"data row11 col0\" >hr</td>\n",
       "                        <td id=\"T_0c1091d1_be00_11eb_8ae6_5453ed2e2dc1row11_col1\" class=\"data row11 col1\" >medium</td>\n",
       "                        <td id=\"T_0c1091d1_be00_11eb_8ae6_5453ed2e2dc1row11_col2\" class=\"data row11 col2\" >359</td>\n",
       "            </tr>\n",
       "            <tr>\n",
       "                        <th id=\"T_0c1091d1_be00_11eb_8ae6_5453ed2e2dc1level0_row12\" class=\"row_heading level0 row12\" >12</th>\n",
       "                        <td id=\"T_0c1091d1_be00_11eb_8ae6_5453ed2e2dc1row12_col0\" class=\"data row12 col0\" >management</td>\n",
       "                        <td id=\"T_0c1091d1_be00_11eb_8ae6_5453ed2e2dc1row12_col1\" class=\"data row12 col1\" >high</td>\n",
       "                        <td id=\"T_0c1091d1_be00_11eb_8ae6_5453ed2e2dc1row12_col2\" class=\"data row12 col2\" >225</td>\n",
       "            </tr>\n",
       "            <tr>\n",
       "                        <th id=\"T_0c1091d1_be00_11eb_8ae6_5453ed2e2dc1level0_row13\" class=\"row_heading level0 row13\" >13</th>\n",
       "                        <td id=\"T_0c1091d1_be00_11eb_8ae6_5453ed2e2dc1row13_col0\" class=\"data row13 col0\" >management</td>\n",
       "                        <td id=\"T_0c1091d1_be00_11eb_8ae6_5453ed2e2dc1row13_col1\" class=\"data row13 col1\" >low</td>\n",
       "                        <td id=\"T_0c1091d1_be00_11eb_8ae6_5453ed2e2dc1row13_col2\" class=\"data row13 col2\" >180</td>\n",
       "            </tr>\n",
       "            <tr>\n",
       "                        <th id=\"T_0c1091d1_be00_11eb_8ae6_5453ed2e2dc1level0_row14\" class=\"row_heading level0 row14\" >14</th>\n",
       "                        <td id=\"T_0c1091d1_be00_11eb_8ae6_5453ed2e2dc1row14_col0\" class=\"data row14 col0\" >management</td>\n",
       "                        <td id=\"T_0c1091d1_be00_11eb_8ae6_5453ed2e2dc1row14_col1\" class=\"data row14 col1\" >medium</td>\n",
       "                        <td id=\"T_0c1091d1_be00_11eb_8ae6_5453ed2e2dc1row14_col2\" class=\"data row14 col2\" >225</td>\n",
       "            </tr>\n",
       "            <tr>\n",
       "                        <th id=\"T_0c1091d1_be00_11eb_8ae6_5453ed2e2dc1level0_row15\" class=\"row_heading level0 row15\" >15</th>\n",
       "                        <td id=\"T_0c1091d1_be00_11eb_8ae6_5453ed2e2dc1row15_col0\" class=\"data row15 col0\" >marketing</td>\n",
       "                        <td id=\"T_0c1091d1_be00_11eb_8ae6_5453ed2e2dc1row15_col1\" class=\"data row15 col1\" >high</td>\n",
       "                        <td id=\"T_0c1091d1_be00_11eb_8ae6_5453ed2e2dc1row15_col2\" class=\"data row15 col2\" >80</td>\n",
       "            </tr>\n",
       "            <tr>\n",
       "                        <th id=\"T_0c1091d1_be00_11eb_8ae6_5453ed2e2dc1level0_row16\" class=\"row_heading level0 row16\" >16</th>\n",
       "                        <td id=\"T_0c1091d1_be00_11eb_8ae6_5453ed2e2dc1row16_col0\" class=\"data row16 col0\" >marketing</td>\n",
       "                        <td id=\"T_0c1091d1_be00_11eb_8ae6_5453ed2e2dc1row16_col1\" class=\"data row16 col1\" >low</td>\n",
       "                        <td id=\"T_0c1091d1_be00_11eb_8ae6_5453ed2e2dc1row16_col2\" class=\"data row16 col2\" >402</td>\n",
       "            </tr>\n",
       "            <tr>\n",
       "                        <th id=\"T_0c1091d1_be00_11eb_8ae6_5453ed2e2dc1level0_row17\" class=\"row_heading level0 row17\" >17</th>\n",
       "                        <td id=\"T_0c1091d1_be00_11eb_8ae6_5453ed2e2dc1row17_col0\" class=\"data row17 col0\" >marketing</td>\n",
       "                        <td id=\"T_0c1091d1_be00_11eb_8ae6_5453ed2e2dc1row17_col1\" class=\"data row17 col1\" >medium</td>\n",
       "                        <td id=\"T_0c1091d1_be00_11eb_8ae6_5453ed2e2dc1row17_col2\" class=\"data row17 col2\" >376</td>\n",
       "            </tr>\n",
       "            <tr>\n",
       "                        <th id=\"T_0c1091d1_be00_11eb_8ae6_5453ed2e2dc1level0_row18\" class=\"row_heading level0 row18\" >18</th>\n",
       "                        <td id=\"T_0c1091d1_be00_11eb_8ae6_5453ed2e2dc1row18_col0\" class=\"data row18 col0\" >product_mng</td>\n",
       "                        <td id=\"T_0c1091d1_be00_11eb_8ae6_5453ed2e2dc1row18_col1\" class=\"data row18 col1\" >high</td>\n",
       "                        <td id=\"T_0c1091d1_be00_11eb_8ae6_5453ed2e2dc1row18_col2\" class=\"data row18 col2\" >68</td>\n",
       "            </tr>\n",
       "            <tr>\n",
       "                        <th id=\"T_0c1091d1_be00_11eb_8ae6_5453ed2e2dc1level0_row19\" class=\"row_heading level0 row19\" >19</th>\n",
       "                        <td id=\"T_0c1091d1_be00_11eb_8ae6_5453ed2e2dc1row19_col0\" class=\"data row19 col0\" >product_mng</td>\n",
       "                        <td id=\"T_0c1091d1_be00_11eb_8ae6_5453ed2e2dc1row19_col1\" class=\"data row19 col1\" >low</td>\n",
       "                        <td id=\"T_0c1091d1_be00_11eb_8ae6_5453ed2e2dc1row19_col2\" class=\"data row19 col2\" >451</td>\n",
       "            </tr>\n",
       "            <tr>\n",
       "                        <th id=\"T_0c1091d1_be00_11eb_8ae6_5453ed2e2dc1level0_row20\" class=\"row_heading level0 row20\" >20</th>\n",
       "                        <td id=\"T_0c1091d1_be00_11eb_8ae6_5453ed2e2dc1row20_col0\" class=\"data row20 col0\" >product_mng</td>\n",
       "                        <td id=\"T_0c1091d1_be00_11eb_8ae6_5453ed2e2dc1row20_col1\" class=\"data row20 col1\" >medium</td>\n",
       "                        <td id=\"T_0c1091d1_be00_11eb_8ae6_5453ed2e2dc1row20_col2\" class=\"data row20 col2\" >383</td>\n",
       "            </tr>\n",
       "            <tr>\n",
       "                        <th id=\"T_0c1091d1_be00_11eb_8ae6_5453ed2e2dc1level0_row21\" class=\"row_heading level0 row21\" >21</th>\n",
       "                        <td id=\"T_0c1091d1_be00_11eb_8ae6_5453ed2e2dc1row21_col0\" class=\"data row21 col0\" >sales</td>\n",
       "                        <td id=\"T_0c1091d1_be00_11eb_8ae6_5453ed2e2dc1row21_col1\" class=\"data row21 col1\" >high</td>\n",
       "                        <td id=\"T_0c1091d1_be00_11eb_8ae6_5453ed2e2dc1row21_col2\" class=\"data row21 col2\" >269</td>\n",
       "            </tr>\n",
       "            <tr>\n",
       "                        <th id=\"T_0c1091d1_be00_11eb_8ae6_5453ed2e2dc1level0_row22\" class=\"row_heading level0 row22\" >22</th>\n",
       "                        <td id=\"T_0c1091d1_be00_11eb_8ae6_5453ed2e2dc1row22_col0\" class=\"data row22 col0\" >sales</td>\n",
       "                        <td id=\"T_0c1091d1_be00_11eb_8ae6_5453ed2e2dc1row22_col1\" class=\"data row22 col1\" >low</td>\n",
       "                        <td id=\"T_0c1091d1_be00_11eb_8ae6_5453ed2e2dc1row22_col2\" class=\"data row22 col2\" >2099</td>\n",
       "            </tr>\n",
       "            <tr>\n",
       "                        <th id=\"T_0c1091d1_be00_11eb_8ae6_5453ed2e2dc1level0_row23\" class=\"row_heading level0 row23\" >23</th>\n",
       "                        <td id=\"T_0c1091d1_be00_11eb_8ae6_5453ed2e2dc1row23_col0\" class=\"data row23 col0\" >sales</td>\n",
       "                        <td id=\"T_0c1091d1_be00_11eb_8ae6_5453ed2e2dc1row23_col1\" class=\"data row23 col1\" >medium</td>\n",
       "                        <td id=\"T_0c1091d1_be00_11eb_8ae6_5453ed2e2dc1row23_col2\" class=\"data row23 col2\" >1772</td>\n",
       "            </tr>\n",
       "            <tr>\n",
       "                        <th id=\"T_0c1091d1_be00_11eb_8ae6_5453ed2e2dc1level0_row24\" class=\"row_heading level0 row24\" >24</th>\n",
       "                        <td id=\"T_0c1091d1_be00_11eb_8ae6_5453ed2e2dc1row24_col0\" class=\"data row24 col0\" >support</td>\n",
       "                        <td id=\"T_0c1091d1_be00_11eb_8ae6_5453ed2e2dc1row24_col1\" class=\"data row24 col1\" >high</td>\n",
       "                        <td id=\"T_0c1091d1_be00_11eb_8ae6_5453ed2e2dc1row24_col2\" class=\"data row24 col2\" >141</td>\n",
       "            </tr>\n",
       "            <tr>\n",
       "                        <th id=\"T_0c1091d1_be00_11eb_8ae6_5453ed2e2dc1level0_row25\" class=\"row_heading level0 row25\" >25</th>\n",
       "                        <td id=\"T_0c1091d1_be00_11eb_8ae6_5453ed2e2dc1row25_col0\" class=\"data row25 col0\" >support</td>\n",
       "                        <td id=\"T_0c1091d1_be00_11eb_8ae6_5453ed2e2dc1row25_col1\" class=\"data row25 col1\" >low</td>\n",
       "                        <td id=\"T_0c1091d1_be00_11eb_8ae6_5453ed2e2dc1row25_col2\" class=\"data row25 col2\" >1146</td>\n",
       "            </tr>\n",
       "            <tr>\n",
       "                        <th id=\"T_0c1091d1_be00_11eb_8ae6_5453ed2e2dc1level0_row26\" class=\"row_heading level0 row26\" >26</th>\n",
       "                        <td id=\"T_0c1091d1_be00_11eb_8ae6_5453ed2e2dc1row26_col0\" class=\"data row26 col0\" >support</td>\n",
       "                        <td id=\"T_0c1091d1_be00_11eb_8ae6_5453ed2e2dc1row26_col1\" class=\"data row26 col1\" >medium</td>\n",
       "                        <td id=\"T_0c1091d1_be00_11eb_8ae6_5453ed2e2dc1row26_col2\" class=\"data row26 col2\" >942</td>\n",
       "            </tr>\n",
       "            <tr>\n",
       "                        <th id=\"T_0c1091d1_be00_11eb_8ae6_5453ed2e2dc1level0_row27\" class=\"row_heading level0 row27\" >27</th>\n",
       "                        <td id=\"T_0c1091d1_be00_11eb_8ae6_5453ed2e2dc1row27_col0\" class=\"data row27 col0\" >technical</td>\n",
       "                        <td id=\"T_0c1091d1_be00_11eb_8ae6_5453ed2e2dc1row27_col1\" class=\"data row27 col1\" >high</td>\n",
       "                        <td id=\"T_0c1091d1_be00_11eb_8ae6_5453ed2e2dc1row27_col2\" class=\"data row27 col2\" >201</td>\n",
       "            </tr>\n",
       "            <tr>\n",
       "                        <th id=\"T_0c1091d1_be00_11eb_8ae6_5453ed2e2dc1level0_row28\" class=\"row_heading level0 row28\" >28</th>\n",
       "                        <td id=\"T_0c1091d1_be00_11eb_8ae6_5453ed2e2dc1row28_col0\" class=\"data row28 col0\" >technical</td>\n",
       "                        <td id=\"T_0c1091d1_be00_11eb_8ae6_5453ed2e2dc1row28_col1\" class=\"data row28 col1\" >low</td>\n",
       "                        <td id=\"T_0c1091d1_be00_11eb_8ae6_5453ed2e2dc1row28_col2\" class=\"data row28 col2\" >1372</td>\n",
       "            </tr>\n",
       "            <tr>\n",
       "                        <th id=\"T_0c1091d1_be00_11eb_8ae6_5453ed2e2dc1level0_row29\" class=\"row_heading level0 row29\" >29</th>\n",
       "                        <td id=\"T_0c1091d1_be00_11eb_8ae6_5453ed2e2dc1row29_col0\" class=\"data row29 col0\" >technical</td>\n",
       "                        <td id=\"T_0c1091d1_be00_11eb_8ae6_5453ed2e2dc1row29_col1\" class=\"data row29 col1\" >medium</td>\n",
       "                        <td id=\"T_0c1091d1_be00_11eb_8ae6_5453ed2e2dc1row29_col2\" class=\"data row29 col2\" >1147</td>\n",
       "            </tr>\n",
       "    </tbody></table>"
      ],
      "text/plain": [
       "<pandas.io.formats.style.Styler at 0xf876af0>"
      ]
     },
     "execution_count": 141,
     "metadata": {},
     "output_type": "execute_result"
    }
   ],
   "source": [
    "employee_department_salary_count = df.groupby(['department','salary']).satisfaction_level.count().reset_index()\n",
    "employee_department_salary_count.columns  = ['department', 'salary', 'Employee_number']\n",
    "#визуализируем\n",
    "employee_department_salary_count.style.background_gradient(cmap='Blues', axis=0)"
   ]
  },
  {
   "cell_type": "code",
   "execution_count": 146,
   "metadata": {
    "collapsed": true
   },
   "outputs": [
    {
     "data": {
      "text/html": [
       "<style  type=\"text/css\" >\n",
       "#T_60adac15_be00_11eb_b337_5453ed2e2dc1row0_col2{\n",
       "            width:  10em;\n",
       "             height:  80%;\n",
       "            background:  linear-gradient(90deg,yellowgreen 1.9%, transparent 1.9%);\n",
       "        }#T_60adac15_be00_11eb_b337_5453ed2e2dc1row1_col2{\n",
       "            width:  10em;\n",
       "             height:  80%;\n",
       "            background:  linear-gradient(90deg,yellowgreen 27.5%, transparent 27.5%);\n",
       "        }#T_60adac15_be00_11eb_b337_5453ed2e2dc1row2_col2{\n",
       "            width:  10em;\n",
       "             height:  80%;\n",
       "            background:  linear-gradient(90deg,yellowgreen 23.9%, transparent 23.9%);\n",
       "        }#T_60adac15_be00_11eb_b337_5453ed2e2dc1row3_col2{\n",
       "            width:  10em;\n",
       "             height:  80%;\n",
       "            background:  linear-gradient(90deg,yellowgreen 0.3%, transparent 0.3%);\n",
       "        }#T_60adac15_be00_11eb_b337_5453ed2e2dc1row4_col2{\n",
       "            width:  10em;\n",
       "             height:  80%;\n",
       "            background:  linear-gradient(90deg,yellowgreen 15.5%, transparent 15.5%);\n",
       "        }#T_60adac15_be00_11eb_b337_5453ed2e2dc1row5_col2{\n",
       "            width:  10em;\n",
       "             height:  80%;\n",
       "            background:  linear-gradient(90deg,yellowgreen 15.9%, transparent 15.9%);\n",
       "        }#T_60adac15_be00_11eb_b337_5453ed2e2dc1row6_col2{\n",
       "            width:  10em;\n",
       "             height:  80%;\n",
       "            background:  linear-gradient(90deg,yellowgreen 1.4%, transparent 1.4%);\n",
       "        }#T_60adac15_be00_11eb_b337_5453ed2e2dc1row7_col2{\n",
       "            width:  10em;\n",
       "             height:  80%;\n",
       "            background:  linear-gradient(90deg,yellowgreen 15.2%, transparent 15.2%);\n",
       "        }#T_60adac15_be00_11eb_b337_5453ed2e2dc1row8_col2,#T_60adac15_be00_11eb_b337_5453ed2e2dc1row10_col2{\n",
       "            width:  10em;\n",
       "             height:  80%;\n",
       "            background:  linear-gradient(90deg,yellowgreen 14.1%, transparent 14.1%);\n",
       "        }#T_60adac15_be00_11eb_b337_5453ed2e2dc1row9_col2{\n",
       "            width:  10em;\n",
       "             height:  80%;\n",
       "        }#T_60adac15_be00_11eb_b337_5453ed2e2dc1row11_col2{\n",
       "            width:  10em;\n",
       "             height:  80%;\n",
       "            background:  linear-gradient(90deg,yellowgreen 15.3%, transparent 15.3%);\n",
       "        }#T_60adac15_be00_11eb_b337_5453ed2e2dc1row12_col2,#T_60adac15_be00_11eb_b337_5453ed2e2dc1row14_col2{\n",
       "            width:  10em;\n",
       "             height:  80%;\n",
       "            background:  linear-gradient(90deg,yellowgreen 8.8%, transparent 8.8%);\n",
       "        }#T_60adac15_be00_11eb_b337_5453ed2e2dc1row13_col2{\n",
       "            width:  10em;\n",
       "             height:  80%;\n",
       "            background:  linear-gradient(90deg,yellowgreen 6.6%, transparent 6.6%);\n",
       "        }#T_60adac15_be00_11eb_b337_5453ed2e2dc1row15_col2{\n",
       "            width:  10em;\n",
       "             height:  80%;\n",
       "            background:  linear-gradient(90deg,yellowgreen 1.7%, transparent 1.7%);\n",
       "        }#T_60adac15_be00_11eb_b337_5453ed2e2dc1row16_col2{\n",
       "            width:  10em;\n",
       "             height:  80%;\n",
       "            background:  linear-gradient(90deg,yellowgreen 17.4%, transparent 17.4%);\n",
       "        }#T_60adac15_be00_11eb_b337_5453ed2e2dc1row17_col2{\n",
       "            width:  10em;\n",
       "             height:  80%;\n",
       "            background:  linear-gradient(90deg,yellowgreen 16.1%, transparent 16.1%);\n",
       "        }#T_60adac15_be00_11eb_b337_5453ed2e2dc1row18_col2{\n",
       "            width:  10em;\n",
       "             height:  80%;\n",
       "            background:  linear-gradient(90deg,yellowgreen 1.1%, transparent 1.1%);\n",
       "        }#T_60adac15_be00_11eb_b337_5453ed2e2dc1row19_col2{\n",
       "            width:  10em;\n",
       "             height:  80%;\n",
       "            background:  linear-gradient(90deg,yellowgreen 19.8%, transparent 19.8%);\n",
       "        }#T_60adac15_be00_11eb_b337_5453ed2e2dc1row20_col2{\n",
       "            width:  10em;\n",
       "             height:  80%;\n",
       "            background:  linear-gradient(90deg,yellowgreen 16.5%, transparent 16.5%);\n",
       "        }#T_60adac15_be00_11eb_b337_5453ed2e2dc1row21_col2{\n",
       "            width:  10em;\n",
       "             height:  80%;\n",
       "            background:  linear-gradient(90deg,yellowgreen 10.9%, transparent 10.9%);\n",
       "        }#T_60adac15_be00_11eb_b337_5453ed2e2dc1row22_col2{\n",
       "            width:  10em;\n",
       "             height:  80%;\n",
       "            background:  linear-gradient(90deg,yellowgreen 100.0%, transparent 100.0%);\n",
       "        }#T_60adac15_be00_11eb_b337_5453ed2e2dc1row23_col2{\n",
       "            width:  10em;\n",
       "             height:  80%;\n",
       "            background:  linear-gradient(90deg,yellowgreen 84.1%, transparent 84.1%);\n",
       "        }#T_60adac15_be00_11eb_b337_5453ed2e2dc1row24_col2{\n",
       "            width:  10em;\n",
       "             height:  80%;\n",
       "            background:  linear-gradient(90deg,yellowgreen 4.7%, transparent 4.7%);\n",
       "        }#T_60adac15_be00_11eb_b337_5453ed2e2dc1row25_col2{\n",
       "            width:  10em;\n",
       "             height:  80%;\n",
       "            background:  linear-gradient(90deg,yellowgreen 53.6%, transparent 53.6%);\n",
       "        }#T_60adac15_be00_11eb_b337_5453ed2e2dc1row26_col2{\n",
       "            width:  10em;\n",
       "             height:  80%;\n",
       "            background:  linear-gradient(90deg,yellowgreen 43.7%, transparent 43.7%);\n",
       "        }#T_60adac15_be00_11eb_b337_5453ed2e2dc1row27_col2{\n",
       "            width:  10em;\n",
       "             height:  80%;\n",
       "            background:  linear-gradient(90deg,yellowgreen 7.6%, transparent 7.6%);\n",
       "        }#T_60adac15_be00_11eb_b337_5453ed2e2dc1row28_col2{\n",
       "            width:  10em;\n",
       "             height:  80%;\n",
       "            background:  linear-gradient(90deg,yellowgreen 64.6%, transparent 64.6%);\n",
       "        }#T_60adac15_be00_11eb_b337_5453ed2e2dc1row29_col2{\n",
       "            width:  10em;\n",
       "             height:  80%;\n",
       "            background:  linear-gradient(90deg,yellowgreen 53.7%, transparent 53.7%);\n",
       "        }</style><table id=\"T_60adac15_be00_11eb_b337_5453ed2e2dc1\" ><thead>    <tr>        <th class=\"blank level0\" ></th>        <th class=\"col_heading level0 col0\" >department</th>        <th class=\"col_heading level0 col1\" >salary</th>        <th class=\"col_heading level0 col2\" >Employee_number</th>    </tr></thead><tbody>\n",
       "                <tr>\n",
       "                        <th id=\"T_60adac15_be00_11eb_b337_5453ed2e2dc1level0_row0\" class=\"row_heading level0 row0\" >0</th>\n",
       "                        <td id=\"T_60adac15_be00_11eb_b337_5453ed2e2dc1row0_col0\" class=\"data row0 col0\" >IT</td>\n",
       "                        <td id=\"T_60adac15_be00_11eb_b337_5453ed2e2dc1row0_col1\" class=\"data row0 col1\" >high</td>\n",
       "                        <td id=\"T_60adac15_be00_11eb_b337_5453ed2e2dc1row0_col2\" class=\"data row0 col2\" >83</td>\n",
       "            </tr>\n",
       "            <tr>\n",
       "                        <th id=\"T_60adac15_be00_11eb_b337_5453ed2e2dc1level0_row1\" class=\"row_heading level0 row1\" >1</th>\n",
       "                        <td id=\"T_60adac15_be00_11eb_b337_5453ed2e2dc1row1_col0\" class=\"data row1 col0\" >IT</td>\n",
       "                        <td id=\"T_60adac15_be00_11eb_b337_5453ed2e2dc1row1_col1\" class=\"data row1 col1\" >low</td>\n",
       "                        <td id=\"T_60adac15_be00_11eb_b337_5453ed2e2dc1row1_col2\" class=\"data row1 col2\" >609</td>\n",
       "            </tr>\n",
       "            <tr>\n",
       "                        <th id=\"T_60adac15_be00_11eb_b337_5453ed2e2dc1level0_row2\" class=\"row_heading level0 row2\" >2</th>\n",
       "                        <td id=\"T_60adac15_be00_11eb_b337_5453ed2e2dc1row2_col0\" class=\"data row2 col0\" >IT</td>\n",
       "                        <td id=\"T_60adac15_be00_11eb_b337_5453ed2e2dc1row2_col1\" class=\"data row2 col1\" >medium</td>\n",
       "                        <td id=\"T_60adac15_be00_11eb_b337_5453ed2e2dc1row2_col2\" class=\"data row2 col2\" >535</td>\n",
       "            </tr>\n",
       "            <tr>\n",
       "                        <th id=\"T_60adac15_be00_11eb_b337_5453ed2e2dc1level0_row3\" class=\"row_heading level0 row3\" >3</th>\n",
       "                        <td id=\"T_60adac15_be00_11eb_b337_5453ed2e2dc1row3_col0\" class=\"data row3 col0\" >RandD</td>\n",
       "                        <td id=\"T_60adac15_be00_11eb_b337_5453ed2e2dc1row3_col1\" class=\"data row3 col1\" >high</td>\n",
       "                        <td id=\"T_60adac15_be00_11eb_b337_5453ed2e2dc1row3_col2\" class=\"data row3 col2\" >51</td>\n",
       "            </tr>\n",
       "            <tr>\n",
       "                        <th id=\"T_60adac15_be00_11eb_b337_5453ed2e2dc1level0_row4\" class=\"row_heading level0 row4\" >4</th>\n",
       "                        <td id=\"T_60adac15_be00_11eb_b337_5453ed2e2dc1row4_col0\" class=\"data row4 col0\" >RandD</td>\n",
       "                        <td id=\"T_60adac15_be00_11eb_b337_5453ed2e2dc1row4_col1\" class=\"data row4 col1\" >low</td>\n",
       "                        <td id=\"T_60adac15_be00_11eb_b337_5453ed2e2dc1row4_col2\" class=\"data row4 col2\" >364</td>\n",
       "            </tr>\n",
       "            <tr>\n",
       "                        <th id=\"T_60adac15_be00_11eb_b337_5453ed2e2dc1level0_row5\" class=\"row_heading level0 row5\" >5</th>\n",
       "                        <td id=\"T_60adac15_be00_11eb_b337_5453ed2e2dc1row5_col0\" class=\"data row5 col0\" >RandD</td>\n",
       "                        <td id=\"T_60adac15_be00_11eb_b337_5453ed2e2dc1row5_col1\" class=\"data row5 col1\" >medium</td>\n",
       "                        <td id=\"T_60adac15_be00_11eb_b337_5453ed2e2dc1row5_col2\" class=\"data row5 col2\" >372</td>\n",
       "            </tr>\n",
       "            <tr>\n",
       "                        <th id=\"T_60adac15_be00_11eb_b337_5453ed2e2dc1level0_row6\" class=\"row_heading level0 row6\" >6</th>\n",
       "                        <td id=\"T_60adac15_be00_11eb_b337_5453ed2e2dc1row6_col0\" class=\"data row6 col0\" >accounting</td>\n",
       "                        <td id=\"T_60adac15_be00_11eb_b337_5453ed2e2dc1row6_col1\" class=\"data row6 col1\" >high</td>\n",
       "                        <td id=\"T_60adac15_be00_11eb_b337_5453ed2e2dc1row6_col2\" class=\"data row6 col2\" >74</td>\n",
       "            </tr>\n",
       "            <tr>\n",
       "                        <th id=\"T_60adac15_be00_11eb_b337_5453ed2e2dc1level0_row7\" class=\"row_heading level0 row7\" >7</th>\n",
       "                        <td id=\"T_60adac15_be00_11eb_b337_5453ed2e2dc1row7_col0\" class=\"data row7 col0\" >accounting</td>\n",
       "                        <td id=\"T_60adac15_be00_11eb_b337_5453ed2e2dc1row7_col1\" class=\"data row7 col1\" >low</td>\n",
       "                        <td id=\"T_60adac15_be00_11eb_b337_5453ed2e2dc1row7_col2\" class=\"data row7 col2\" >358</td>\n",
       "            </tr>\n",
       "            <tr>\n",
       "                        <th id=\"T_60adac15_be00_11eb_b337_5453ed2e2dc1level0_row8\" class=\"row_heading level0 row8\" >8</th>\n",
       "                        <td id=\"T_60adac15_be00_11eb_b337_5453ed2e2dc1row8_col0\" class=\"data row8 col0\" >accounting</td>\n",
       "                        <td id=\"T_60adac15_be00_11eb_b337_5453ed2e2dc1row8_col1\" class=\"data row8 col1\" >medium</td>\n",
       "                        <td id=\"T_60adac15_be00_11eb_b337_5453ed2e2dc1row8_col2\" class=\"data row8 col2\" >335</td>\n",
       "            </tr>\n",
       "            <tr>\n",
       "                        <th id=\"T_60adac15_be00_11eb_b337_5453ed2e2dc1level0_row9\" class=\"row_heading level0 row9\" >9</th>\n",
       "                        <td id=\"T_60adac15_be00_11eb_b337_5453ed2e2dc1row9_col0\" class=\"data row9 col0\" >hr</td>\n",
       "                        <td id=\"T_60adac15_be00_11eb_b337_5453ed2e2dc1row9_col1\" class=\"data row9 col1\" >high</td>\n",
       "                        <td id=\"T_60adac15_be00_11eb_b337_5453ed2e2dc1row9_col2\" class=\"data row9 col2\" >45</td>\n",
       "            </tr>\n",
       "            <tr>\n",
       "                        <th id=\"T_60adac15_be00_11eb_b337_5453ed2e2dc1level0_row10\" class=\"row_heading level0 row10\" >10</th>\n",
       "                        <td id=\"T_60adac15_be00_11eb_b337_5453ed2e2dc1row10_col0\" class=\"data row10 col0\" >hr</td>\n",
       "                        <td id=\"T_60adac15_be00_11eb_b337_5453ed2e2dc1row10_col1\" class=\"data row10 col1\" >low</td>\n",
       "                        <td id=\"T_60adac15_be00_11eb_b337_5453ed2e2dc1row10_col2\" class=\"data row10 col2\" >335</td>\n",
       "            </tr>\n",
       "            <tr>\n",
       "                        <th id=\"T_60adac15_be00_11eb_b337_5453ed2e2dc1level0_row11\" class=\"row_heading level0 row11\" >11</th>\n",
       "                        <td id=\"T_60adac15_be00_11eb_b337_5453ed2e2dc1row11_col0\" class=\"data row11 col0\" >hr</td>\n",
       "                        <td id=\"T_60adac15_be00_11eb_b337_5453ed2e2dc1row11_col1\" class=\"data row11 col1\" >medium</td>\n",
       "                        <td id=\"T_60adac15_be00_11eb_b337_5453ed2e2dc1row11_col2\" class=\"data row11 col2\" >359</td>\n",
       "            </tr>\n",
       "            <tr>\n",
       "                        <th id=\"T_60adac15_be00_11eb_b337_5453ed2e2dc1level0_row12\" class=\"row_heading level0 row12\" >12</th>\n",
       "                        <td id=\"T_60adac15_be00_11eb_b337_5453ed2e2dc1row12_col0\" class=\"data row12 col0\" >management</td>\n",
       "                        <td id=\"T_60adac15_be00_11eb_b337_5453ed2e2dc1row12_col1\" class=\"data row12 col1\" >high</td>\n",
       "                        <td id=\"T_60adac15_be00_11eb_b337_5453ed2e2dc1row12_col2\" class=\"data row12 col2\" >225</td>\n",
       "            </tr>\n",
       "            <tr>\n",
       "                        <th id=\"T_60adac15_be00_11eb_b337_5453ed2e2dc1level0_row13\" class=\"row_heading level0 row13\" >13</th>\n",
       "                        <td id=\"T_60adac15_be00_11eb_b337_5453ed2e2dc1row13_col0\" class=\"data row13 col0\" >management</td>\n",
       "                        <td id=\"T_60adac15_be00_11eb_b337_5453ed2e2dc1row13_col1\" class=\"data row13 col1\" >low</td>\n",
       "                        <td id=\"T_60adac15_be00_11eb_b337_5453ed2e2dc1row13_col2\" class=\"data row13 col2\" >180</td>\n",
       "            </tr>\n",
       "            <tr>\n",
       "                        <th id=\"T_60adac15_be00_11eb_b337_5453ed2e2dc1level0_row14\" class=\"row_heading level0 row14\" >14</th>\n",
       "                        <td id=\"T_60adac15_be00_11eb_b337_5453ed2e2dc1row14_col0\" class=\"data row14 col0\" >management</td>\n",
       "                        <td id=\"T_60adac15_be00_11eb_b337_5453ed2e2dc1row14_col1\" class=\"data row14 col1\" >medium</td>\n",
       "                        <td id=\"T_60adac15_be00_11eb_b337_5453ed2e2dc1row14_col2\" class=\"data row14 col2\" >225</td>\n",
       "            </tr>\n",
       "            <tr>\n",
       "                        <th id=\"T_60adac15_be00_11eb_b337_5453ed2e2dc1level0_row15\" class=\"row_heading level0 row15\" >15</th>\n",
       "                        <td id=\"T_60adac15_be00_11eb_b337_5453ed2e2dc1row15_col0\" class=\"data row15 col0\" >marketing</td>\n",
       "                        <td id=\"T_60adac15_be00_11eb_b337_5453ed2e2dc1row15_col1\" class=\"data row15 col1\" >high</td>\n",
       "                        <td id=\"T_60adac15_be00_11eb_b337_5453ed2e2dc1row15_col2\" class=\"data row15 col2\" >80</td>\n",
       "            </tr>\n",
       "            <tr>\n",
       "                        <th id=\"T_60adac15_be00_11eb_b337_5453ed2e2dc1level0_row16\" class=\"row_heading level0 row16\" >16</th>\n",
       "                        <td id=\"T_60adac15_be00_11eb_b337_5453ed2e2dc1row16_col0\" class=\"data row16 col0\" >marketing</td>\n",
       "                        <td id=\"T_60adac15_be00_11eb_b337_5453ed2e2dc1row16_col1\" class=\"data row16 col1\" >low</td>\n",
       "                        <td id=\"T_60adac15_be00_11eb_b337_5453ed2e2dc1row16_col2\" class=\"data row16 col2\" >402</td>\n",
       "            </tr>\n",
       "            <tr>\n",
       "                        <th id=\"T_60adac15_be00_11eb_b337_5453ed2e2dc1level0_row17\" class=\"row_heading level0 row17\" >17</th>\n",
       "                        <td id=\"T_60adac15_be00_11eb_b337_5453ed2e2dc1row17_col0\" class=\"data row17 col0\" >marketing</td>\n",
       "                        <td id=\"T_60adac15_be00_11eb_b337_5453ed2e2dc1row17_col1\" class=\"data row17 col1\" >medium</td>\n",
       "                        <td id=\"T_60adac15_be00_11eb_b337_5453ed2e2dc1row17_col2\" class=\"data row17 col2\" >376</td>\n",
       "            </tr>\n",
       "            <tr>\n",
       "                        <th id=\"T_60adac15_be00_11eb_b337_5453ed2e2dc1level0_row18\" class=\"row_heading level0 row18\" >18</th>\n",
       "                        <td id=\"T_60adac15_be00_11eb_b337_5453ed2e2dc1row18_col0\" class=\"data row18 col0\" >product_mng</td>\n",
       "                        <td id=\"T_60adac15_be00_11eb_b337_5453ed2e2dc1row18_col1\" class=\"data row18 col1\" >high</td>\n",
       "                        <td id=\"T_60adac15_be00_11eb_b337_5453ed2e2dc1row18_col2\" class=\"data row18 col2\" >68</td>\n",
       "            </tr>\n",
       "            <tr>\n",
       "                        <th id=\"T_60adac15_be00_11eb_b337_5453ed2e2dc1level0_row19\" class=\"row_heading level0 row19\" >19</th>\n",
       "                        <td id=\"T_60adac15_be00_11eb_b337_5453ed2e2dc1row19_col0\" class=\"data row19 col0\" >product_mng</td>\n",
       "                        <td id=\"T_60adac15_be00_11eb_b337_5453ed2e2dc1row19_col1\" class=\"data row19 col1\" >low</td>\n",
       "                        <td id=\"T_60adac15_be00_11eb_b337_5453ed2e2dc1row19_col2\" class=\"data row19 col2\" >451</td>\n",
       "            </tr>\n",
       "            <tr>\n",
       "                        <th id=\"T_60adac15_be00_11eb_b337_5453ed2e2dc1level0_row20\" class=\"row_heading level0 row20\" >20</th>\n",
       "                        <td id=\"T_60adac15_be00_11eb_b337_5453ed2e2dc1row20_col0\" class=\"data row20 col0\" >product_mng</td>\n",
       "                        <td id=\"T_60adac15_be00_11eb_b337_5453ed2e2dc1row20_col1\" class=\"data row20 col1\" >medium</td>\n",
       "                        <td id=\"T_60adac15_be00_11eb_b337_5453ed2e2dc1row20_col2\" class=\"data row20 col2\" >383</td>\n",
       "            </tr>\n",
       "            <tr>\n",
       "                        <th id=\"T_60adac15_be00_11eb_b337_5453ed2e2dc1level0_row21\" class=\"row_heading level0 row21\" >21</th>\n",
       "                        <td id=\"T_60adac15_be00_11eb_b337_5453ed2e2dc1row21_col0\" class=\"data row21 col0\" >sales</td>\n",
       "                        <td id=\"T_60adac15_be00_11eb_b337_5453ed2e2dc1row21_col1\" class=\"data row21 col1\" >high</td>\n",
       "                        <td id=\"T_60adac15_be00_11eb_b337_5453ed2e2dc1row21_col2\" class=\"data row21 col2\" >269</td>\n",
       "            </tr>\n",
       "            <tr>\n",
       "                        <th id=\"T_60adac15_be00_11eb_b337_5453ed2e2dc1level0_row22\" class=\"row_heading level0 row22\" >22</th>\n",
       "                        <td id=\"T_60adac15_be00_11eb_b337_5453ed2e2dc1row22_col0\" class=\"data row22 col0\" >sales</td>\n",
       "                        <td id=\"T_60adac15_be00_11eb_b337_5453ed2e2dc1row22_col1\" class=\"data row22 col1\" >low</td>\n",
       "                        <td id=\"T_60adac15_be00_11eb_b337_5453ed2e2dc1row22_col2\" class=\"data row22 col2\" >2099</td>\n",
       "            </tr>\n",
       "            <tr>\n",
       "                        <th id=\"T_60adac15_be00_11eb_b337_5453ed2e2dc1level0_row23\" class=\"row_heading level0 row23\" >23</th>\n",
       "                        <td id=\"T_60adac15_be00_11eb_b337_5453ed2e2dc1row23_col0\" class=\"data row23 col0\" >sales</td>\n",
       "                        <td id=\"T_60adac15_be00_11eb_b337_5453ed2e2dc1row23_col1\" class=\"data row23 col1\" >medium</td>\n",
       "                        <td id=\"T_60adac15_be00_11eb_b337_5453ed2e2dc1row23_col2\" class=\"data row23 col2\" >1772</td>\n",
       "            </tr>\n",
       "            <tr>\n",
       "                        <th id=\"T_60adac15_be00_11eb_b337_5453ed2e2dc1level0_row24\" class=\"row_heading level0 row24\" >24</th>\n",
       "                        <td id=\"T_60adac15_be00_11eb_b337_5453ed2e2dc1row24_col0\" class=\"data row24 col0\" >support</td>\n",
       "                        <td id=\"T_60adac15_be00_11eb_b337_5453ed2e2dc1row24_col1\" class=\"data row24 col1\" >high</td>\n",
       "                        <td id=\"T_60adac15_be00_11eb_b337_5453ed2e2dc1row24_col2\" class=\"data row24 col2\" >141</td>\n",
       "            </tr>\n",
       "            <tr>\n",
       "                        <th id=\"T_60adac15_be00_11eb_b337_5453ed2e2dc1level0_row25\" class=\"row_heading level0 row25\" >25</th>\n",
       "                        <td id=\"T_60adac15_be00_11eb_b337_5453ed2e2dc1row25_col0\" class=\"data row25 col0\" >support</td>\n",
       "                        <td id=\"T_60adac15_be00_11eb_b337_5453ed2e2dc1row25_col1\" class=\"data row25 col1\" >low</td>\n",
       "                        <td id=\"T_60adac15_be00_11eb_b337_5453ed2e2dc1row25_col2\" class=\"data row25 col2\" >1146</td>\n",
       "            </tr>\n",
       "            <tr>\n",
       "                        <th id=\"T_60adac15_be00_11eb_b337_5453ed2e2dc1level0_row26\" class=\"row_heading level0 row26\" >26</th>\n",
       "                        <td id=\"T_60adac15_be00_11eb_b337_5453ed2e2dc1row26_col0\" class=\"data row26 col0\" >support</td>\n",
       "                        <td id=\"T_60adac15_be00_11eb_b337_5453ed2e2dc1row26_col1\" class=\"data row26 col1\" >medium</td>\n",
       "                        <td id=\"T_60adac15_be00_11eb_b337_5453ed2e2dc1row26_col2\" class=\"data row26 col2\" >942</td>\n",
       "            </tr>\n",
       "            <tr>\n",
       "                        <th id=\"T_60adac15_be00_11eb_b337_5453ed2e2dc1level0_row27\" class=\"row_heading level0 row27\" >27</th>\n",
       "                        <td id=\"T_60adac15_be00_11eb_b337_5453ed2e2dc1row27_col0\" class=\"data row27 col0\" >technical</td>\n",
       "                        <td id=\"T_60adac15_be00_11eb_b337_5453ed2e2dc1row27_col1\" class=\"data row27 col1\" >high</td>\n",
       "                        <td id=\"T_60adac15_be00_11eb_b337_5453ed2e2dc1row27_col2\" class=\"data row27 col2\" >201</td>\n",
       "            </tr>\n",
       "            <tr>\n",
       "                        <th id=\"T_60adac15_be00_11eb_b337_5453ed2e2dc1level0_row28\" class=\"row_heading level0 row28\" >28</th>\n",
       "                        <td id=\"T_60adac15_be00_11eb_b337_5453ed2e2dc1row28_col0\" class=\"data row28 col0\" >technical</td>\n",
       "                        <td id=\"T_60adac15_be00_11eb_b337_5453ed2e2dc1row28_col1\" class=\"data row28 col1\" >low</td>\n",
       "                        <td id=\"T_60adac15_be00_11eb_b337_5453ed2e2dc1row28_col2\" class=\"data row28 col2\" >1372</td>\n",
       "            </tr>\n",
       "            <tr>\n",
       "                        <th id=\"T_60adac15_be00_11eb_b337_5453ed2e2dc1level0_row29\" class=\"row_heading level0 row29\" >29</th>\n",
       "                        <td id=\"T_60adac15_be00_11eb_b337_5453ed2e2dc1row29_col0\" class=\"data row29 col0\" >technical</td>\n",
       "                        <td id=\"T_60adac15_be00_11eb_b337_5453ed2e2dc1row29_col1\" class=\"data row29 col1\" >medium</td>\n",
       "                        <td id=\"T_60adac15_be00_11eb_b337_5453ed2e2dc1row29_col2\" class=\"data row29 col2\" >1147</td>\n",
       "            </tr>\n",
       "    </tbody></table>"
      ],
      "text/plain": [
       "<pandas.io.formats.style.Styler at 0xfa60b80>"
      ]
     },
     "execution_count": 146,
     "metadata": {},
     "output_type": "execute_result"
    }
   ],
   "source": [
    "#визуализируем\n",
    "employee_department_salary_count.style.bar(subset=['Employee_number'],color=['red', 'yellowgreen'])"
   ]
  },
  {
   "cell_type": "code",
   "execution_count": 151,
   "metadata": {},
   "outputs": [
    {
     "data": {
      "text/plain": [
       "<AxesSubplot:xlabel='department', ylabel='Employee_number'>"
      ]
     },
     "execution_count": 151,
     "metadata": {},
     "output_type": "execute_result"
    },
    {
     "data": {
      "image/png": "[encoded data removed]",
      "text/plain": [
       "<Figure size 1152x576 with 1 Axes>"
      ]
     },
     "metadata": {
      "needs_background": "light"
     },
     "output_type": "display_data"
    }
   ],
   "source": [
    "sns.barplot(y = 'Employee_number',x='department',hue='salary', data=employee_department_salary_count)"
   ]
  },
  {
   "cell_type": "code",
   "execution_count": 152,
   "metadata": {},
   "outputs": [],
   "source": [
    "del employee_department_salary_count #менее RAM-friendly (DataFrame из памяти не удаляется)"
   ]
  },
  {
   "cell_type": "markdown",
   "metadata": {},
   "source": [
    "### Задание 7. `Проверить гипотезу, что сотрудники с высоким окладом проводят на работе больше времени, чем сотрудники с низким окладом`"
   ]
  },
  {
   "cell_type": "markdown",
   "metadata": {},
   "source": [
    "По сути, нужно доказать, принадлежат ли выборки к одной ГС. \n",
    "- Если да -> разницы нет\n",
    "- Если нет -> Сравнить средние"
   ]
  },
  {
   "cell_type": "code",
   "execution_count": 179,
   "metadata": {},
   "outputs": [],
   "source": [
    "employees_salary_high = np.array(df.loc[df.salary.str.contains('high'),'average_montly_hours'])\n",
    "employees_salary_low = np.array(df.loc[df.salary.str.contains('low'),'average_montly_hours'])"
   ]
  },
  {
   "cell_type": "code",
   "execution_count": 174,
   "metadata": {},
   "outputs": [
    {
     "data": {
      "image/png": "[encoded data removed]",
      "text/plain": [
       "<Figure size 864x360 with 1 Axes>"
      ]
     },
     "metadata": {
      "needs_background": "light"
     },
     "output_type": "display_data"
    }
   ],
   "source": [
    "fig = plt.figure(figsize=(12,5))\n",
    "plt.violinplot(dataset=employees_salary_high, vert=False, showmeans=True )\n",
    "plt.violinplot(dataset=employees_salary_low, vert=False, showmeans=True )\n",
    "\n",
    "import matplotlib.patches as mpatches\n",
    "orange_patch = mpatches.Patch(color='orange')\n",
    "blue_patch = mpatches.Patch(color='blue')\n",
    "plt.legend( [blue_patch,orange_patch],['salary_high','salary_low'] );"
   ]
  },
  {
   "cell_type": "markdown",
   "metadata": {},
   "source": [
    "По графику видно:   \n",
    ">Распределение `salary_high`  симметричное, унимодальное,в отличие от распределения `salary_low`, для последней выражены две моды.\n",
    "\n",
    "Проверим на нормальность (Критерий Шапиро_Уилка):"
   ]
  },
  {
   "cell_type": "code",
   "execution_count": 183,
   "metadata": {},
   "outputs": [],
   "source": [
    "def array_normality_checker(array,name,confidence=0.01):\n",
    "    shap = stats.shapiro(array)\n",
    "    print(f' {name}  st={shap[0]:.3f}, p_val={shap[1]:.3f} ')\n",
    "    print('-'*55)\n",
    "    if shap[1] > confidence: print('\\tРаспределение нормально') \n",
    "    else: print('\\tРаспределение НЕ нормально') "
   ]
  },
  {
   "cell_type": "code",
   "execution_count": 188,
   "metadata": {},
   "outputs": [
    {
     "name": "stdout",
     "output_type": "stream",
     "text": [
      "проверим на нормальность - критерий Шапиро-Уилка\n",
      "\n",
      " employees_salary_high  st=0.971, p_val=0.000 \n",
      "-------------------------------------------------------\n",
      "\tРаспределение НЕ нормально\n",
      "\n",
      " employees_salary_low  st=0.960, p_val=0.000 \n",
      "-------------------------------------------------------\n",
      "\tРаспределение НЕ нормально\n"
     ]
    }
   ],
   "source": [
    "print('проверим на нормальность - критерий Шапиро-Уилка\\n')\n",
    "#Проверка на нормальность\n",
    "confidence = 0.01 #1%\n",
    "\n",
    "array_normality_checker(employees_salary_high, 'employees_salary_high',confidence = 0.01)\n",
    "print()\n",
    "array_normality_checker(employees_salary_low, 'employees_salary_low',confidence = 0.01)"
   ]
  },
  {
   "cell_type": "markdown",
   "metadata": {},
   "source": [
    "Так как оба распределения НЕ нормальны, то применять мощный т-тест мы не можем, пока не приведем распределения к нормальности.   \n",
    "  \n",
    "  Преобразуем все значения в выборках в логарифм от 2 и проверим на нормальность:"
   ]
  },
  {
   "cell_type": "code",
   "execution_count": 190,
   "metadata": {
    "scrolled": true
   },
   "outputs": [
    {
     "name": "stdout",
     "output_type": "stream",
     "text": [
      "проверим на нормальность - критерий Шапиро-Уилка. \n",
      " Выборки преобразованы в логарифм от 2 \n",
      "\n",
      " employees_salary_high  st=0.962, p_val=0.000 \n",
      "-------------------------------------------------------\n",
      "\tРаспределение НЕ нормально\n",
      "\n",
      " employees_salary_low  st=0.959, p_val=0.000 \n",
      "-------------------------------------------------------\n",
      "\tРаспределение НЕ нормально\n"
     ]
    }
   ],
   "source": [
    "print('проверим на нормальность - критерий Шапиро-Уилка. \\n Выборки преобразованы в логарифм от 2 \\n')\n",
    "#Проверка на нормальность\n",
    "confidence = 0.01 #1%\n",
    "\n",
    "array_normality_checker(np.log2(employees_salary_high), 'employees_salary_high',confidence = 0.01)\n",
    "print()\n",
    "array_normality_checker(np.log2(employees_salary_low), 'employees_salary_low',confidence = 0.01)"
   ]
  },
  {
   "cell_type": "markdown",
   "metadata": {},
   "source": [
    "Попробуем применить BoxCox: "
   ]
  },
  {
   "cell_type": "code",
   "execution_count": 199,
   "metadata": {
    "scrolled": true
   },
   "outputs": [
    {
     "name": "stdout",
     "output_type": "stream",
     "text": [
      "проверим на нормальность - критерий Шапиро-Уилка. \n",
      " Выборки преобразованы BoxCox \n",
      "\n",
      " employees_salary_high  st=0.971, p_val=0.000 \n",
      "-------------------------------------------------------\n",
      "\tРаспределение НЕ нормально\n",
      "\n",
      " employees_salary_low  st=0.962, p_val=0.000 \n",
      "-------------------------------------------------------\n",
      "\tРаспределение НЕ нормально\n"
     ]
    }
   ],
   "source": [
    "print('проверим на нормальность - критерий Шапиро-Уилка. \\n Выборки преобразованы BoxCox \\n')\n",
    "#Проверка на нормальность\n",
    "confidence = 0.01 #1%\n",
    "\n",
    "array_normality_checker(stats.boxcox(employees_salary_high)[0], 'employees_salary_high',confidence = 0.01)\n",
    "print()\n",
    "array_normality_checker(stats.boxcox(employees_salary_low)[0], 'employees_salary_low',confidence = 0.01)"
   ]
  },
  {
   "cell_type": "markdown",
   "metadata": {},
   "source": [
    "Не выходит нормализовать. Тогда применяем критерий для ненормально распределенных несвязанных выборок - критерий Манна-Уитни"
   ]
  },
  {
   "cell_type": "code",
   "execution_count": 200,
   "metadata": {},
   "outputs": [
    {
     "name": "stdout",
     "output_type": "stream",
     "text": [
      "Stat = 4507096.500, Критерий Уилкоксона -Манна -Уитни = 0.412 \n",
      " -----------------------------------\n",
      "\tкритерий Уилкоксона -Манна -Уитни > 0.01 --> \n",
      "\tH0 = True: Распределения НЕ различаются с 99 % уверенностью\n"
     ]
    }
   ],
   "source": [
    "confidence = 0.01 # 1%\n",
    "\n",
    "st, p_val = stats.mannwhitneyu(employees_salary_high,employees_salary_low)\n",
    "\n",
    "print(f'Stat = {st:.3f}, Критерий Уилкоксона -Манна -Уитни = {p_val:.3f}', '\\n', '-'*35)\n",
    "\n",
    "if p_val < confidence: \n",
    "    print(f'\\tкритерий Уилкоксона -Манна -Уитни < {confidence} --> \\n\\tH0 != True: Средние распределений различаются, \\n\\tраспределения НЕ принадлежат одной ГС с {(1-confidence) *100:.0f} % уверенностью') \n",
    "else: \n",
    "    print(f'\\tкритерий Уилкоксона -Манна -Уитни > {confidence} --> \\n\\tH0 = True: Распределения НЕ различаются с {(1-confidence) *100:.0f} % уверенностью')"
   ]
  },
  {
   "cell_type": "markdown",
   "metadata": {},
   "source": [
    "Выборки принадлежат одной ГС, стало быть средние не различаются.   \n",
    "Если средние не различаются, значит гипотеза, `что сотрудники с высоким окладом проводят на работе больше времени, чем сотрудники с низким окладом` не верна."
   ]
  },
  {
   "cell_type": "code",
   "execution_count": 201,
   "metadata": {},
   "outputs": [],
   "source": [
    "del employees_salary_high , employees_salary_low"
   ]
  },
  {
   "cell_type": "markdown",
   "metadata": {},
   "source": [
    "### Задание 8. `Рассчитать следующие показатели среди уволившихся и не уволившихся сотрудников (по отдельности):`\n",
    "- Доля сотрудников с повышением за последние 5 лет\n",
    "- Средняя степень удовлетворенности\n",
    "- Среднее количество проектов"
   ]
  },
  {
   "cell_type": "code",
   "execution_count": 229,
   "metadata": {},
   "outputs": [
    {
     "data": {
      "text/plain": [
       "0    14680\n",
       "1      319\n",
       "Name: promotion_last_5years, dtype: int64"
      ]
     },
     "execution_count": 229,
     "metadata": {},
     "output_type": "execute_result"
    }
   ],
   "source": [
    "# проверим rate повышений за 5 лет\n",
    "df.promotion_last_5years.value_counts()"
   ]
  },
  {
   "cell_type": "markdown",
   "metadata": {},
   "source": [
    "Не удивительно, почему такой большой процент уволившихся.."
   ]
  },
  {
   "cell_type": "code",
   "execution_count": 281,
   "metadata": {},
   "outputs": [],
   "source": [
    "# Судя по-всему придется подтягивать функцию для подсчета rate за 5 лет\n",
    "def calculate_part_of_main(data):\n",
    "    return data.promotion_last_5years.sum()/data.promotion_last_5years.count()"
   ]
  },
  {
   "cell_type": "code",
   "execution_count": 271,
   "metadata": {},
   "outputs": [
    {
     "data": {
      "text/plain": [
       "left\n",
       "0    0.026251\n",
       "1    0.005321\n",
       "dtype: float64"
      ]
     },
     "execution_count": 271,
     "metadata": {},
     "output_type": "execute_result"
    }
   ],
   "source": [
    "#Создали сериес с нужной нам метрикой\n",
    "A = df.groupby('left').apply(calculate_part_of_main)\n",
    "A"
   ]
  },
  {
   "cell_type": "code",
   "execution_count": 278,
   "metadata": {},
   "outputs": [
    {
     "data": {
      "text/html": [
       "<div>\n",
       "<style scoped>\n",
       "    .dataframe tbody tr th:only-of-type {\n",
       "        vertical-align: middle;\n",
       "    }\n",
       "\n",
       "    .dataframe tbody tr th {\n",
       "        vertical-align: top;\n",
       "    }\n",
       "\n",
       "    .dataframe thead tr th {\n",
       "        text-align: left;\n",
       "    }\n",
       "</style>\n",
       "<table border=\"1\" class=\"dataframe\">\n",
       "  <thead>\n",
       "    <tr>\n",
       "      <th></th>\n",
       "      <th>left</th>\n",
       "      <th>satisfaction_level</th>\n",
       "      <th>number_project</th>\n",
       "    </tr>\n",
       "    <tr>\n",
       "      <th></th>\n",
       "      <th></th>\n",
       "      <th>mean</th>\n",
       "      <th>mean</th>\n",
       "    </tr>\n",
       "  </thead>\n",
       "  <tbody>\n",
       "    <tr>\n",
       "      <th>0</th>\n",
       "      <td>0</td>\n",
       "      <td>0.666810</td>\n",
       "      <td>3.786664</td>\n",
       "    </tr>\n",
       "    <tr>\n",
       "      <th>1</th>\n",
       "      <td>1</td>\n",
       "      <td>0.440098</td>\n",
       "      <td>3.855503</td>\n",
       "    </tr>\n",
       "  </tbody>\n",
       "</table>\n",
       "</div>"
      ],
      "text/plain": [
       "  left satisfaction_level number_project\n",
       "                     mean           mean\n",
       "0    0           0.666810       3.786664\n",
       "1    1           0.440098       3.855503"
      ]
     },
     "execution_count": 278,
     "metadata": {},
     "output_type": "execute_result"
    }
   ],
   "source": [
    "#подтянули две оставшиеся метрики\n",
    "df_left_satisfaction_Noproject_5years = df.groupby('left').agg({'satisfaction_level':['mean'],\n",
    "                                        'number_project':['mean']} ).reset_index()\n",
    "df_left_satisfaction_Noproject_5years"
   ]
  },
  {
   "cell_type": "code",
   "execution_count": 275,
   "metadata": {},
   "outputs": [
    {
     "data": {
      "text/plain": [
       "MultiIndex([(              'left',     ''),\n",
       "            ('satisfaction_level', 'mean'),\n",
       "            (    'number_project', 'mean')],\n",
       "           )"
      ]
     },
     "execution_count": 275,
     "metadata": {},
     "output_type": "execute_result"
    }
   ],
   "source": [
    "# Там теперь хитрые названия столбов\n",
    "df_left_satisfaction_Noproject_5years.columns"
   ]
  },
  {
   "cell_type": "code",
   "execution_count": 308,
   "metadata": {},
   "outputs": [
    {
     "data": {
      "text/html": [
       "<style  type=\"text/css\" >\n",
       "</style><table id=\"T_eea8585b_be28_11eb_af12_5453ed2e2dc1\" ><thead>    <tr>        <th class=\"blank level0\" ></th>        <th class=\"col_heading level0 col0\" >left</th>        <th class=\"col_heading level0 col1\" >satisfaction_level</th>        <th class=\"col_heading level0 col2\" >number_project</th>        <th class=\"col_heading level0 col3\" >5years</th>    </tr>    <tr>        <th class=\"blank level1\" ></th>        <th class=\"col_heading level1 col0\" ></th>        <th class=\"col_heading level1 col1\" >mean</th>        <th class=\"col_heading level1 col2\" >mean</th>        <th class=\"col_heading level1 col3\" >rate</th>    </tr></thead><tbody>\n",
       "                <tr>\n",
       "                        <th id=\"T_eea8585b_be28_11eb_af12_5453ed2e2dc1level0_row0\" class=\"row_heading level0 row0\" >0</th>\n",
       "                        <td id=\"T_eea8585b_be28_11eb_af12_5453ed2e2dc1row0_col0\" class=\"data row0 col0\" >0.00</td>\n",
       "                        <td id=\"T_eea8585b_be28_11eb_af12_5453ed2e2dc1row0_col1\" class=\"data row0 col1\" >0.67</td>\n",
       "                        <td id=\"T_eea8585b_be28_11eb_af12_5453ed2e2dc1row0_col2\" class=\"data row0 col2\" >3.79</td>\n",
       "                        <td id=\"T_eea8585b_be28_11eb_af12_5453ed2e2dc1row0_col3\" class=\"data row0 col3\" >0.03</td>\n",
       "            </tr>\n",
       "            <tr>\n",
       "                        <th id=\"T_eea8585b_be28_11eb_af12_5453ed2e2dc1level0_row1\" class=\"row_heading level0 row1\" >1</th>\n",
       "                        <td id=\"T_eea8585b_be28_11eb_af12_5453ed2e2dc1row1_col0\" class=\"data row1 col0\" >1.00</td>\n",
       "                        <td id=\"T_eea8585b_be28_11eb_af12_5453ed2e2dc1row1_col1\" class=\"data row1 col1\" >0.44</td>\n",
       "                        <td id=\"T_eea8585b_be28_11eb_af12_5453ed2e2dc1row1_col2\" class=\"data row1 col2\" >3.86</td>\n",
       "                        <td id=\"T_eea8585b_be28_11eb_af12_5453ed2e2dc1row1_col3\" class=\"data row1 col3\" >0.01</td>\n",
       "            </tr>\n",
       "    </tbody></table>"
      ],
      "text/plain": [
       "<pandas.io.formats.style.Styler at 0x130c6ac0>"
      ]
     },
     "execution_count": 308,
     "metadata": {},
     "output_type": "execute_result"
    }
   ],
   "source": [
    "# Собрали франкенштейна\n",
    "df_left_satisfaction_Noproject_5years[('5years','rate')] = A\n",
    "df_left_satisfaction_Noproject_5years.style.format( '{:.2f}')"
   ]
  },
  {
   "cell_type": "code",
   "execution_count": 309,
   "metadata": {},
   "outputs": [],
   "source": [
    "del df_left_satisfaction_Noproject_5years, A # разобрали франкенштейна"
   ]
  },
  {
   "cell_type": "markdown",
   "metadata": {},
   "source": [
    "### Задание 9. `LDA` \n",
    "- Разделить данные на тестовую и обучающую выборки\n",
    "- Построить модель LDA, предсказывающую уволился ли сотрудник на основе имеющихся факторов (кроме department и\n",
    "salary). \n",
    "- Оценить качество модели на тестовой выборки"
   ]
  },
  {
   "cell_type": "code",
   "execution_count": 310,
   "metadata": {},
   "outputs": [],
   "source": [
    "from sklearn.model_selection import train_test_split"
   ]
  },
  {
   "cell_type": "code",
   "execution_count": 313,
   "metadata": {},
   "outputs": [
    {
     "data": {
      "text/html": [
       "<div>\n",
       "<style scoped>\n",
       "    .dataframe tbody tr th:only-of-type {\n",
       "        vertical-align: middle;\n",
       "    }\n",
       "\n",
       "    .dataframe tbody tr th {\n",
       "        vertical-align: top;\n",
       "    }\n",
       "\n",
       "    .dataframe thead th {\n",
       "        text-align: right;\n",
       "    }\n",
       "</style>\n",
       "<table border=\"1\" class=\"dataframe\">\n",
       "  <thead>\n",
       "    <tr style=\"text-align: right;\">\n",
       "      <th></th>\n",
       "      <th>satisfaction_level</th>\n",
       "      <th>last_evaluation</th>\n",
       "      <th>number_project</th>\n",
       "      <th>average_montly_hours</th>\n",
       "      <th>time_spend_company</th>\n",
       "      <th>Work_accident</th>\n",
       "      <th>left</th>\n",
       "      <th>promotion_last_5years</th>\n",
       "      <th>department</th>\n",
       "      <th>salary</th>\n",
       "    </tr>\n",
       "  </thead>\n",
       "  <tbody>\n",
       "    <tr>\n",
       "      <th>0</th>\n",
       "      <td>0.38</td>\n",
       "      <td>0.53</td>\n",
       "      <td>2</td>\n",
       "      <td>157</td>\n",
       "      <td>3</td>\n",
       "      <td>0</td>\n",
       "      <td>1</td>\n",
       "      <td>0</td>\n",
       "      <td>sales</td>\n",
       "      <td>low</td>\n",
       "    </tr>\n",
       "    <tr>\n",
       "      <th>1</th>\n",
       "      <td>0.80</td>\n",
       "      <td>0.86</td>\n",
       "      <td>5</td>\n",
       "      <td>262</td>\n",
       "      <td>6</td>\n",
       "      <td>0</td>\n",
       "      <td>1</td>\n",
       "      <td>0</td>\n",
       "      <td>sales</td>\n",
       "      <td>medium</td>\n",
       "    </tr>\n",
       "    <tr>\n",
       "      <th>2</th>\n",
       "      <td>0.11</td>\n",
       "      <td>0.88</td>\n",
       "      <td>7</td>\n",
       "      <td>272</td>\n",
       "      <td>4</td>\n",
       "      <td>0</td>\n",
       "      <td>1</td>\n",
       "      <td>0</td>\n",
       "      <td>sales</td>\n",
       "      <td>medium</td>\n",
       "    </tr>\n",
       "    <tr>\n",
       "      <th>3</th>\n",
       "      <td>0.72</td>\n",
       "      <td>0.87</td>\n",
       "      <td>5</td>\n",
       "      <td>223</td>\n",
       "      <td>5</td>\n",
       "      <td>0</td>\n",
       "      <td>1</td>\n",
       "      <td>0</td>\n",
       "      <td>sales</td>\n",
       "      <td>low</td>\n",
       "    </tr>\n",
       "    <tr>\n",
       "      <th>4</th>\n",
       "      <td>0.37</td>\n",
       "      <td>0.52</td>\n",
       "      <td>2</td>\n",
       "      <td>159</td>\n",
       "      <td>3</td>\n",
       "      <td>0</td>\n",
       "      <td>1</td>\n",
       "      <td>0</td>\n",
       "      <td>sales</td>\n",
       "      <td>low</td>\n",
       "    </tr>\n",
       "  </tbody>\n",
       "</table>\n",
       "</div>"
      ],
      "text/plain": [
       "   satisfaction_level  last_evaluation  number_project  average_montly_hours  \\\n",
       "0                0.38             0.53               2                   157   \n",
       "1                0.80             0.86               5                   262   \n",
       "2                0.11             0.88               7                   272   \n",
       "3                0.72             0.87               5                   223   \n",
       "4                0.37             0.52               2                   159   \n",
       "\n",
       "   time_spend_company  Work_accident  left  promotion_last_5years department  \\\n",
       "0                   3              0     1                      0      sales   \n",
       "1                   6              0     1                      0      sales   \n",
       "2                   4              0     1                      0      sales   \n",
       "3                   5              0     1                      0      sales   \n",
       "4                   3              0     1                      0      sales   \n",
       "\n",
       "   salary  \n",
       "0     low  \n",
       "1  medium  \n",
       "2  medium  \n",
       "3     low  \n",
       "4     low  "
      ]
     },
     "execution_count": 313,
     "metadata": {},
     "output_type": "execute_result"
    }
   ],
   "source": [
    "df.head()"
   ]
  },
  {
   "cell_type": "code",
   "execution_count": 326,
   "metadata": {},
   "outputs": [],
   "source": [
    "# Признаки или 'X'\n",
    "features = list(df.drop('department',axis=1).drop('salary',axis=1).drop('left',axis=1).columns)\n",
    "X = np.array(df.drop('department',axis=1).drop('salary',axis=1).drop('left',axis=1))"
   ]
  },
  {
   "cell_type": "code",
   "execution_count": 324,
   "metadata": {},
   "outputs": [],
   "source": [
    "# категории для LDA 'y'\n",
    "y = list(df.left)"
   ]
  },
  {
   "cell_type": "code",
   "execution_count": 327,
   "metadata": {},
   "outputs": [
    {
     "data": {
      "text/plain": [
       "(10499, 4500, 10499, 4500)"
      ]
     },
     "execution_count": 327,
     "metadata": {},
     "output_type": "execute_result"
    }
   ],
   "source": [
    "#Разобъем на выборки\n",
    "X_train, X_test, y_train, y_test = train_test_split(X , y , test_size = 0.3, random_state = 22 )\n",
    "len(X_train), len(X_test), len(y_train), len(y_test)"
   ]
  },
  {
   "cell_type": "code",
   "execution_count": 349,
   "metadata": {},
   "outputs": [
    {
     "data": {
      "text/plain": [
       "0.7586666666666667"
      ]
     },
     "execution_count": 349,
     "metadata": {},
     "output_type": "execute_result"
    }
   ],
   "source": [
    "from sklearn.discriminant_analysis import LinearDiscriminantAnalysis\n",
    "lda = LinearDiscriminantAnalysis()\n",
    "\n",
    "lda.fit(X_train , y_train)\n",
    "lda_y_pred = lda.predict(X_test)\n",
    "accuracy_score(y_test, lda_y_pred)"
   ]
  },
  {
   "cell_type": "markdown",
   "metadata": {},
   "source": [
    "Линейный Дискриминантный Анализ дает результат **75.8%** посмотрим как можно улучшить результат.  \n",
    "Проведем анализ на 10 выборках:"
   ]
  },
  {
   "cell_type": "code",
   "execution_count": 375,
   "metadata": {},
   "outputs": [
    {
     "name": "stdout",
     "output_type": "stream",
     "text": [
      "Массив точности из 10 выборок:\n",
      "[0.7562963  0.76222222 0.76888889 0.7637037  0.75185185 0.75777778\n",
      " 0.77185185 0.76740741 0.76222222 0.76204596]\n"
     ]
    }
   ],
   "source": [
    "from sklearn.model_selection import cross_validate\n",
    "\n",
    "lda_2 = LinearDiscriminantAnalysis()\n",
    "cv_results = cross_validate(lda_2, X_train, y_train, cv=10 ,scoring='accuracy', n_jobs=-1, return_estimator=True)\n",
    "\n",
    "!telegram-send 'Я_посчитал'\n",
    "\n",
    "print(f'Массив точности из 10 выборок:')\n",
    "print(cv_results['test_score'])\n",
    "\n",
    "# print('-'*75)\n",
    "# print(f'Массив коэффициентов из 10 выборок:')\n",
    "# for model in cv_results['estimator']:\n",
    "#     print(model.coef_)"
   ]
  },
  {
   "cell_type": "markdown",
   "metadata": {},
   "source": [
    "По 10 выборкам результат лучше - **77%**.  \n",
    "\n",
    "Это указывает на то, что test выборка искажает результаты, а значит не хватает данных для обучения модели.  \n",
    "  \n",
    "Доберем данные - проведем разбивку еще раз, но увеличим размер train"
   ]
  },
  {
   "cell_type": "code",
   "execution_count": 393,
   "metadata": {},
   "outputs": [],
   "source": [
    "def tester(test_size_array,random_state_array):\n",
    "    max_accuracy_score = 0\n",
    "    best_test_size = 0\n",
    "    best_random_state = 0\n",
    "    for element_from_test_size_array in test_size_array:\n",
    "        for element_from_random_state_array in random_state_array:\n",
    "            X_train, X_test, y_train, y_test = train_test_split(X , y , test_size = element_from_test_size_array, random_state = element_from_random_state_array )\n",
    "            lda.fit(X_train , y_train)\n",
    "            lda_y_pred = lda.predict(X_test)\n",
    "            acc_score = accuracy_score(y_test, lda_y_pred)\n",
    "            if acc_score > max_accuracy_score:\n",
    "                max_accuracy_score = acc_score\n",
    "                best_test_size = element_from_test_size_array\n",
    "                best_random_state = element_from_random_state_array\n",
    "    return max_accuracy_score, best_test_size, best_random_state\n",
    "                "
   ]
  },
  {
   "cell_type": "code",
   "execution_count": 391,
   "metadata": {},
   "outputs": [
    {
     "data": {
      "text/plain": [
       "(0.788, 0.05, 10)"
      ]
     },
     "execution_count": 391,
     "metadata": {},
     "output_type": "execute_result"
    }
   ],
   "source": [
    "test_size_array = np.arange(0.05,0.35,0.05)\n",
    "random_state_array = range(5,55,5)\n",
    "\n",
    "max_accuracy_score, best_test_size, best_random_state = tester(test_size_array,random_state_array)\n",
    "\n",
    "!telegram-send 'Я_посчитал'\n",
    "max_accuracy_score, best_test_size, best_random_state"
   ]
  },
  {
   "cell_type": "code",
   "execution_count": 396,
   "metadata": {},
   "outputs": [
    {
     "data": {
      "text/plain": [
       "0.788"
      ]
     },
     "execution_count": 396,
     "metadata": {},
     "output_type": "execute_result"
    }
   ],
   "source": [
    "X_train, X_test, y_train, y_test = train_test_split(X , y , test_size = 0.05, random_state = 10 )\n",
    "lda.fit(X_train , y_train)\n",
    "lda_y_pred = lda.predict(X_test)\n",
    "acc_score = accuracy_score(y_test, lda_y_pred)\n",
    "acc_score"
   ]
  },
  {
   "cell_type": "markdown",
   "metadata": {},
   "source": [
    "Получился результат LDA **78.8%**"
   ]
  },
  {
   "cell_type": "code",
   "execution_count": 398,
   "metadata": {},
   "outputs": [],
   "source": [
    "# построим confusion_matrix\n",
    "from sklearn.metrics import confusion_matrix\n",
    "\n",
    "lda_cm = confusion_matrix(y_test, lda_y_pred, labels=[1,0], normalize='true')"
   ]
  },
  {
   "cell_type": "code",
   "execution_count": 399,
   "metadata": {
    "scrolled": true
   },
   "outputs": [
    {
     "data": {
      "text/plain": [
       "Text(0.5, 1.0, 'LDA Regression')"
      ]
     },
     "execution_count": 399,
     "metadata": {},
     "output_type": "execute_result"
    },
    {
     "data": {
      "image/png": "[encoded data removed]",
      "text/plain": [
       "<Figure size 504x504 with 2 Axes>"
      ]
     },
     "metadata": {
      "needs_background": "light"
     },
     "output_type": "display_data"
    }
   ],
   "source": [
    "# Визуализируем\n",
    "\n",
    "from sklearn.metrics import ConfusionMatrixDisplay\n",
    "fig = plt.figure(figsize=(7,7))\n",
    "\n",
    "ax = fig.add_subplot(221)\n",
    "ConfusionMatrixDisplay(lda_cm, display_labels=['Left','Still_Standing']).plot(ax=ax)\n",
    "plt.title('LDA Regression')"
   ]
  },
  {
   "cell_type": "markdown",
   "metadata": {},
   "source": [
    "По ConfusionMatrix видим что по ключевому для нас параметру - правильно предсказать уволившегося сотрудника:   \n",
    "модель **говорит правду в 28%**  и **72% ошибается**.  "
   ]
  },
  {
   "cell_type": "code",
   "execution_count": 329,
   "metadata": {},
   "outputs": [
    {
     "data": {
      "text/plain": [
       "0.7673333333333333"
      ]
     },
     "execution_count": 329,
     "metadata": {},
     "output_type": "execute_result"
    }
   ],
   "source": [
    "# проведем Логистическую регрессию\n",
    "from sklearn.linear_model import LogisticRegression\n",
    "from sklearn.metrics import accuracy_score\n",
    "\n",
    "lr = LogisticRegression(random_state = 30, solver = 'saga', max_iter=100000, warm_start = True, n_jobs = -1)\n",
    "lr.fit(X_train, y_train )\n",
    "lr_y_pred = lr.predict(X_test)\n",
    "accuracy_score(y_test, lr_y_pred)"
   ]
  },
  {
   "cell_type": "markdown",
   "metadata": {},
   "source": [
    "Логистическая регрессия - дает результат **76.7%** так ли это, построим confusion_matrix"
   ]
  },
  {
   "cell_type": "code",
   "execution_count": 347,
   "metadata": {},
   "outputs": [],
   "source": [
    "# построим confusion_matrix\n",
    "from sklearn.metrics import confusion_matrix\n",
    "\n",
    "lr_cm = confusion_matrix(y_test, lr_y_pred, labels=[1,0], normalize='true')"
   ]
  },
  {
   "cell_type": "code",
   "execution_count": 348,
   "metadata": {},
   "outputs": [
    {
     "data": {
      "text/plain": [
       "Text(0.5, 1.0, 'Logistic Regression')"
      ]
     },
     "execution_count": 348,
     "metadata": {},
     "output_type": "execute_result"
    },
    {
     "data": {
      "image/png": "[encoded data removed]",
      "text/plain": [
       "<Figure size 504x504 with 2 Axes>"
      ]
     },
     "metadata": {
      "needs_background": "light"
     },
     "output_type": "display_data"
    }
   ],
   "source": [
    "# Визуализируем\n",
    "\n",
    "from sklearn.metrics import ConfusionMatrixDisplay\n",
    "fig = plt.figure(figsize=(7,7))\n",
    "\n",
    "ax = fig.add_subplot(221)\n",
    "ConfusionMatrixDisplay(lr_cm, display_labels=['Left','Still_Standing']).plot(ax=ax)\n",
    "plt.title('Logistic Regression')"
   ]
  },
  {
   "cell_type": "markdown",
   "metadata": {},
   "source": [
    "По ConfusionMatrix видим что по ключевому для нас параметру - правильно предсказать уволившегося сотрудника:   \n",
    "модель **говорит правду в 26%**  и **74% ошибается**."
   ]
  },
  {
   "cell_type": "code",
   "execution_count": 401,
   "metadata": {},
   "outputs": [
    {
     "name": "stderr",
     "output_type": "stream",
     "text": [
      "C:\\ProgramData\\Anaconda3\\lib\\site-packages\\sklearn\\linear_model\\_sag.py:329: ConvergenceWarning: The max_iter was reached which means the coef_ did not converge\n",
      "  warnings.warn(\"The max_iter was reached which means \"\n"
     ]
    },
    {
     "data": {
      "text/plain": [
       "{'l1_ratio': 0}"
      ]
     },
     "execution_count": 401,
     "metadata": {},
     "output_type": "execute_result"
    }
   ],
   "source": [
    "from sklearn.model_selection import GridSearchCV\n",
    "\n",
    "changable_val = {'l1_ratio': [0, 0.1, 0.2, 0.3, 0.5,0.7,0.9,1]}\n",
    "\n",
    "lr_2 = GridSearchCV(LogisticRegression(penalty='elasticnet',solver='saga',tol=0.0001, max_iter=1000), \n",
    "                    changable_val, scoring = 'accuracy', cv = 10, n_jobs = -1 )\n",
    "lr_2.fit(X,y)\n",
    "\n",
    "!telegram-send 'Я_посчитал'\n",
    "lr_2.best_params_"
   ]
  },
  {
   "cell_type": "code",
   "execution_count": 402,
   "metadata": {
    "scrolled": true
   },
   "outputs": [
    {
     "data": {
      "text/plain": [
       "0.7646462085835001"
      ]
     },
     "execution_count": 402,
     "metadata": {},
     "output_type": "execute_result"
    }
   ],
   "source": [
    "lr_2.best_score_"
   ]
  },
  {
   "cell_type": "markdown",
   "metadata": {},
   "source": [
    "Grid Search логистической регрессии тоже выдал результат **76.4%** , построим confusion_matrix"
   ]
  },
  {
   "cell_type": "code",
   "execution_count": 406,
   "metadata": {},
   "outputs": [
    {
     "data": {
      "text/plain": [
       "Text(0.5, 1.0, 'Logistic Regression_GridSearch')"
      ]
     },
     "execution_count": 406,
     "metadata": {},
     "output_type": "execute_result"
    },
    {
     "data": {
      "image/png": "[encoded data removed]",
      "text/plain": [
       "<Figure size 504x504 with 6 Axes>"
      ]
     },
     "metadata": {
      "needs_background": "light"
     },
     "output_type": "display_data"
    }
   ],
   "source": [
    "# Confusion Matrix\n",
    "\n",
    "lr2_y_pred = lr_2.predict(X_test)\n",
    "\n",
    "lr2_cm = confusion_matrix(y_test, lr2_y_pred,labels=[1,0], normalize='true')\n",
    "\n",
    "fig = plt.figure(figsize=(7,7))\n",
    "\n",
    "ax = fig.add_subplot(221)\n",
    "ConfusionMatrixDisplay(lr_cm, display_labels=['Left','Still_Standing']).plot(ax=ax)\n",
    "plt.title('Logistic Regression')\n",
    "\n",
    "ax = fig.add_subplot(222)\n",
    "ConfusionMatrixDisplay(lda_cm, display_labels=['Left','Still_Standing']).plot(ax=ax)\n",
    "plt.title('LDA Regression')\n",
    "\n",
    "ax = fig.add_subplot(223)\n",
    "ConfusionMatrixDisplay(lr2_cm,display_labels=['Left','Still_Standing']).plot(ax = ax)\n",
    "plt.title('Logistic Regression_GridSearch')"
   ]
  },
  {
   "cell_type": "markdown",
   "metadata": {},
   "source": [
    "По ConfusionMatrix видим что по ключевому для нас параметру - правильно предсказать уволившегося сотрудника:   \n",
    "- LR модель **говорит правду в 26%**  и **74% ошибается**,\n",
    "- LR_gridSearch модель **говорит правду в 28%**  и **72% ошибается**,\n",
    "- LDA модель **говорит правду в 28%**  и **72% ошибается**."
   ]
  },
  {
   "cell_type": "code",
   "execution_count": 407,
   "metadata": {},
   "outputs": [],
   "source": [
    "del features, X, y, lr_cm, lr2_cm,lda_cm , X_test, X_train, y_test, y_train  #be RAM-friendly"
   ]
  }
 ],
 "metadata": {
  "kernelspec": {
   "display_name": "Python 3",
   "language": "python",
   "name": "python3"
  },
  "language_info": {
   "codemirror_mode": {
    "name": "ipython",
    "version": 3
   },
   "file_extension": ".py",
   "mimetype": "text/x-python",
   "name": "python",
   "nbconvert_exporter": "python",
   "pygments_lexer": "ipython3",
   "version": "3.8.5"
  }
 },
 "nbformat": 4,
 "nbformat_minor": 4
}
